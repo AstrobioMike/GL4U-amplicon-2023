{
 "cells": [
  {
   "cell_type": "markdown",
   "id": "72030809-0cca-406b-acce-34dd71d9bddb",
   "metadata": {
    "deletable": false,
    "tags": []
   },
   "source": [
    "<hr style=\"height:0px; visibility:hidden;\" />\n",
    "\n",
    "<h1><center>3. R introduction</center></h1>\n",
    "\n",
    "---\n",
    "\n",
    "[**Previous:** 2. Unix intro](02-unix-intro.ipynb)\n",
    "<br>\n",
    "\n",
    "<div style=\"text-align: right\"><a href=\"04-setup-QC.ipynb\"><b>Next:</b> 4. Setup and QC</a></div>\n",
    "\n",
    "---\n",
    "---"
   ]
  },
  {
   "cell_type": "markdown",
   "id": "42dd0735-389b-48a8-b6b7-a2901e97a41e",
   "metadata": {},
   "source": [
    "There are many different ways to process amplicon data, but the primary program we are using to use is built in R. So here we are going to develop a little foundation for working in R. Just like with Unix, none of this is about memorization. R in particular can become a little messy looking if we aren't yet used to it, so don't worry if things seem a little confusing. This is just about exposure for now 🙂\n",
    "\n",
    "---"
   ]
  },
  {
   "cell_type": "markdown",
   "id": "b12dc6d0-7177-4bad-ac34-41fc70881397",
   "metadata": {},
   "source": [
    "## What is R?\n",
    "\n",
    "R is like a big, glorious calculator. More specifically, it's a programming language and working environment for statistical analyses and figure generation, and it's pretty great. What adds to its value is that R is a completely open-source project and there are a tremendous number of people that contribute all kinds of different packages to it for everyone to use. Packages are bundles of code that perform specific tasks, and they are kind of like Apps in the sense that for most of the things we'd want to do, \"there's a package for that\". \n",
    "\n",
    "This page will cover a brief introduction to some key concepts in R, to give us a little bit of a foundation when we are using it to process and analyze our amplicon data."
   ]
  },
  {
   "cell_type": "markdown",
   "id": "a8492386-c54f-46b1-8e75-36c55ddfeae3",
   "metadata": {},
   "source": [
    "# PENDING"
   ]
  },
  {
   "cell_type": "markdown",
   "id": "8081ce21-f223-4899-a0e5-f2194bcd8acb",
   "metadata": {},
   "source": [
    "<br>\n",
    "\n",
    "---\n",
    "---\n",
    "\n",
    "[**Previous:** 2. Unix intro](02-unix-intro.ipynb)\n",
    "<br>\n",
    "\n",
    "<div style=\"text-align: right\"><a href=\"04-setup-QC.ipynb\"><b>Next:</b> 4. Setup and QC</a></div>\n"
   ]
  }
 ],
 "metadata": {
  "kernelspec": {
   "display_name": "R",
   "language": "R",
   "name": "ir"
  },
  "language_info": {
   "codemirror_mode": "r",
   "file_extension": ".r",
   "mimetype": "text/x-r-source",
   "name": "R",
   "pygments_lexer": "r",
   "version": "4.1.3"
  }
 },
 "nbformat": 4,
 "nbformat_minor": 5
}
