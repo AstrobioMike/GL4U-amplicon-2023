{
 "cells": [
  {
   "cell_type": "markdown",
   "metadata": {},
   "source": [
    "<hr style=\"height:0px; visibility:hidden;\" />\n",
    "\n",
    "<h1><center>3. R introduction</center></h1>\n",
    "\n",
    "<div class=\"alert alert-block alert-success\">\n",
    "There are many different ways to process amplicon data, but the primary program we are going to use is built in R. So here we are going to develop a little foundation for working in R. Just like with Unix, none of this is about memorization. R in particular can become a little messy looking if we aren't yet used to it, so don't worry if things seem a little confusing. This is just about exposure for now 🙂\n",
    "</div>\n",
    "\n",
    "---\n",
    "\n",
    "<center>This is notebook 3\n",
    "of 6 of <a href=\"00-overview.ipynb\">GL4U's Amplicon Bootcamp</a>. It is expected that the previous notebooks have been completed already.</center>\n",
    "\n",
    "---\n",
    "\n",
    "[**Previous:** 2. Unix intro](02-unix-intro.ipynb)\n",
    "<br>\n",
    "\n",
    "<div style=\"text-align: right\"><a href=\"04-setup-QC.ipynb\"><b>Next:</b> 4. Setup and QC</a></div>\n",
    "\n",
    "---\n",
    "---"
   ]
  },
  {
   "cell_type": "markdown",
   "metadata": {},
   "source": [
    "# Table of Contents\n",
    "\n",
    "* [0. What is R?](#zeroR)\n",
    "* [1. Introduction to programming in R](#oneR)\n",
    "    * [1a. Installing and loading packages/libraries in R](#lib)\n",
    "    * [1b. Defining locations and assigning variables in R](#variable)\n",
    "    * [1c. Loading and viewing a data file in R](#file)\n",
    "        * [help()](#help)\n",
    "        * [read.csv()](#read)\n",
    "        * [head()](#headR)\n",
    "        * [dim()](#dim)\n",
    "        * [summary()](#summary)\n",
    "    * [1d. Data frame manipulations](#df)\n",
    "        * [Add a value to all cells](#dfadd)\n",
    "        * [Take the log of all cells](#dflog)\n",
    "        * [Convert data frame to contain only integers](#dfint)\n",
    "        * [Slice a data frame column](#dfcol)\n",
    "        * [Slice a data frame row](#dfrow)\n",
    "        * [Filter data in a data frame](#dffilter)\n",
    "        * [Add columns to a data frame](#dfmore)\n",
    "        * [Combine data frames](#dfcombine)\n",
    "    * [1e. Export data from R](#export)\n",
    "    * [1f. Visualizations](#viz)\n",
    "\n",
    "<br>\n",
    "\n",
    "---\n",
    "---"
   ]
  },
  {
   "cell_type": "markdown",
   "metadata": {
    "deletable": false,
    "editable": false,
    "tags": []
   },
   "source": [
    "<a class=\"anchor\" id=\"zeroR\"></a>\n",
    "\n",
    "# 0. What is R?\n",
    "\n",
    "R is a programming language designed specifically for statistical analysis and computing. R has many bioinformatic libraries (bundles of code made for performing specific tasks) for statistical analysis, as well as for data visualization. What really adds to the power of R is that it is a completely free and open-source project, and there is an enormous community of people all over the world that create these libraries of code for all of us to use."
   ]
  },
  {
   "cell_type": "markdown",
   "metadata": {
    "deletable": false,
    "editable": false,
    "tags": []
   },
   "source": [
    "---"
   ]
  },
  {
   "cell_type": "markdown",
   "metadata": {},
   "source": [
    "<a class=\"anchor\" id=\"oneR\"></a>\n",
    "\n",
    "# 1. Introduction to programming in R\n",
    "\n",
    "Commands are more commonly called functions in R. The syntax of how these generally work in R looks like this: \n",
    "\n",
    "`function(arguments)`\n",
    "\n",
    "Where the function name comes first and is followed by parentheses which would contain any arguments if they were needed. \n",
    "\n",
    "Even for functions that don't require any arguments, the function name still typically needs to be followed by parentheses so R knows to execute it. So running a function that doesn't need any arguments would look like this:\n",
    "\n",
    "`function()`"
   ]
  },
  {
   "cell_type": "markdown",
   "metadata": {},
   "source": [
    "<a class=\"anchor\" id=\"lib\"></a>\n",
    "\n",
    "## 1a. Installing and loading packages/libraries in R\n",
    "\n",
    "An R library, or package, is a collection of functions, compiled code, and sometimes data. Some R packages are installed automatically with the base R installation, but there are tens of thousands that are not. The most prominent repositories for R packages are the [Comprehensive R Archive Network (CRAN)](https://cran.r-project.org/web/packages/) and [Bioconductor](https://www.bioconductor.org/). \n",
    "\n",
    "If we want to use a package, we first may need to install it if we don't have it already. The typical way to install a package from the CRAN repository is with the `install.packages()` function. For example, the following is the syntax to install the BiocManager package, which is then itself used to install any package from the [Bioconductor](https://www.bioconductor.org/) suite.\n",
    "\n",
    "`install.packages(\"BiocManager\")`\n",
    "\n",
    "<div class=\"alert alert-block alert-info\">\n",
    "    <b>Note</b>\n",
    "    <br>\n",
    "    You don't need to run any of the commands from this 1a section here, they are just here as examples.\n",
    "</div>\n",
    "\n",
    "[Bioconductor](https://www.bioconductor.org/) packages including [DESeq2](https://www.bioconductor.org/packages/release/bioc/html/DESeq2.html), a leading program for differential gene-expression analysis, are installed using the BiocManager `install()` function (instead of the `install.packages()` function). Here is how we would install DESeq2:\n",
    "\n",
    "`BiocManager::install(\"DESeq2\")`\n",
    "\n",
    "\n",
    "After a package is installed, we can access the function in it by prefacing the function name (`install(\"DESeq2\")` in the above example) with the package name and 2 colons (`BiocManager::` in the above example). Sometimes we may want to do that in order to be explicit, but when we will regularly be using many of the functions within a package it can often be more convenient to load the package. We do this with the `library()` function as shown in the example below:\n",
    "\n",
    "`library(DESeq2)`\n",
    "\n",
    "And then we can just type out the function names without the package name in front of them."
   ]
  },
  {
   "cell_type": "markdown",
   "metadata": {
    "deletable": false,
    "editable": false,
    "tags": []
   },
   "source": [
    "---"
   ]
  },
  {
   "cell_type": "markdown",
   "metadata": {},
   "source": [
    "<a class=\"anchor\" id=\"variable\"></a>\n",
    "\n",
    "## 1b. Defining locations and assigning variables in R\n",
    "\n",
    "#### getwd(), list.files(), and setwd()\n",
    "\n",
    "The `getwd()` function in R stands for \"get working directory\". This function lists the current working directory, and is similar to the `pwd` command in Unix. \n",
    "\n",
    "The `list.files()` function is similar to `ls` at the command line. It will list the contents of the directory we provide, or the current working directory by default.\n",
    "\n",
    "The `setwd()` function in R stands for \"set working directory\". This function allows us to change the current working directory, and is similar to the `cd` command in Unix.\n",
    "\n",
    "Let's run `getwd()` in the next cell to print the current working directory. This particular function doesn't require any arguments."
   ]
  },
  {
   "cell_type": "code",
   "execution_count": 5,
   "metadata": {
    "tags": []
   },
   "outputs": [
    {
     "data": {
      "text/html": [
       "'/Users/mdlee4/github/GL4U-amplicon-2023/notebooks'"
      ],
      "text/latex": [
       "'/Users/mdlee4/github/GL4U-amplicon-2023/notebooks'"
      ],
      "text/markdown": [
       "'/Users/mdlee4/github/GL4U-amplicon-2023/notebooks'"
      ],
      "text/plain": [
       "[1] \"/Users/mdlee4/github/GL4U-amplicon-2023/notebooks\""
      ]
     },
     "metadata": {},
     "output_type": "display_data"
    }
   ],
   "source": [
    "getwd()"
   ]
  },
  {
   "cell_type": "markdown",
   "metadata": {},
   "source": [
    "Notice that the output of `getwd()` has quotation marks around it. That is because R is treating the path as a **string**, which is a one-dimensional array of characters that only represents the textual information contained between the quotation marks.\n",
    "\n",
    "For example, 'Sally Ride was the first female American astronaut to go into space on June 18, 1983' is a string. \n",
    "\n",
    "In the next cell, try running `setwd()` to change the current working directory to the `intro/SolarSystem` directory you made in the Unix Intro. Then, run `getwd()` to check if you were successful. \n",
    "\n",
    "<div class=\"alert alert-block alert-info\">\n",
    "    <b>Note</b>\n",
    "    <br>\n",
    "    Remember that R expects paths as <b>strings</b>, so be sure to pass your path to <code>setwd()</code> as a string.\n",
    "</div>\n",
    " "
   ]
  },
  {
   "cell_type": "code",
   "execution_count": null,
   "metadata": {},
   "outputs": [],
   "source": []
  },
  {
   "cell_type": "code",
   "execution_count": null,
   "metadata": {},
   "outputs": [],
   "source": []
  },
  {
   "cell_type": "markdown",
   "metadata": {},
   "source": [
    "<div class=\"alert alert-block alert-success\">\n",
    "\n",
    "<details>\n",
    "<summary><b>Solution</b></summary>\n",
    "\n",
    "<br>\n",
    "\n",
    "This will set the current working directory to the right place using a *relative path* (which will work if we're in our home directory currently): \n",
    "\n",
    "`setwd(\"intro/SolarSystem\")`\n",
    "\n",
    "\n",
    "This will set the current working directory using an *absolute path* (which will work no matter where we are, so long as the directory exists):\n",
    "    \n",
    "`setwd(\"~/intro/SolarSystem\")`\n",
    "\n",
    "\n",
    "And this prints our current working directory:\n",
    "\n",
    "`getwd()`\n",
    "\n",
    "</details>\n",
    "</div>"
   ]
  },
  {
   "cell_type": "markdown",
   "metadata": {},
   "source": [
    "#### Assign variables in R\n",
    "\n",
    "In most programming languages, including R, we use **variables** to store information. Variables are named objects which refer to data stored in memory. In R, we use the `<-` operator to assign information to a variable. Remember that it is very important to choose informative, memorable, and short variable names.\n",
    "\n",
    "For example, in the next cell, we are going to use the variable `x` to refer to the result of the equation `2+4`."
   ]
  },
  {
   "cell_type": "code",
   "execution_count": null,
   "metadata": {},
   "outputs": [],
   "source": [
    "x <- 2+4"
   ]
  },
  {
   "cell_type": "markdown",
   "metadata": {},
   "source": [
    "We can access the data stored in the variable `x` by executing the variable name by itself:"
   ]
  },
  {
   "cell_type": "code",
   "execution_count": null,
   "metadata": {},
   "outputs": [],
   "source": [
    "x"
   ]
  },
  {
   "cell_type": "markdown",
   "metadata": {},
   "source": [
    "We can use variables to hold paths to locations so that we don't have to type out the path every time. Run the cell below to assign the path to the SolarSystem directory to the `workDir` variable. We chose the `workDir` variable as a short representation of the phrase \"work directory\"."
   ]
  },
  {
   "cell_type": "code",
   "execution_count": 9,
   "metadata": {
    "tags": []
   },
   "outputs": [],
   "source": [
    "workDir <- '~/intro/SolarSystem'"
   ]
  },
  {
   "cell_type": "markdown",
   "metadata": {},
   "source": [
    "Use the next cell to print the content of the `workDir` variable. Did you assign your variable successfully?"
   ]
  },
  {
   "cell_type": "code",
   "execution_count": null,
   "metadata": {
    "tags": []
   },
   "outputs": [],
   "source": []
  },
  {
   "cell_type": "markdown",
   "metadata": {},
   "source": [
    "<div class=\"alert alert-block alert-success\">\n",
    "\n",
    "<details>\n",
    "<summary><b>Solution</b></summary>\n",
    "\n",
    "<br>\n",
    "\n",
    "Running just the variable name will print out its contents:\n",
    "\n",
    "`workDir`\n",
    "\n",
    "</details>\n",
    "</div>"
   ]
  },
  {
   "cell_type": "markdown",
   "metadata": {},
   "source": [
    "We can also use variables to store large amounts of data, such as assigning data within a matrix to a variable as you'll see in the next section.\n",
    "\n",
    "<div class=\"alert alert-block alert-warning\">\n",
    "<center><b>WARNING</b></center>\n",
    "Never name your variable after a common function or a built-in variable in R. For a list of built-in R functions and variables, see \"Appendix D Function and variable index\" of the <a href=\"https://cran.r-project.org/doc/manuals/r-release/R-intro.pdf\">R manual (pdf)</a>.\n",
    "</div>\n",
    "\n"
   ]
  },
  {
   "cell_type": "markdown",
   "metadata": {
    "editable": false,
    "tags": []
   },
   "source": [
    "---"
   ]
  },
  {
   "cell_type": "markdown",
   "metadata": {},
   "source": [
    "<a class=\"anchor\" id=\"file\"></a>\n",
    "\n",
    "## 1c. Loading and viewing a data file in R\n",
    "\n",
    "To begin working with a data file in R, we first have to load (aka read in) the file. How you load the data file in R will depend on the file type. R has several built-in functions for reading in common file types, including .csv (comma-separated values) files and .tsv (tab-separated-values) files.\n",
    "\n",
    "In this tutorial, we are going to read in a .csv file.\n",
    "\n",
    "To do this, we will use a R function called `read.table()`. This function will create a data frame, which is a very common data structure in R. **Note:** A data frame is similar to a matrix. "
   ]
  },
  {
   "cell_type": "markdown",
   "metadata": {
    "tags": []
   },
   "source": [
    "<a class=\"anchor\" id=\"help\"></a>\n",
    "#### help()\n",
    "\n",
    "Before reading in the .csv file, we'll use the `help()` function in R to look at the arguments available for the `read.table()` function. (Note: this is similar to the `--help` option that's used in most Unix commands). \n",
    "\n",
    "<div class=\"alert alert-block alert-info\">\n",
    "<b>Note</b>\n",
    "<br>\n",
    "    \n",
    "There is a lot of information in the output from the following <code>help()</code> menu. Often reading data into R is something we will try, then check what was read in, then try again as we figure out which arguments are needed for our particular data to be read in properly. Scan through the help menu, and pay particular note to `header`, `sep`, and `row.names`, as those are relevant to the example data we are going to use, but don't worry about reading *everything* in there.\n",
    "\n",
    "After looking at the help information, you can comment out this command by adding a <code>#</code> at the beginning of the line, and then rerun the cell to hide the output. Or you can select the output block, and click the vertical blue bar to its left to compress it.\n",
    "\n",
    "</div>\n"
   ]
  },
  {
   "cell_type": "code",
   "execution_count": 45,
   "metadata": {
    "tags": []
   },
   "outputs": [
    {
     "data": {
      "text/html": [
       "\n",
       "<table width=\"100%\" summary=\"page for read.table {utils}\"><tr><td>read.table {utils}</td><td style=\"text-align: right;\">R Documentation</td></tr></table>\n",
       "\n",
       "<h2>Data Input</h2>\n",
       "\n",
       "<h3>Description</h3>\n",
       "\n",
       "<p>Reads a file in table format and creates a data frame from it, with\n",
       "cases corresponding to lines and variables to fields in the file.\n",
       "</p>\n",
       "\n",
       "\n",
       "<h3>Usage</h3>\n",
       "\n",
       "<pre>\n",
       "read.table(file, header = FALSE, sep = \"\", quote = \"\\\"'\",\n",
       "           dec = \".\", numerals = c(\"allow.loss\", \"warn.loss\", \"no.loss\"),\n",
       "           row.names, col.names, as.is = !stringsAsFactors,\n",
       "           na.strings = \"NA\", colClasses = NA, nrows = -1,\n",
       "           skip = 0, check.names = TRUE, fill = !blank.lines.skip,\n",
       "           strip.white = FALSE, blank.lines.skip = TRUE,\n",
       "           comment.char = \"#\",\n",
       "           allowEscapes = FALSE, flush = FALSE,\n",
       "           stringsAsFactors = FALSE,\n",
       "           fileEncoding = \"\", encoding = \"unknown\", text, skipNul = FALSE)\n",
       "\n",
       "read.csv(file, header = TRUE, sep = \",\", quote = \"\\\"\",\n",
       "         dec = \".\", fill = TRUE, comment.char = \"\", ...)\n",
       "\n",
       "read.csv2(file, header = TRUE, sep = \";\", quote = \"\\\"\",\n",
       "          dec = \",\", fill = TRUE, comment.char = \"\", ...)\n",
       "\n",
       "read.delim(file, header = TRUE, sep = \"\\t\", quote = \"\\\"\",\n",
       "           dec = \".\", fill = TRUE, comment.char = \"\", ...)\n",
       "\n",
       "read.delim2(file, header = TRUE, sep = \"\\t\", quote = \"\\\"\",\n",
       "            dec = \",\", fill = TRUE, comment.char = \"\", ...)\n",
       "</pre>\n",
       "\n",
       "\n",
       "<h3>Arguments</h3>\n",
       "\n",
       "<table summary=\"R argblock\">\n",
       "<tr valign=\"top\"><td><code>file</code></td>\n",
       "<td>\n",
       "<p>the name of the file which the data are to be read from.\n",
       "Each row of the table appears as one line of the file.  If it does\n",
       "not contain an <em>absolute</em> path, the file name is\n",
       "<em>relative</em> to the current working directory,\n",
       "<code>getwd()</code>. Tilde-expansion is performed where supported.\n",
       "This can be a compressed file (see <code>file</code>).\n",
       "</p>\n",
       "<p>Alternatively, <code>file</code> can be a readable text-mode\n",
       "connection (which will be opened for reading if\n",
       "necessary, and if so <code>close</code>d (and hence destroyed) at\n",
       "the end of the function call).  (If <code>stdin()</code> is used,\n",
       "the prompts for lines may be somewhat confusing.  Terminate input\n",
       "with a blank line or an EOF signal, <code>Ctrl-D</code> on Unix and\n",
       "<code>Ctrl-Z</code> on Windows.  Any pushback on <code>stdin()</code> will be\n",
       "cleared before return.)\n",
       "</p>\n",
       "<p><code>file</code> can also be a complete URL.  (For the supported URL\n",
       "schemes, see the &lsquo;URLs&rsquo; section of the help for\n",
       "<code>url</code>.)\n",
       "</p>\n",
       "</td></tr>\n",
       "<tr valign=\"top\"><td><code>header</code></td>\n",
       "<td>\n",
       "<p>a logical value indicating whether the file contains the\n",
       "names of the variables as its first line.  If missing, the value is\n",
       "determined from the file format: <code>header</code> is set to <code>TRUE</code>\n",
       "if and only if the first row contains one fewer field than the\n",
       "number of columns.</p>\n",
       "</td></tr>\n",
       "<tr valign=\"top\"><td><code>sep</code></td>\n",
       "<td>\n",
       "<p>the field separator character.  Values on each line of the\n",
       "file are separated by this character.  If <code>sep = \"\"</code> (the\n",
       "default for <code>read.table</code>) the separator is &lsquo;white space&rsquo;,\n",
       "that is one or more spaces, tabs, newlines or carriage returns.</p>\n",
       "</td></tr>\n",
       "<tr valign=\"top\"><td><code>quote</code></td>\n",
       "<td>\n",
       "<p>the set of quoting characters. To disable quoting\n",
       "altogether, use <code>quote = \"\"</code>.  See <code>scan</code> for the\n",
       "behaviour on quotes embedded in quotes.  Quoting is only considered\n",
       "for columns read as character, which is all of them unless\n",
       "<code>colClasses</code> is specified.</p>\n",
       "</td></tr>\n",
       "<tr valign=\"top\"><td><code>dec</code></td>\n",
       "<td>\n",
       "<p>the character used in the file for decimal points.</p>\n",
       "</td></tr>\n",
       "<tr valign=\"top\"><td><code>numerals</code></td>\n",
       "<td>\n",
       "<p>string indicating how to convert numbers whose conversion\n",
       "to double precision would lose accuracy, see <code>type.convert</code>.\n",
       "Can be abbreviated.  (Applies also to complex-number inputs.)</p>\n",
       "</td></tr>\n",
       "<tr valign=\"top\"><td><code>row.names</code></td>\n",
       "<td>\n",
       "<p>a vector of row names.  This can be a vector giving\n",
       "the actual row names, or a single number giving the column of the\n",
       "table which contains the row names, or character string giving the\n",
       "name of the table column containing the row names.\n",
       "</p>\n",
       "<p>If there is a header and the first row contains one fewer field than\n",
       "the number of columns, the first column in the input is used for the\n",
       "row names.  Otherwise if <code>row.names</code> is missing, the rows are\n",
       "numbered.\n",
       "</p>\n",
       "<p>Using <code>row.names = NULL</code> forces row numbering. Missing or\n",
       "<code>NULL</code> <code>row.names</code> generate row names that are considered\n",
       "to be &lsquo;automatic&rsquo; (and not preserved by <code>as.matrix</code>).\n",
       "</p>\n",
       "</td></tr>\n",
       "<tr valign=\"top\"><td><code>col.names</code></td>\n",
       "<td>\n",
       "<p>a vector of optional names for the variables.\n",
       "The default is to use <code>\"V\"</code> followed by the column number.</p>\n",
       "</td></tr>\n",
       "<tr valign=\"top\"><td><code>as.is</code></td>\n",
       "<td>\n",
       "<p>controls conversion of character variables (insofar as\n",
       "they are not converted to logical, numeric or complex) to factors,\n",
       "if not otherwise specified by <code>colClasses</code>.\n",
       "Its value is either a vector of logicals (values are recycled if\n",
       "necessary), or a vector of numeric or character indices which\n",
       "specify which columns should not be converted to factors.\n",
       "</p>\n",
       "<p>Note: to suppress all conversions including those of numeric\n",
       "columns, set <code>colClasses = \"character\"</code>.\n",
       "</p>\n",
       "<p>Note that <code>as.is</code> is specified per column (not per\n",
       "variable) and so includes the column of row names (if any) and any\n",
       "columns to be skipped.\n",
       "</p>\n",
       "</td></tr>\n",
       "<tr valign=\"top\"><td><code>na.strings</code></td>\n",
       "<td>\n",
       "<p>a character vector of strings which are to be\n",
       "interpreted as <code>NA</code> values.  Blank fields are also\n",
       "considered to be missing values in logical, integer, numeric and\n",
       "complex fields.  Note that the test happens <em>after</em> \n",
       "white space is stripped from the input, so <code>na.strings</code> \n",
       "values may need their own white space stripped in advance.</p>\n",
       "</td></tr>\n",
       "<tr valign=\"top\"><td><code>colClasses</code></td>\n",
       "<td>\n",
       "<p>character.  A vector of classes to be assumed for\n",
       "the columns.  If unnamed, recycled as necessary.  If named, names\n",
       "are matched with unspecified values being taken to be <code>NA</code>.\n",
       "</p>\n",
       "<p>Possible values are <code>NA</code> (the default, when\n",
       "<code>type.convert</code> is used), <code>\"NULL\"</code> (when the column\n",
       "is skipped), one of the atomic vector classes (logical, integer,\n",
       "numeric, complex, character, raw), or <code>\"factor\"</code>, <code>\"Date\"</code>\n",
       "or <code>\"POSIXct\"</code>.  Otherwise there needs to be an <code>as</code>\n",
       "method (from package <span class=\"pkg\">methods</span>) for conversion from\n",
       "<code>\"character\"</code> to the specified formal class.\n",
       "</p>\n",
       "<p>Note that <code>colClasses</code> is specified per column (not per\n",
       "variable) and so includes the column of row names (if any).\n",
       "</p>\n",
       "</td></tr>\n",
       "<tr valign=\"top\"><td><code>nrows</code></td>\n",
       "<td>\n",
       "<p>integer: the maximum number of rows to read in.  Negative\n",
       "and other invalid values are ignored.</p>\n",
       "</td></tr>\n",
       "<tr valign=\"top\"><td><code>skip</code></td>\n",
       "<td>\n",
       "<p>integer: the number of lines of the data file to skip before\n",
       "beginning to read data.</p>\n",
       "</td></tr>\n",
       "<tr valign=\"top\"><td><code>check.names</code></td>\n",
       "<td>\n",
       "<p>logical.  If <code>TRUE</code> then the names of the\n",
       "variables in the data frame are checked to ensure that they are\n",
       "syntactically valid variable names.  If necessary they are adjusted\n",
       "(by <code>make.names</code>) so that they are, and also to ensure\n",
       "that there are no duplicates.</p>\n",
       "</td></tr>\n",
       "<tr valign=\"top\"><td><code>fill</code></td>\n",
       "<td>\n",
       "<p>logical. If <code>TRUE</code> then in case the rows have unequal\n",
       "length, blank fields are implicitly added.  See &lsquo;Details&rsquo;.</p>\n",
       "</td></tr>\n",
       "<tr valign=\"top\"><td><code>strip.white</code></td>\n",
       "<td>\n",
       "<p>logical. Used only when <code>sep</code> has\n",
       "been specified, and allows the stripping of leading and trailing\n",
       "white space from unquoted <code>character</code> fields (<code>numeric</code> fields\n",
       "are always stripped).  See <code>scan</code> for further details\n",
       "(including the exact meaning of &lsquo;white space&rsquo;),\n",
       "remembering that the columns may include the row names.</p>\n",
       "</td></tr>\n",
       "<tr valign=\"top\"><td><code>blank.lines.skip</code></td>\n",
       "<td>\n",
       "<p>logical: if <code>TRUE</code> blank lines in the\n",
       "input are ignored.</p>\n",
       "</td></tr>\n",
       "<tr valign=\"top\"><td><code>comment.char</code></td>\n",
       "<td>\n",
       "<p>character: a character vector of length one\n",
       "containing a single character or an empty string.  Use <code>\"\"</code> to\n",
       "turn off the interpretation of comments altogether.</p>\n",
       "</td></tr>\n",
       "<tr valign=\"top\"><td><code>allowEscapes</code></td>\n",
       "<td>\n",
       "<p>logical.  Should C-style escapes such as\n",
       "<span class=\"samp\">\\n</span> be processed or read verbatim (the default)?   Note that if\n",
       "not within quotes these could be interpreted as a delimiter (but not\n",
       "as a comment character).  For more details see <code>scan</code>.</p>\n",
       "</td></tr>\n",
       "<tr valign=\"top\"><td><code>flush</code></td>\n",
       "<td>\n",
       "<p>logical: if <code>TRUE</code>, <code>scan</code> will flush to the\n",
       "end of the line after reading the last of the fields requested.\n",
       "This allows putting comments after the last field.</p>\n",
       "</td></tr>\n",
       "<tr valign=\"top\"><td><code>stringsAsFactors</code></td>\n",
       "<td>\n",
       "<p>logical: should character vectors be converted\n",
       "to factors?  Note that this is overridden by <code>as.is</code> and\n",
       "<code>colClasses</code>, both of which allow finer control.</p>\n",
       "</td></tr>\n",
       "<tr valign=\"top\"><td><code>fileEncoding</code></td>\n",
       "<td>\n",
       "<p>character string: if non-empty declares the\n",
       "encoding used on a file (not a connection) so the character data can\n",
       "be re-encoded.  See the &lsquo;Encoding&rsquo; section of the help for\n",
       "<code>file</code>, the &lsquo;R Data Import/Export&rsquo; manual and\n",
       "&lsquo;Note&rsquo;.\n",
       "</p>\n",
       "</td></tr>\n",
       "<tr valign=\"top\"><td><code>encoding</code></td>\n",
       "<td>\n",
       "<p>encoding to be assumed for input strings.  It is\n",
       "used to mark character strings as known to be in\n",
       "Latin-1 or UTF-8 (see <code>Encoding</code>): it is not used to\n",
       "re-encode the input, but allows <span style=\"font-family: Courier New, Courier; color: #666666;\"><b>R</b></span> to handle encoded strings in\n",
       "their native encoding (if one of those two).  See &lsquo;Value&rsquo;\n",
       "and &lsquo;Note&rsquo;.\n",
       "</p>\n",
       "</td></tr>\n",
       "<tr valign=\"top\"><td><code>text</code></td>\n",
       "<td>\n",
       "<p>character string: if <code>file</code> is not supplied and this is,\n",
       "then data are read from the value of <code>text</code> via a text connection.\n",
       "Notice that a literal string can be used to include (small) data sets\n",
       "within R code.\n",
       "</p>\n",
       "</td></tr>\n",
       "<tr valign=\"top\"><td><code>skipNul</code></td>\n",
       "<td>\n",
       "<p>logical: should nuls be skipped?</p>\n",
       "</td></tr>\n",
       "<tr valign=\"top\"><td><code>...</code></td>\n",
       "<td>\n",
       "<p>Further arguments to be passed to <code>read.table</code>.</p>\n",
       "</td></tr>\n",
       "</table>\n",
       "\n",
       "\n",
       "<h3>Details</h3>\n",
       "\n",
       "<p>This function is the principal means of reading tabular data into <span style=\"font-family: Courier New, Courier; color: #666666;\"><b>R</b></span>.\n",
       "</p>\n",
       "<p>Unless <code>colClasses</code> is specified, all columns are read as\n",
       "character columns and then converted using <code>type.convert</code>\n",
       "to logical, integer, numeric, complex or (depending on <code>as.is</code>)\n",
       "factor as appropriate.  Quotes are (by default) interpreted in all\n",
       "fields, so a column of values like <code>\"42\"</code> will result in an\n",
       "integer column.\n",
       "</p>\n",
       "<p>A field or line is &lsquo;blank&rsquo; if it contains nothing (except\n",
       "whitespace if no separator is specified) before a comment character or\n",
       "the end of the field or line.\n",
       "</p>\n",
       "<p>If <code>row.names</code> is not specified and the header line has one less\n",
       "entry than the number of columns, the first column is taken to be the\n",
       "row names.  This allows data frames to be read in from the format in\n",
       "which they are printed.  If <code>row.names</code> is specified and does\n",
       "not refer to the first column, that column is discarded from such files.\n",
       "</p>\n",
       "<p>The number of data columns is determined by looking at the first five\n",
       "lines of input (or the whole input if it has less than five lines), or\n",
       "from the length of <code>col.names</code> if it is specified and is longer.\n",
       "This could conceivably be wrong if <code>fill</code> or\n",
       "<code>blank.lines.skip</code> are true, so specify <code>col.names</code> if\n",
       "necessary (as in the &lsquo;Examples&rsquo;).\n",
       "</p>\n",
       "<p><code>read.csv</code> and <code>read.csv2</code> are identical to\n",
       "<code>read.table</code> except for the defaults.  They are intended for\n",
       "reading &lsquo;comma separated value&rsquo; files (&lsquo;<span class=\"file\">.csv</span>&rsquo;) or\n",
       "(<code>read.csv2</code>) the variant used in countries that use a comma as\n",
       "decimal point and a semicolon as field separator.  Similarly,\n",
       "<code>read.delim</code> and <code>read.delim2</code> are for reading delimited\n",
       "files, defaulting to the TAB character for the delimiter.  Notice that\n",
       "<code>header = TRUE</code> and <code>fill = TRUE</code> in these variants, and\n",
       "that the comment character is disabled.\n",
       "</p>\n",
       "<p>The rest of the line after a comment character is skipped; quotes\n",
       "are not processed in comments.  Complete comment lines are allowed\n",
       "provided <code>blank.lines.skip = TRUE</code>; however, comment lines prior\n",
       "to the header must have the comment character in the first non-blank\n",
       "column.\n",
       "</p>\n",
       "<p>Quoted fields with embedded newlines are supported except after a\n",
       "comment character.  Embedded nuls are unsupported: skipping them (with\n",
       "<code>skipNul = TRUE</code>) may work.\n",
       "</p>\n",
       "\n",
       "\n",
       "<h3>Value</h3>\n",
       "\n",
       "<p>A data frame (<code>data.frame</code>) containing a representation of\n",
       "the data in the file.\n",
       "</p>\n",
       "<p>Empty input is an error unless <code>col.names</code> is specified, when a\n",
       "0-row data frame is returned: similarly giving just a header line if\n",
       "<code>header = TRUE</code> results in a 0-row data frame.  Note that in\n",
       "either case the columns will be logical unless <code>colClasses</code> was\n",
       "supplied.\n",
       "</p>\n",
       "<p>Character strings in the result (including factor levels) will have a\n",
       "declared encoding if <code>encoding</code> is <code>\"latin1\"</code> or\n",
       "<code>\"UTF-8\"</code>.\n",
       "</p>\n",
       "\n",
       "\n",
       "<h3>CSV files</h3>\n",
       "\n",
       "<p>See the help on <code>write.csv</code> for the various conventions\n",
       "for <code>.csv</code> files.  The commonest form of CSV file with row names\n",
       "needs to be read with <code>read.csv(..., row.names = 1)</code> to use the\n",
       "names in the first columnn of the file as row names.\n",
       "</p>\n",
       "\n",
       "\n",
       "<h3>Memory usage</h3>\n",
       "\n",
       "<p>These functions can use a surprising amount of memory when reading\n",
       "large files.  There is extensive discussion in the &lsquo;R Data\n",
       "Import/Export&rsquo; manual, supplementing the notes here.\n",
       "</p>\n",
       "<p>Less memory will be used if <code>colClasses</code> is specified as one of\n",
       "the six atomic vector classes.  This can be particularly so when\n",
       "reading a column that takes many distinct numeric values, as storing\n",
       "each distinct value as a character string can take up to 14 times as\n",
       "much memory as storing it as an integer.\n",
       "</p>\n",
       "<p>Using <code>nrows</code>, even as a mild over-estimate, will help memory\n",
       "usage.\n",
       "</p>\n",
       "<p>Using <code>comment.char = \"\"</code> will be appreciably faster than the\n",
       "<code>read.table</code> default.\n",
       "</p>\n",
       "<p><code>read.table</code> is not the right tool for reading large matrices,\n",
       "especially those with many columns: it is designed to read\n",
       "<em>data frames</em> which may have columns of very different classes.\n",
       "Use <code>scan</code> instead for matrices.\n",
       "</p>\n",
       "\n",
       "\n",
       "<h3>Note</h3>\n",
       "\n",
       "<p>The columns referred to in <code>as.is</code> and <code>colClasses</code> include\n",
       "the column of row names (if any).\n",
       "</p>\n",
       "<p>There are two approaches for reading input that is not in the local\n",
       "encoding.  If the input is known to be UTF-8 or Latin1, use the\n",
       "<code>encoding</code> argument to declare that.  If the input is in some\n",
       "other encoding, then it may be translated on input.  The <code>fileEncoding</code>\n",
       "argument achieves this by setting up a connection to do the re-encoding\n",
       "into the current locale.  Note that on Windows or other systems not running\n",
       "in a UTF-8 locale, this may not be possible.\n",
       "</p>\n",
       "\n",
       "\n",
       "<h3>References</h3>\n",
       "\n",
       "<p>Chambers, J. M. (1992)\n",
       "<em>Data for models.</em>\n",
       "Chapter 3 of <em>Statistical Models in S</em>\n",
       "eds J. M. Chambers and T. J. Hastie, Wadsworth &amp; Brooks/Cole.\n",
       "</p>\n",
       "\n",
       "\n",
       "<h3>See Also</h3>\n",
       "\n",
       "<p>The &lsquo;R Data Import/Export&rsquo; manual.\n",
       "</p>\n",
       "<p><code>scan</code>, <code>type.convert</code>,\n",
       "<code>read.fwf</code> for reading <em>f</em>ixed <em>w</em>idth\n",
       "<em>f</em>ormatted input;\n",
       "<code>write.table</code>;\n",
       "<code>data.frame</code>.\n",
       "</p>\n",
       "<p><code>count.fields</code> can be useful to determine problems with\n",
       "reading files which result in reports of incorrect record lengths (see\n",
       "the &lsquo;Examples&rsquo; below).\n",
       "</p>\n",
       "<p><a href=\"https://tools.ietf.org/html/rfc4180\">https://tools.ietf.org/html/rfc4180</a> for the IANA definition of\n",
       "CSV files (which requires comma as separator and CRLF line endings).\n",
       "</p>\n",
       "\n",
       "\n",
       "<h3>Examples</h3>\n",
       "\n",
       "<pre>\n",
       "## using count.fields to handle unknown maximum number of fields\n",
       "## when fill = TRUE\n",
       "test1 &lt;- c(1:5, \"6,7\", \"8,9,10\")\n",
       "tf &lt;- tempfile()\n",
       "writeLines(test1, tf)\n",
       "\n",
       "read.csv(tf, fill = TRUE) # 1 column\n",
       "ncol &lt;- max(count.fields(tf, sep = \",\"))\n",
       "read.csv(tf, fill = TRUE, header = FALSE,\n",
       "         col.names = paste0(\"V\", seq_len(ncol)))\n",
       "unlink(tf)\n",
       "\n",
       "## \"Inline\" data set, using text=\n",
       "## Notice that leading and trailing empty lines are auto-trimmed\n",
       "\n",
       "read.table(header = TRUE, text = \"\n",
       "a b\n",
       "1 2\n",
       "3 4\n",
       "\")\n",
       "</pre>\n",
       "\n",
       "<hr /><div style=\"text-align: center;\">[Package <em>utils</em> version 4.1.3 ]</div>"
      ],
      "text/latex": [
       "\\inputencoding{utf8}\n",
       "\\HeaderA{read.table}{Data Input}{read.table}\n",
       "\\aliasA{read.csv}{read.table}{read.csv}\n",
       "\\aliasA{read.csv2}{read.table}{read.csv2}\n",
       "\\aliasA{read.delim}{read.table}{read.delim}\n",
       "\\aliasA{read.delim2}{read.table}{read.delim2}\n",
       "\\keyword{file}{read.table}\n",
       "\\keyword{connection}{read.table}\n",
       "%\n",
       "\\begin{Description}\\relax\n",
       "Reads a file in table format and creates a data frame from it, with\n",
       "cases corresponding to lines and variables to fields in the file.\n",
       "\\end{Description}\n",
       "%\n",
       "\\begin{Usage}\n",
       "\\begin{verbatim}\n",
       "read.table(file, header = FALSE, sep = \"\", quote = \"\\\"'\",\n",
       "           dec = \".\", numerals = c(\"allow.loss\", \"warn.loss\", \"no.loss\"),\n",
       "           row.names, col.names, as.is = !stringsAsFactors,\n",
       "           na.strings = \"NA\", colClasses = NA, nrows = -1,\n",
       "           skip = 0, check.names = TRUE, fill = !blank.lines.skip,\n",
       "           strip.white = FALSE, blank.lines.skip = TRUE,\n",
       "           comment.char = \"#\",\n",
       "           allowEscapes = FALSE, flush = FALSE,\n",
       "           stringsAsFactors = FALSE,\n",
       "           fileEncoding = \"\", encoding = \"unknown\", text, skipNul = FALSE)\n",
       "\n",
       "read.csv(file, header = TRUE, sep = \",\", quote = \"\\\"\",\n",
       "         dec = \".\", fill = TRUE, comment.char = \"\", ...)\n",
       "\n",
       "read.csv2(file, header = TRUE, sep = \";\", quote = \"\\\"\",\n",
       "          dec = \",\", fill = TRUE, comment.char = \"\", ...)\n",
       "\n",
       "read.delim(file, header = TRUE, sep = \"\\t\", quote = \"\\\"\",\n",
       "           dec = \".\", fill = TRUE, comment.char = \"\", ...)\n",
       "\n",
       "read.delim2(file, header = TRUE, sep = \"\\t\", quote = \"\\\"\",\n",
       "            dec = \",\", fill = TRUE, comment.char = \"\", ...)\n",
       "\\end{verbatim}\n",
       "\\end{Usage}\n",
       "%\n",
       "\\begin{Arguments}\n",
       "\\begin{ldescription}\n",
       "\\item[\\code{file}] the name of the file which the data are to be read from.\n",
       "Each row of the table appears as one line of the file.  If it does\n",
       "not contain an \\emph{absolute} path, the file name is\n",
       "\\emph{relative} to the current working directory,\n",
       "\\code{\\LinkA{getwd}{getwd}()}. Tilde-expansion is performed where supported.\n",
       "This can be a compressed file (see \\code{\\LinkA{file}{file}}).\n",
       "\n",
       "Alternatively, \\code{file} can be a readable text-mode\n",
       "\\LinkA{connection}{connection} (which will be opened for reading if\n",
       "necessary, and if so \\code{\\LinkA{close}{close}}d (and hence destroyed) at\n",
       "the end of the function call).  (If \\code{\\LinkA{stdin}{stdin}()} is used,\n",
       "the prompts for lines may be somewhat confusing.  Terminate input\n",
       "with a blank line or an EOF signal, \\code{Ctrl-D} on Unix and\n",
       "\\code{Ctrl-Z} on Windows.  Any pushback on \\code{stdin()} will be\n",
       "cleared before return.)\n",
       "\n",
       "\\code{file} can also be a complete URL.  (For the supported URL\n",
       "schemes, see the `URLs' section of the help for\n",
       "\\code{\\LinkA{url}{url}}.)\n",
       "\n",
       "\n",
       "\\item[\\code{header}] a logical value indicating whether the file contains the\n",
       "names of the variables as its first line.  If missing, the value is\n",
       "determined from the file format: \\code{header} is set to \\code{TRUE}\n",
       "if and only if the first row contains one fewer field than the\n",
       "number of columns.\n",
       "\n",
       "\\item[\\code{sep}] the field separator character.  Values on each line of the\n",
       "file are separated by this character.  If \\code{sep = \"\"} (the\n",
       "default for \\code{read.table}) the separator is `white space',\n",
       "that is one or more spaces, tabs, newlines or carriage returns.\n",
       "\n",
       "\\item[\\code{quote}] the set of quoting characters. To disable quoting\n",
       "altogether, use \\code{quote = \"\"}.  See \\code{\\LinkA{scan}{scan}} for the\n",
       "behaviour on quotes embedded in quotes.  Quoting is only considered\n",
       "for columns read as character, which is all of them unless\n",
       "\\code{colClasses} is specified.\n",
       "\n",
       "\\item[\\code{dec}] the character used in the file for decimal points.\n",
       "\n",
       "\\item[\\code{numerals}] string indicating how to convert numbers whose conversion\n",
       "to double precision would lose accuracy, see \\code{\\LinkA{type.convert}{type.convert}}.\n",
       "Can be abbreviated.  (Applies also to complex-number inputs.)\n",
       "\n",
       "\\item[\\code{row.names}] a vector of row names.  This can be a vector giving\n",
       "the actual row names, or a single number giving the column of the\n",
       "table which contains the row names, or character string giving the\n",
       "name of the table column containing the row names.\n",
       "\n",
       "If there is a header and the first row contains one fewer field than\n",
       "the number of columns, the first column in the input is used for the\n",
       "row names.  Otherwise if \\code{row.names} is missing, the rows are\n",
       "numbered.\n",
       "\n",
       "Using \\code{row.names = NULL} forces row numbering. Missing or\n",
       "\\code{NULL} \\code{row.names} generate row names that are considered\n",
       "to be `automatic' (and not preserved by \\code{\\LinkA{as.matrix}{as.matrix}}).\n",
       "\n",
       "\n",
       "\\item[\\code{col.names}] a vector of optional names for the variables.\n",
       "The default is to use \\code{\"V\"} followed by the column number.\n",
       "\n",
       "\\item[\\code{as.is}] controls conversion of character variables (insofar as\n",
       "they are not converted to logical, numeric or complex) to factors,\n",
       "if not otherwise specified by \\code{colClasses}.\n",
       "Its value is either a vector of logicals (values are recycled if\n",
       "necessary), or a vector of numeric or character indices which\n",
       "specify which columns should not be converted to factors.\n",
       "\n",
       "Note: to suppress all conversions including those of numeric\n",
       "columns, set \\code{colClasses = \"character\"}.\n",
       "\n",
       "Note that \\code{as.is} is specified per column (not per\n",
       "variable) and so includes the column of row names (if any) and any\n",
       "columns to be skipped.\n",
       "\n",
       "\n",
       "\\item[\\code{na.strings}] a character vector of strings which are to be\n",
       "interpreted as \\code{\\LinkA{NA}{NA}} values.  Blank fields are also\n",
       "considered to be missing values in logical, integer, numeric and\n",
       "complex fields.  Note that the test happens \\emph{after} \n",
       "white space is stripped from the input, so \\code{na.strings} \n",
       "values may need their own white space stripped in advance.\n",
       "\n",
       "\\item[\\code{colClasses}] character.  A vector of classes to be assumed for\n",
       "the columns.  If unnamed, recycled as necessary.  If named, names\n",
       "are matched with unspecified values being taken to be \\code{NA}.\n",
       "\n",
       "Possible values are \\code{NA} (the default, when\n",
       "\\code{\\LinkA{type.convert}{type.convert}} is used), \\code{\"NULL\"} (when the column\n",
       "is skipped), one of the atomic vector classes (logical, integer,\n",
       "numeric, complex, character, raw), or \\code{\"factor\"}, \\code{\"Date\"}\n",
       "or \\code{\"POSIXct\"}.  Otherwise there needs to be an \\code{as}\n",
       "method (from package \\pkg{methods}) for conversion from\n",
       "\\code{\"character\"} to the specified formal class.\n",
       "\n",
       "Note that \\code{colClasses} is specified per column (not per\n",
       "variable) and so includes the column of row names (if any).\n",
       "\n",
       "\n",
       "\\item[\\code{nrows}] integer: the maximum number of rows to read in.  Negative\n",
       "and other invalid values are ignored.\n",
       "\n",
       "\\item[\\code{skip}] integer: the number of lines of the data file to skip before\n",
       "beginning to read data.\n",
       "\n",
       "\\item[\\code{check.names}] logical.  If \\code{TRUE} then the names of the\n",
       "variables in the data frame are checked to ensure that they are\n",
       "syntactically valid variable names.  If necessary they are adjusted\n",
       "(by \\code{\\LinkA{make.names}{make.names}}) so that they are, and also to ensure\n",
       "that there are no duplicates.\n",
       "\n",
       "\\item[\\code{fill}] logical. If \\code{TRUE} then in case the rows have unequal\n",
       "length, blank fields are implicitly added.  See `Details'.\n",
       "\n",
       "\\item[\\code{strip.white}] logical. Used only when \\code{sep} has\n",
       "been specified, and allows the stripping of leading and trailing\n",
       "white space from unquoted \\code{character} fields (\\code{numeric} fields\n",
       "are always stripped).  See \\code{\\LinkA{scan}{scan}} for further details\n",
       "(including the exact meaning of `white space'),\n",
       "remembering that the columns may include the row names.\n",
       "\n",
       "\\item[\\code{blank.lines.skip}] logical: if \\code{TRUE} blank lines in the\n",
       "input are ignored.\n",
       "\n",
       "\\item[\\code{comment.char}] character: a character vector of length one\n",
       "containing a single character or an empty string.  Use \\code{\"\"} to\n",
       "turn off the interpretation of comments altogether.\n",
       "\n",
       "\\item[\\code{allowEscapes}] logical.  Should C-style escapes such as\n",
       "\\samp{\\bsl{}n} be processed or read verbatim (the default)?   Note that if\n",
       "not within quotes these could be interpreted as a delimiter (but not\n",
       "as a comment character).  For more details see \\code{\\LinkA{scan}{scan}}.\n",
       "\n",
       "\\item[\\code{flush}] logical: if \\code{TRUE}, \\code{scan} will flush to the\n",
       "end of the line after reading the last of the fields requested.\n",
       "This allows putting comments after the last field.\n",
       "\n",
       "\\item[\\code{stringsAsFactors}] logical: should character vectors be converted\n",
       "to factors?  Note that this is overridden by \\code{as.is} and\n",
       "\\code{colClasses}, both of which allow finer control.\n",
       "\n",
       "\\item[\\code{fileEncoding}] character string: if non-empty declares the\n",
       "encoding used on a file (not a connection) so the character data can\n",
       "be re-encoded.  See the `Encoding' section of the help for\n",
       "\\code{\\LinkA{file}{file}}, the `R Data Import/Export' manual and\n",
       "`Note'.\n",
       "\n",
       "\n",
       "\\item[\\code{encoding}] encoding to be assumed for input strings.  It is\n",
       "used to mark character strings as known to be in\n",
       "Latin-1 or UTF-8 (see \\code{\\LinkA{Encoding}{Encoding}}): it is not used to\n",
       "re-encode the input, but allows \\R{} to handle encoded strings in\n",
       "their native encoding (if one of those two).  See `Value'\n",
       "and `Note'.\n",
       "\n",
       "\n",
       "\\item[\\code{text}] character string: if \\code{file} is not supplied and this is,\n",
       "then data are read from the value of \\code{text} via a text connection.\n",
       "Notice that a literal string can be used to include (small) data sets\n",
       "within R code.\n",
       "\n",
       "\n",
       "\\item[\\code{skipNul}] logical: should nuls be skipped?\n",
       "\n",
       "\\item[\\code{...}] Further arguments to be passed to \\code{read.table}.\n",
       "\\end{ldescription}\n",
       "\\end{Arguments}\n",
       "%\n",
       "\\begin{Details}\\relax\n",
       "This function is the principal means of reading tabular data into \\R{}.\n",
       "\n",
       "Unless \\code{colClasses} is specified, all columns are read as\n",
       "character columns and then converted using \\code{\\LinkA{type.convert}{type.convert}}\n",
       "to logical, integer, numeric, complex or (depending on \\code{as.is})\n",
       "factor as appropriate.  Quotes are (by default) interpreted in all\n",
       "fields, so a column of values like \\code{\"42\"} will result in an\n",
       "integer column.\n",
       "\n",
       "A field or line is `blank' if it contains nothing (except\n",
       "whitespace if no separator is specified) before a comment character or\n",
       "the end of the field or line.\n",
       "\n",
       "If \\code{row.names} is not specified and the header line has one less\n",
       "entry than the number of columns, the first column is taken to be the\n",
       "row names.  This allows data frames to be read in from the format in\n",
       "which they are printed.  If \\code{row.names} is specified and does\n",
       "not refer to the first column, that column is discarded from such files.\n",
       "\n",
       "The number of data columns is determined by looking at the first five\n",
       "lines of input (or the whole input if it has less than five lines), or\n",
       "from the length of \\code{col.names} if it is specified and is longer.\n",
       "This could conceivably be wrong if \\code{fill} or\n",
       "\\code{blank.lines.skip} are true, so specify \\code{col.names} if\n",
       "necessary (as in the `Examples').\n",
       "\n",
       "\\code{read.csv} and \\code{read.csv2} are identical to\n",
       "\\code{read.table} except for the defaults.  They are intended for\n",
       "reading `comma separated value' files (\\file{.csv}) or\n",
       "(\\code{read.csv2}) the variant used in countries that use a comma as\n",
       "decimal point and a semicolon as field separator.  Similarly,\n",
       "\\code{read.delim} and \\code{read.delim2} are for reading delimited\n",
       "files, defaulting to the TAB character for the delimiter.  Notice that\n",
       "\\code{header = TRUE} and \\code{fill = TRUE} in these variants, and\n",
       "that the comment character is disabled.\n",
       "\n",
       "The rest of the line after a comment character is skipped; quotes\n",
       "are not processed in comments.  Complete comment lines are allowed\n",
       "provided \\code{blank.lines.skip = TRUE}; however, comment lines prior\n",
       "to the header must have the comment character in the first non-blank\n",
       "column.\n",
       "\n",
       "Quoted fields with embedded newlines are supported except after a\n",
       "comment character.  Embedded nuls are unsupported: skipping them (with\n",
       "\\code{skipNul = TRUE}) may work.\n",
       "\\end{Details}\n",
       "%\n",
       "\\begin{Value}\n",
       "A data frame (\\code{\\LinkA{data.frame}{data.frame}}) containing a representation of\n",
       "the data in the file.\n",
       "\n",
       "Empty input is an error unless \\code{col.names} is specified, when a\n",
       "0-row data frame is returned: similarly giving just a header line if\n",
       "\\code{header = TRUE} results in a 0-row data frame.  Note that in\n",
       "either case the columns will be logical unless \\code{colClasses} was\n",
       "supplied.\n",
       "\n",
       "Character strings in the result (including factor levels) will have a\n",
       "declared encoding if \\code{encoding} is \\code{\"latin1\"} or\n",
       "\\code{\"UTF-8\"}.\n",
       "\\end{Value}\n",
       "%\n",
       "\\begin{Section}{CSV files}\n",
       "See the help on \\code{\\LinkA{write.csv}{write.csv}} for the various conventions\n",
       "for \\code{.csv} files.  The commonest form of CSV file with row names\n",
       "needs to be read with \\code{read.csv(..., row.names = 1)} to use the\n",
       "names in the first columnn of the file as row names.\n",
       "\\end{Section}\n",
       "%\n",
       "\\begin{Section}{Memory usage}\n",
       "These functions can use a surprising amount of memory when reading\n",
       "large files.  There is extensive discussion in the `R Data\n",
       "Import/Export' manual, supplementing the notes here.\n",
       "\n",
       "Less memory will be used if \\code{colClasses} is specified as one of\n",
       "the six \\LinkA{atomic}{atomic} vector classes.  This can be particularly so when\n",
       "reading a column that takes many distinct numeric values, as storing\n",
       "each distinct value as a character string can take up to 14 times as\n",
       "much memory as storing it as an integer.\n",
       "\n",
       "Using \\code{nrows}, even as a mild over-estimate, will help memory\n",
       "usage.\n",
       "\n",
       "Using \\code{comment.char = \"\"} will be appreciably faster than the\n",
       "\\code{read.table} default.\n",
       "\n",
       "\\code{read.table} is not the right tool for reading large matrices,\n",
       "especially those with many columns: it is designed to read\n",
       "\\emph{data frames} which may have columns of very different classes.\n",
       "Use \\code{\\LinkA{scan}{scan}} instead for matrices.\n",
       "\\end{Section}\n",
       "%\n",
       "\\begin{Note}\\relax\n",
       "The columns referred to in \\code{as.is} and \\code{colClasses} include\n",
       "the column of row names (if any).\n",
       "\n",
       "There are two approaches for reading input that is not in the local\n",
       "encoding.  If the input is known to be UTF-8 or Latin1, use the\n",
       "\\code{encoding} argument to declare that.  If the input is in some\n",
       "other encoding, then it may be translated on input.  The \\code{fileEncoding}\n",
       "argument achieves this by setting up a connection to do the re-encoding\n",
       "into the current locale.  Note that on Windows or other systems not running\n",
       "in a UTF-8 locale, this may not be possible.\n",
       "\\end{Note}\n",
       "%\n",
       "\\begin{References}\\relax\n",
       "Chambers, J. M. (1992)\n",
       "\\emph{Data for models.}\n",
       "Chapter 3 of \\emph{Statistical Models in S}\n",
       "eds J. M. Chambers and T. J. Hastie, Wadsworth \\& Brooks/Cole.\n",
       "\\end{References}\n",
       "%\n",
       "\\begin{SeeAlso}\\relax\n",
       "The `R Data Import/Export' manual.\n",
       "\n",
       "\\code{\\LinkA{scan}{scan}}, \\code{\\LinkA{type.convert}{type.convert}},\n",
       "\\code{\\LinkA{read.fwf}{read.fwf}} for reading \\emph{f}ixed \\emph{w}idth\n",
       "\\emph{f}ormatted input;\n",
       "\\code{\\LinkA{write.table}{write.table}};\n",
       "\\code{\\LinkA{data.frame}{data.frame}}.\n",
       "\n",
       "\\code{\\LinkA{count.fields}{count.fields}} can be useful to determine problems with\n",
       "reading files which result in reports of incorrect record lengths (see\n",
       "the `Examples' below).\n",
       "\n",
       "\\url{https://tools.ietf.org/html/rfc4180} for the IANA definition of\n",
       "CSV files (which requires comma as separator and CRLF line endings).\n",
       "\\end{SeeAlso}\n",
       "%\n",
       "\\begin{Examples}\n",
       "\\begin{ExampleCode}\n",
       "## using count.fields to handle unknown maximum number of fields\n",
       "## when fill = TRUE\n",
       "test1 <- c(1:5, \"6,7\", \"8,9,10\")\n",
       "tf <- tempfile()\n",
       "writeLines(test1, tf)\n",
       "\n",
       "read.csv(tf, fill = TRUE) # 1 column\n",
       "ncol <- max(count.fields(tf, sep = \",\"))\n",
       "read.csv(tf, fill = TRUE, header = FALSE,\n",
       "         col.names = paste0(\"V\", seq_len(ncol)))\n",
       "unlink(tf)\n",
       "\n",
       "## \"Inline\" data set, using text=\n",
       "## Notice that leading and trailing empty lines are auto-trimmed\n",
       "\n",
       "read.table(header = TRUE, text = \"\n",
       "a b\n",
       "1 2\n",
       "3 4\n",
       "\")\n",
       "\\end{ExampleCode}\n",
       "\\end{Examples}"
      ],
      "text/plain": [
       "read.table                package:utils                R Documentation\n",
       "\n",
       "_\bD_\ba_\bt_\ba _\bI_\bn_\bp_\bu_\bt\n",
       "\n",
       "_\bD_\be_\bs_\bc_\br_\bi_\bp_\bt_\bi_\bo_\bn:\n",
       "\n",
       "     Reads a file in table format and creates a data frame from it,\n",
       "     with cases corresponding to lines and variables to fields in the\n",
       "     file.\n",
       "\n",
       "_\bU_\bs_\ba_\bg_\be:\n",
       "\n",
       "     read.table(file, header = FALSE, sep = \"\", quote = \"\\\"'\",\n",
       "                dec = \".\", numerals = c(\"allow.loss\", \"warn.loss\", \"no.loss\"),\n",
       "                row.names, col.names, as.is = !stringsAsFactors,\n",
       "                na.strings = \"NA\", colClasses = NA, nrows = -1,\n",
       "                skip = 0, check.names = TRUE, fill = !blank.lines.skip,\n",
       "                strip.white = FALSE, blank.lines.skip = TRUE,\n",
       "                comment.char = \"#\",\n",
       "                allowEscapes = FALSE, flush = FALSE,\n",
       "                stringsAsFactors = FALSE,\n",
       "                fileEncoding = \"\", encoding = \"unknown\", text, skipNul = FALSE)\n",
       "     \n",
       "     read.csv(file, header = TRUE, sep = \",\", quote = \"\\\"\",\n",
       "              dec = \".\", fill = TRUE, comment.char = \"\", ...)\n",
       "     \n",
       "     read.csv2(file, header = TRUE, sep = \";\", quote = \"\\\"\",\n",
       "               dec = \",\", fill = TRUE, comment.char = \"\", ...)\n",
       "     \n",
       "     read.delim(file, header = TRUE, sep = \"\\t\", quote = \"\\\"\",\n",
       "                dec = \".\", fill = TRUE, comment.char = \"\", ...)\n",
       "     \n",
       "     read.delim2(file, header = TRUE, sep = \"\\t\", quote = \"\\\"\",\n",
       "                 dec = \",\", fill = TRUE, comment.char = \"\", ...)\n",
       "     \n",
       "_\bA_\br_\bg_\bu_\bm_\be_\bn_\bt_\bs:\n",
       "\n",
       "    file: the name of the file which the data are to be read from.\n",
       "          Each row of the table appears as one line of the file.  If it\n",
       "          does not contain an _absolute_ path, the file name is\n",
       "          _relative_ to the current working directory, ‘getwd()’.\n",
       "          Tilde-expansion is performed where supported.  This can be a\n",
       "          compressed file (see ‘file’).\n",
       "\n",
       "          Alternatively, ‘file’ can be a readable text-mode connection\n",
       "          (which will be opened for reading if necessary, and if so\n",
       "          ‘close’d (and hence destroyed) at the end of the function\n",
       "          call).  (If ‘stdin()’ is used, the prompts for lines may be\n",
       "          somewhat confusing.  Terminate input with a blank line or an\n",
       "          EOF signal, ‘Ctrl-D’ on Unix and ‘Ctrl-Z’ on Windows.  Any\n",
       "          pushback on ‘stdin()’ will be cleared before return.)\n",
       "\n",
       "          ‘file’ can also be a complete URL.  (For the supported URL\n",
       "          schemes, see the ‘URLs’ section of the help for ‘url’.)\n",
       "\n",
       "  header: a logical value indicating whether the file contains the\n",
       "          names of the variables as its first line.  If missing, the\n",
       "          value is determined from the file format: ‘header’ is set to\n",
       "          ‘TRUE’ if and only if the first row contains one fewer field\n",
       "          than the number of columns.\n",
       "\n",
       "     sep: the field separator character.  Values on each line of the\n",
       "          file are separated by this character.  If ‘sep = \"\"’ (the\n",
       "          default for ‘read.table’) the separator is ‘white space’,\n",
       "          that is one or more spaces, tabs, newlines or carriage\n",
       "          returns.\n",
       "\n",
       "   quote: the set of quoting characters. To disable quoting altogether,\n",
       "          use ‘quote = \"\"’.  See ‘scan’ for the behaviour on quotes\n",
       "          embedded in quotes.  Quoting is only considered for columns\n",
       "          read as character, which is all of them unless ‘colClasses’\n",
       "          is specified.\n",
       "\n",
       "     dec: the character used in the file for decimal points.\n",
       "\n",
       "numerals: string indicating how to convert numbers whose conversion to\n",
       "          double precision would lose accuracy, see ‘type.convert’.\n",
       "          Can be abbreviated.  (Applies also to complex-number inputs.)\n",
       "\n",
       "row.names: a vector of row names.  This can be a vector giving the\n",
       "          actual row names, or a single number giving the column of the\n",
       "          table which contains the row names, or character string\n",
       "          giving the name of the table column containing the row names.\n",
       "\n",
       "          If there is a header and the first row contains one fewer\n",
       "          field than the number of columns, the first column in the\n",
       "          input is used for the row names.  Otherwise if ‘row.names’ is\n",
       "          missing, the rows are numbered.\n",
       "\n",
       "          Using ‘row.names = NULL’ forces row numbering. Missing or\n",
       "          ‘NULL’ ‘row.names’ generate row names that are considered to\n",
       "          be ‘automatic’ (and not preserved by ‘as.matrix’).\n",
       "\n",
       "col.names: a vector of optional names for the variables.  The default\n",
       "          is to use ‘\"V\"’ followed by the column number.\n",
       "\n",
       "   as.is: controls conversion of character variables (insofar as they\n",
       "          are not converted to logical, numeric or complex) to factors,\n",
       "          if not otherwise specified by ‘colClasses’.  Its value is\n",
       "          either a vector of logicals (values are recycled if\n",
       "          necessary), or a vector of numeric or character indices which\n",
       "          specify which columns should not be converted to factors.\n",
       "\n",
       "          Note: to suppress all conversions including those of numeric\n",
       "          columns, set ‘colClasses = \"character\"’.\n",
       "\n",
       "          Note that ‘as.is’ is specified per column (not per variable)\n",
       "          and so includes the column of row names (if any) and any\n",
       "          columns to be skipped.\n",
       "\n",
       "na.strings: a character vector of strings which are to be interpreted\n",
       "          as ‘NA’ values.  Blank fields are also considered to be\n",
       "          missing values in logical, integer, numeric and complex\n",
       "          fields.  Note that the test happens _after_ white space is\n",
       "          stripped from the input, so ‘na.strings’ values may need\n",
       "          their own white space stripped in advance.\n",
       "\n",
       "colClasses: character.  A vector of classes to be assumed for the\n",
       "          columns.  If unnamed, recycled as necessary.  If named, names\n",
       "          are matched with unspecified values being taken to be ‘NA’.\n",
       "\n",
       "          Possible values are ‘NA’ (the default, when ‘type.convert’ is\n",
       "          used), ‘\"NULL\"’ (when the column is skipped), one of the\n",
       "          atomic vector classes (logical, integer, numeric, complex,\n",
       "          character, raw), or ‘\"factor\"’, ‘\"Date\"’ or ‘\"POSIXct\"’.\n",
       "          Otherwise there needs to be an ‘as’ method (from package\n",
       "          ‘methods’) for conversion from ‘\"character\"’ to the specified\n",
       "          formal class.\n",
       "\n",
       "          Note that ‘colClasses’ is specified per column (not per\n",
       "          variable) and so includes the column of row names (if any).\n",
       "\n",
       "   nrows: integer: the maximum number of rows to read in.  Negative and\n",
       "          other invalid values are ignored.\n",
       "\n",
       "    skip: integer: the number of lines of the data file to skip before\n",
       "          beginning to read data.\n",
       "\n",
       "check.names: logical.  If ‘TRUE’ then the names of the variables in the\n",
       "          data frame are checked to ensure that they are syntactically\n",
       "          valid variable names.  If necessary they are adjusted (by\n",
       "          ‘make.names’) so that they are, and also to ensure that there\n",
       "          are no duplicates.\n",
       "\n",
       "    fill: logical. If ‘TRUE’ then in case the rows have unequal length,\n",
       "          blank fields are implicitly added.  See ‘Details’.\n",
       "\n",
       "strip.white: logical. Used only when ‘sep’ has been specified, and\n",
       "          allows the stripping of leading and trailing white space from\n",
       "          unquoted ‘character’ fields (‘numeric’ fields are always\n",
       "          stripped).  See ‘scan’ for further details (including the\n",
       "          exact meaning of ‘white space’), remembering that the columns\n",
       "          may include the row names.\n",
       "\n",
       "blank.lines.skip: logical: if ‘TRUE’ blank lines in the input are\n",
       "          ignored.\n",
       "\n",
       "comment.char: character: a character vector of length one containing a\n",
       "          single character or an empty string.  Use ‘\"\"’ to turn off\n",
       "          the interpretation of comments altogether.\n",
       "\n",
       "allowEscapes: logical.  Should C-style escapes such as ‘\\n’ be\n",
       "          processed or read verbatim (the default)?  Note that if not\n",
       "          within quotes these could be interpreted as a delimiter (but\n",
       "          not as a comment character).  For more details see ‘scan’.\n",
       "\n",
       "   flush: logical: if ‘TRUE’, ‘scan’ will flush to the end of the line\n",
       "          after reading the last of the fields requested.  This allows\n",
       "          putting comments after the last field.\n",
       "\n",
       "stringsAsFactors: logical: should character vectors be converted to\n",
       "          factors?  Note that this is overridden by ‘as.is’ and\n",
       "          ‘colClasses’, both of which allow finer control.\n",
       "\n",
       "fileEncoding: character string: if non-empty declares the encoding used\n",
       "          on a file (not a connection) so the character data can be\n",
       "          re-encoded.  See the ‘Encoding’ section of the help for\n",
       "          ‘file’, the ‘R Data Import/Export’ manual and ‘Note’.\n",
       "\n",
       "encoding: encoding to be assumed for input strings.  It is used to mark\n",
       "          character strings as known to be in Latin-1 or UTF-8 (see\n",
       "          ‘Encoding’): it is not used to re-encode the input, but\n",
       "          allows R to handle encoded strings in their native encoding\n",
       "          (if one of those two).  See ‘Value’ and ‘Note’.\n",
       "\n",
       "    text: character string: if ‘file’ is not supplied and this is, then\n",
       "          data are read from the value of ‘text’ via a text connection.\n",
       "          Notice that a literal string can be used to include (small)\n",
       "          data sets within R code.\n",
       "\n",
       " skipNul: logical: should nuls be skipped?\n",
       "\n",
       "     ...: Further arguments to be passed to ‘read.table’.\n",
       "\n",
       "_\bD_\be_\bt_\ba_\bi_\bl_\bs:\n",
       "\n",
       "     This function is the principal means of reading tabular data into\n",
       "     R.\n",
       "\n",
       "     Unless ‘colClasses’ is specified, all columns are read as\n",
       "     character columns and then converted using ‘type.convert’ to\n",
       "     logical, integer, numeric, complex or (depending on ‘as.is’)\n",
       "     factor as appropriate.  Quotes are (by default) interpreted in all\n",
       "     fields, so a column of values like ‘\"42\"’ will result in an\n",
       "     integer column.\n",
       "\n",
       "     A field or line is ‘blank’ if it contains nothing (except\n",
       "     whitespace if no separator is specified) before a comment\n",
       "     character or the end of the field or line.\n",
       "\n",
       "     If ‘row.names’ is not specified and the header line has one less\n",
       "     entry than the number of columns, the first column is taken to be\n",
       "     the row names.  This allows data frames to be read in from the\n",
       "     format in which they are printed.  If ‘row.names’ is specified and\n",
       "     does not refer to the first column, that column is discarded from\n",
       "     such files.\n",
       "\n",
       "     The number of data columns is determined by looking at the first\n",
       "     five lines of input (or the whole input if it has less than five\n",
       "     lines), or from the length of ‘col.names’ if it is specified and\n",
       "     is longer.  This could conceivably be wrong if ‘fill’ or\n",
       "     ‘blank.lines.skip’ are true, so specify ‘col.names’ if necessary\n",
       "     (as in the ‘Examples’).\n",
       "\n",
       "     ‘read.csv’ and ‘read.csv2’ are identical to ‘read.table’ except\n",
       "     for the defaults.  They are intended for reading ‘comma separated\n",
       "     value’ files (‘.csv’) or (‘read.csv2’) the variant used in\n",
       "     countries that use a comma as decimal point and a semicolon as\n",
       "     field separator.  Similarly, ‘read.delim’ and ‘read.delim2’ are\n",
       "     for reading delimited files, defaulting to the TAB character for\n",
       "     the delimiter.  Notice that ‘header = TRUE’ and ‘fill = TRUE’ in\n",
       "     these variants, and that the comment character is disabled.\n",
       "\n",
       "     The rest of the line after a comment character is skipped; quotes\n",
       "     are not processed in comments.  Complete comment lines are allowed\n",
       "     provided ‘blank.lines.skip = TRUE’; however, comment lines prior\n",
       "     to the header must have the comment character in the first\n",
       "     non-blank column.\n",
       "\n",
       "     Quoted fields with embedded newlines are supported except after a\n",
       "     comment character.  Embedded nuls are unsupported: skipping them\n",
       "     (with ‘skipNul = TRUE’) may work.\n",
       "\n",
       "_\bV_\ba_\bl_\bu_\be:\n",
       "\n",
       "     A data frame (‘data.frame’) containing a representation of the\n",
       "     data in the file.\n",
       "\n",
       "     Empty input is an error unless ‘col.names’ is specified, when a\n",
       "     0-row data frame is returned: similarly giving just a header line\n",
       "     if ‘header = TRUE’ results in a 0-row data frame.  Note that in\n",
       "     either case the columns will be logical unless ‘colClasses’ was\n",
       "     supplied.\n",
       "\n",
       "     Character strings in the result (including factor levels) will\n",
       "     have a declared encoding if ‘encoding’ is ‘\"latin1\"’ or ‘\"UTF-8\"’.\n",
       "\n",
       "_\bC_\bS_\bV _\bf_\bi_\bl_\be_\bs:\n",
       "\n",
       "     See the help on ‘write.csv’ for the various conventions for ‘.csv’\n",
       "     files.  The commonest form of CSV file with row names needs to be\n",
       "     read with ‘read.csv(..., row.names = 1)’ to use the names in the\n",
       "     first columnn of the file as row names.\n",
       "\n",
       "_\bM_\be_\bm_\bo_\br_\by _\bu_\bs_\ba_\bg_\be:\n",
       "\n",
       "     These functions can use a surprising amount of memory when reading\n",
       "     large files.  There is extensive discussion in the ‘R Data\n",
       "     Import/Export’ manual, supplementing the notes here.\n",
       "\n",
       "     Less memory will be used if ‘colClasses’ is specified as one of\n",
       "     the six atomic vector classes.  This can be particularly so when\n",
       "     reading a column that takes many distinct numeric values, as\n",
       "     storing each distinct value as a character string can take up to\n",
       "     14 times as much memory as storing it as an integer.\n",
       "\n",
       "     Using ‘nrows’, even as a mild over-estimate, will help memory\n",
       "     usage.\n",
       "\n",
       "     Using ‘comment.char = \"\"’ will be appreciably faster than the\n",
       "     ‘read.table’ default.\n",
       "\n",
       "     ‘read.table’ is not the right tool for reading large matrices,\n",
       "     especially those with many columns: it is designed to read _data\n",
       "     frames_ which may have columns of very different classes.  Use\n",
       "     ‘scan’ instead for matrices.\n",
       "\n",
       "_\bN_\bo_\bt_\be:\n",
       "\n",
       "     The columns referred to in ‘as.is’ and ‘colClasses’ include the\n",
       "     column of row names (if any).\n",
       "\n",
       "     There are two approaches for reading input that is not in the\n",
       "     local encoding.  If the input is known to be UTF-8 or Latin1, use\n",
       "     the ‘encoding’ argument to declare that.  If the input is in some\n",
       "     other encoding, then it may be translated on input.  The\n",
       "     ‘fileEncoding’ argument achieves this by setting up a connection\n",
       "     to do the re-encoding into the current locale.  Note that on\n",
       "     Windows or other systems not running in a UTF-8 locale, this may\n",
       "     not be possible.\n",
       "\n",
       "_\bR_\be_\bf_\be_\br_\be_\bn_\bc_\be_\bs:\n",
       "\n",
       "     Chambers, J. M. (1992) _Data for models._ Chapter 3 of\n",
       "     _Statistical Models in S_ eds J. M. Chambers and T. J. Hastie,\n",
       "     Wadsworth & Brooks/Cole.\n",
       "\n",
       "_\bS_\be_\be _\bA_\bl_\bs_\bo:\n",
       "\n",
       "     The ‘R Data Import/Export’ manual.\n",
       "\n",
       "     ‘scan’, ‘type.convert’, ‘read.fwf’ for reading _f_ixed _w_idth\n",
       "     _f_ormatted input; ‘write.table’; ‘data.frame’.\n",
       "\n",
       "     ‘count.fields’ can be useful to determine problems with reading\n",
       "     files which result in reports of incorrect record lengths (see the\n",
       "     ‘Examples’ below).\n",
       "\n",
       "     <URL: https://tools.ietf.org/html/rfc4180> for the IANA definition\n",
       "     of CSV files (which requires comma as separator and CRLF line\n",
       "     endings).\n",
       "\n",
       "_\bE_\bx_\ba_\bm_\bp_\bl_\be_\bs:\n",
       "\n",
       "     ## using count.fields to handle unknown maximum number of fields\n",
       "     ## when fill = TRUE\n",
       "     test1 <- c(1:5, \"6,7\", \"8,9,10\")\n",
       "     tf <- tempfile()\n",
       "     writeLines(test1, tf)\n",
       "     \n",
       "     read.csv(tf, fill = TRUE) # 1 column\n",
       "     ncol <- max(count.fields(tf, sep = \",\"))\n",
       "     read.csv(tf, fill = TRUE, header = FALSE,\n",
       "              col.names = paste0(\"V\", seq_len(ncol)))\n",
       "     unlink(tf)\n",
       "     \n",
       "     ## \"Inline\" data set, using text=\n",
       "     ## Notice that leading and trailing empty lines are auto-trimmed\n",
       "     \n",
       "     read.table(header = TRUE, text = \"\n",
       "     a b\n",
       "     1 2\n",
       "     3 4\n",
       "     \")\n",
       "     "
      ]
     },
     "metadata": {},
     "output_type": "display_data"
    }
   ],
   "source": [
    "help(read.table)"
   ]
  },
  {
   "cell_type": "markdown",
   "metadata": {},
   "source": [
    "<a class=\"anchor\" id=\"read\"></a>\n",
    "#### read.table()\n",
    "\n",
    "Notice that to run `read.table()`, we'll have to provide the function with a set of arguments. These arguments allow you to give R some information about the data in your .csv file. Each possible argument within a function is separated by a `,`. The default arguments for `read.table()` are specified right near the top of the help menu, under \"Usage\", and include things like `header = FALSE` and `sep = \"\"`. \n",
    "\n",
    "In this tutorial, we are going to provide `read.csv()` with the following arguments: \n",
    "\n",
    "* `example.csv` – the name of the file we want to read in\n",
    "* `header = TRUE` – this argument specifies that the data starts on the second line of the file and the first line is a header, or column names\n",
    "* `row.names = 1` – this argument specifies that the data starts on the second column of the file and the first column contains row names\n",
    "\n",
    "In the next cell, we will read in the `example.csv` file, and store the data frame in the variable `myDF`. We chose the variable `myDF` as a short representation of the phrase \"my data frame\"."
   ]
  },
  {
   "cell_type": "code",
   "execution_count": 52,
   "metadata": {
    "tags": []
   },
   "outputs": [],
   "source": [
    "myDF <- read.table(\"example.csv\", sep = \",\", row.names = 1)"
   ]
  },
  {
   "cell_type": "code",
   "execution_count": 53,
   "metadata": {
    "tags": []
   },
   "outputs": [
    {
     "data": {
      "text/html": [
       "<table class=\"dataframe\">\n",
       "<caption>A data.frame: 11 × 3</caption>\n",
       "<thead>\n",
       "\t<tr><th></th><th scope=col>V2</th><th scope=col>V3</th><th scope=col>V4</th></tr>\n",
       "\t<tr><th></th><th scope=col>&lt;chr&gt;</th><th scope=col>&lt;chr&gt;</th><th scope=col>&lt;chr&gt;</th></tr>\n",
       "</thead>\n",
       "<tbody>\n",
       "\t<tr><th scope=row></th><td>column1</td><td>column2</td><td>column3</td></tr>\n",
       "\t<tr><th scope=row>row1</th><td>1      </td><td>2      </td><td>3      </td></tr>\n",
       "\t<tr><th scope=row>row2</th><td>4      </td><td>5      </td><td>6      </td></tr>\n",
       "\t<tr><th scope=row>row3</th><td>7      </td><td>8      </td><td>9      </td></tr>\n",
       "\t<tr><th scope=row>row4</th><td>10     </td><td>11     </td><td>12     </td></tr>\n",
       "\t<tr><th scope=row>row5</th><td>13     </td><td>14     </td><td>15     </td></tr>\n",
       "\t<tr><th scope=row>row6</th><td>16     </td><td>17     </td><td>18     </td></tr>\n",
       "\t<tr><th scope=row>row7</th><td>19     </td><td>20     </td><td>21     </td></tr>\n",
       "\t<tr><th scope=row>row8</th><td>22     </td><td>23     </td><td>24     </td></tr>\n",
       "\t<tr><th scope=row>row9</th><td>25     </td><td>26     </td><td>27     </td></tr>\n",
       "\t<tr><th scope=row>row10</th><td>0      </td><td>0      </td><td>0      </td></tr>\n",
       "</tbody>\n",
       "</table>\n"
      ],
      "text/latex": [
       "A data.frame: 11 × 3\n",
       "\\begin{tabular}{r|lll}\n",
       "  & V2 & V3 & V4\\\\\n",
       "  & <chr> & <chr> & <chr>\\\\\n",
       "\\hline\n",
       "\t & column1 & column2 & column3\\\\\n",
       "\trow1 & 1       & 2       & 3      \\\\\n",
       "\trow2 & 4       & 5       & 6      \\\\\n",
       "\trow3 & 7       & 8       & 9      \\\\\n",
       "\trow4 & 10      & 11      & 12     \\\\\n",
       "\trow5 & 13      & 14      & 15     \\\\\n",
       "\trow6 & 16      & 17      & 18     \\\\\n",
       "\trow7 & 19      & 20      & 21     \\\\\n",
       "\trow8 & 22      & 23      & 24     \\\\\n",
       "\trow9 & 25      & 26      & 27     \\\\\n",
       "\trow10 & 0       & 0       & 0      \\\\\n",
       "\\end{tabular}\n"
      ],
      "text/markdown": [
       "\n",
       "A data.frame: 11 × 3\n",
       "\n",
       "| <!--/--> | V2 &lt;chr&gt; | V3 &lt;chr&gt; | V4 &lt;chr&gt; |\n",
       "|---|---|---|---|\n",
       "| <!----> | column1 | column2 | column3 |\n",
       "| row1 | 1       | 2       | 3       |\n",
       "| row2 | 4       | 5       | 6       |\n",
       "| row3 | 7       | 8       | 9       |\n",
       "| row4 | 10      | 11      | 12      |\n",
       "| row5 | 13      | 14      | 15      |\n",
       "| row6 | 16      | 17      | 18      |\n",
       "| row7 | 19      | 20      | 21      |\n",
       "| row8 | 22      | 23      | 24      |\n",
       "| row9 | 25      | 26      | 27      |\n",
       "| row10 | 0       | 0       | 0       |\n",
       "\n"
      ],
      "text/plain": [
       "      V2      V3      V4     \n",
       "      column1 column2 column3\n",
       "row1  1       2       3      \n",
       "row2  4       5       6      \n",
       "row3  7       8       9      \n",
       "row4  10      11      12     \n",
       "row5  13      14      15     \n",
       "row6  16      17      18     \n",
       "row7  19      20      21     \n",
       "row8  22      23      24     \n",
       "row9  25      26      27     \n",
       "row10 0       0       0      "
      ]
     },
     "metadata": {},
     "output_type": "display_data"
    }
   ],
   "source": [
    "myDF"
   ]
  },
  {
   "cell_type": "code",
   "execution_count": 46,
   "metadata": {
    "tags": []
   },
   "outputs": [],
   "source": [
    "myDF <- read.csv('example.csv', header = TRUE, row.names = 1)"
   ]
  },
  {
   "cell_type": "markdown",
   "metadata": {},
   "source": [
    "Since the `example.csv` file is in our current working directory, we could just provide the file name as the relative path for the computer to find it. However, if the file were located in a directory other than the current working directory, we would have to define the path to the directory that holds your file. \n",
    "\n",
    "If the directory location of the file is held in a variable (as with the workDir we set in [section 1b](#variable)), you can use the function `file.path()` to construct the path to the file from the directory variable and the filename. \n",
    "\n",
    "For example, since you stored the path to your work directory in the `workDir` variable, you could have also read in the `example.csv` file using the following syntax: \n",
    "\n",
    "`myDF <- read.csv(file.path(workDir, 'example.csv'), header = TRUE, row.names = 1)`\n",
    "\n",
    "It's not uncommon to \"nest\" functions like this in R, where here the `file.path()` function is being called inside the `read.csv()` function.\n",
    "\n",
    "Use the next cell to view the data stored in the `myDF` variable."
   ]
  },
  {
   "cell_type": "code",
   "execution_count": null,
   "metadata": {
    "tags": []
   },
   "outputs": [],
   "source": []
  },
  {
   "cell_type": "markdown",
   "metadata": {},
   "source": [
    "<div class=\"alert alert-block alert-success\">\n",
    "\n",
    "<details>\n",
    "<summary><b>Solution</b></summary>\n",
    "\n",
    "<br>\n",
    "    \n",
    "`myDF`\n",
    "\n",
    "</details>\n",
    "</div>"
   ]
  },
  {
   "cell_type": "markdown",
   "metadata": {},
   "source": [
    "\n",
    "\n",
    "How many columns are in the `myDF` data frame?\n",
    "\n",
    "How many rows?\n",
    "\n",
    "<div class=\"alert alert-block alert-success\">\n",
    "\n",
    "<details>\n",
    "<summary><b>Solution</b></summary>\n",
    "<br>\n",
    "\n",
    "There are 3 columns and 10 rows.\n",
    "\n",
    "</details>\n",
    "</div>"
   ]
  },
  {
   "cell_type": "markdown",
   "metadata": {},
   "source": [
    "<a class=\"anchor\" id=\"headR\"></a>\n",
    "#### head()\n",
    "\n",
    "Although in this example there is a manageable amount of data in `myDF`, in many cases, viewing all the data may be unfeasible. Thus, similar to the `head` command in Unix, R also has a built-in function to view only a certain number of rows of a data frame or matrix, called `head()`. \n",
    "\n",
    "In the next cell, run `head()` and provide only one argument, the data frame variable."
   ]
  },
  {
   "cell_type": "code",
   "execution_count": null,
   "metadata": {},
   "outputs": [],
   "source": []
  },
  {
   "cell_type": "markdown",
   "metadata": {},
   "source": [
    "<div class=\"alert alert-block alert-success\">\n",
    "\n",
    "<details>\n",
    "<summary><b>Solution</b></summary>\n",
    "\n",
    "<br>\n",
    "\n",
    "`head(myDF)`\n",
    "\n",
    "</details>\n",
    "</div>"
   ]
  },
  {
   "cell_type": "markdown",
   "metadata": {},
   "source": [
    "How many lines are given by default with the `head()` command in R? Is this different from the number of lines given by default with the `head` command in Unix? \n",
    "\n",
    "<div class=\"alert alert-block alert-success\">\n",
    "\n",
    "<details>\n",
    "<summary><b>Solution</b></summary>\n",
    "\n",
    "<br>\n",
    "\n",
    "`head()` in R prints out 6 lines by default\n",
    "    \n",
    "`head` in Unix prints out 10 by default\n",
    "\n",
    "</details>\n",
    "</div>\n",
    "\n",
    "\n",
    "We can also specify the number of lines we want to view, by providing `head()` with another argument, `n=3`:"
   ]
  },
  {
   "cell_type": "code",
   "execution_count": 22,
   "metadata": {
    "tags": []
   },
   "outputs": [
    {
     "data": {
      "text/html": [
       "<table class=\"dataframe\">\n",
       "<caption>A data.frame: 3 × 3</caption>\n",
       "<thead>\n",
       "\t<tr><th></th><th scope=col>column1</th><th scope=col>column2</th><th scope=col>column3</th></tr>\n",
       "\t<tr><th></th><th scope=col>&lt;int&gt;</th><th scope=col>&lt;int&gt;</th><th scope=col>&lt;int&gt;</th></tr>\n",
       "</thead>\n",
       "<tbody>\n",
       "\t<tr><th scope=row>row1</th><td>1</td><td>2</td><td>3</td></tr>\n",
       "\t<tr><th scope=row>row2</th><td>4</td><td>5</td><td>6</td></tr>\n",
       "\t<tr><th scope=row>row3</th><td>7</td><td>8</td><td>9</td></tr>\n",
       "</tbody>\n",
       "</table>\n"
      ],
      "text/latex": [
       "A data.frame: 3 × 3\n",
       "\\begin{tabular}{r|lll}\n",
       "  & column1 & column2 & column3\\\\\n",
       "  & <int> & <int> & <int>\\\\\n",
       "\\hline\n",
       "\trow1 & 1 & 2 & 3\\\\\n",
       "\trow2 & 4 & 5 & 6\\\\\n",
       "\trow3 & 7 & 8 & 9\\\\\n",
       "\\end{tabular}\n"
      ],
      "text/markdown": [
       "\n",
       "A data.frame: 3 × 3\n",
       "\n",
       "| <!--/--> | column1 &lt;int&gt; | column2 &lt;int&gt; | column3 &lt;int&gt; |\n",
       "|---|---|---|---|\n",
       "| row1 | 1 | 2 | 3 |\n",
       "| row2 | 4 | 5 | 6 |\n",
       "| row3 | 7 | 8 | 9 |\n",
       "\n"
      ],
      "text/plain": [
       "     column1 column2 column3\n",
       "row1 1       2       3      \n",
       "row2 4       5       6      \n",
       "row3 7       8       9      "
      ]
     },
     "metadata": {},
     "output_type": "display_data"
    }
   ],
   "source": [
    "head(myDF, n = 3)"
   ]
  },
  {
   "cell_type": "markdown",
   "metadata": {},
   "source": [
    "Use the next cell to print the first 8 rows of the `myDF` data frame."
   ]
  },
  {
   "cell_type": "code",
   "execution_count": null,
   "metadata": {},
   "outputs": [],
   "source": []
  },
  {
   "cell_type": "markdown",
   "metadata": {},
   "source": [
    "<div class=\"alert alert-block alert-success\">\n",
    "\n",
    "<details>\n",
    "<summary><b>Solution</b></summary>\n",
    "\n",
    "<br>\n",
    "\n",
    "`head(myDF, n = 8)`\n",
    "    \n",
    "</details>\n",
    "</div>"
   ]
  },
  {
   "cell_type": "markdown",
   "metadata": {},
   "source": [
    "<a class=\"anchor\" id=\"dim\"></a>\n",
    "#### dim()\n",
    "\n",
    "R also has a funtion called `dim()` that will allow you to print the dimensions of the data frame without having to print any lines. \n",
    "\n",
    "In the next cell, you will use the `dim()` function to report the *dimensions*, or number of rows and columns, of the `myDF` data frame. "
   ]
  },
  {
   "cell_type": "code",
   "execution_count": 23,
   "metadata": {
    "tags": []
   },
   "outputs": [
    {
     "data": {
      "text/html": [
       "<style>\n",
       ".list-inline {list-style: none; margin:0; padding: 0}\n",
       ".list-inline>li {display: inline-block}\n",
       ".list-inline>li:not(:last-child)::after {content: \"\\00b7\"; padding: 0 .5ex}\n",
       "</style>\n",
       "<ol class=list-inline><li>10</li><li>3</li></ol>\n"
      ],
      "text/latex": [
       "\\begin{enumerate*}\n",
       "\\item 10\n",
       "\\item 3\n",
       "\\end{enumerate*}\n"
      ],
      "text/markdown": [
       "1. 10\n",
       "2. 3\n",
       "\n",
       "\n"
      ],
      "text/plain": [
       "[1] 10  3"
      ]
     },
     "metadata": {},
     "output_type": "display_data"
    }
   ],
   "source": [
    "dim(myDF)"
   ]
  },
  {
   "cell_type": "markdown",
   "metadata": {},
   "source": [
    "Is the row or column dimension reported first?\n",
    "\n",
    "How many rows does `myDF` have? How many columns? "
   ]
  },
  {
   "cell_type": "markdown",
   "metadata": {},
   "source": [
    "<div class=\"alert alert-block alert-success\">\n",
    "\n",
    "<details>\n",
    "<summary><b>Solution</b></summary>\n",
    "\n",
    "<br>\n",
    "Number of rows is reported first.\n",
    "    \n",
    "10 rows and 3 columns\n",
    "</details>\n",
    "</div>"
   ]
  },
  {
   "cell_type": "markdown",
   "metadata": {},
   "source": [
    "<a class=\"anchor\" id=\"summary\"></a>\n",
    "#### summary()\n",
    "\n",
    "To get more information about a loaded data frame without having to print the entire thing, we can use the `summary()` function in R to print a mathematical summary. \n",
    "\n",
    "<a class=\"anchor\" id=\"help\"></a>\n",
    "#### help()\n",
    "\n",
    "Before reading in the .CSV file, we'll use the `help()` function in R to view all possible arguments for the `read.csv()` function. (Note: this is similar to the `--help` option that's used in most Unix commands). \n",
    "\n",
    "<div class=\"alert alert-block alert-info\">\n",
    "<b>Note</b>\n",
    "<br>\n",
    "\n",
    "`summary()` can also be used on non-data frame objects to report all the data components contained in the object.\n",
    "</div>\n",
    "\n",
    "Run the `summary()` function in the next cell to view a mathematical summary of your `myDF` data frame."
   ]
  },
  {
   "cell_type": "code",
   "execution_count": 24,
   "metadata": {
    "tags": []
   },
   "outputs": [
    {
     "data": {
      "text/plain": [
       "    column1         column2         column3     \n",
       " Min.   : 0.00   Min.   : 0.00   Min.   : 0.00  \n",
       " 1st Qu.: 4.75   1st Qu.: 5.75   1st Qu.: 6.75  \n",
       " Median :11.50   Median :12.50   Median :13.50  \n",
       " Mean   :11.70   Mean   :12.60   Mean   :13.50  \n",
       " 3rd Qu.:18.25   3rd Qu.:19.25   3rd Qu.:20.25  \n",
       " Max.   :25.00   Max.   :26.00   Max.   :27.00  "
      ]
     },
     "metadata": {},
     "output_type": "display_data"
    }
   ],
   "source": [
    "summary(myDF)"
   ]
  },
  {
   "cell_type": "markdown",
   "metadata": {},
   "source": [
    "<div class=\"alert alert-block alert-success\">\n",
    "\n",
    "<details>\n",
    "<summary><b>Solution</b></summary>\n",
    "\n",
    "<br>\n",
    "`summary(myDF)`\n",
    "\n",
    "</details>\n",
    "</div>\n"
   ]
  },
  {
   "cell_type": "markdown",
   "metadata": {},
   "source": [
    "Which column contains the highest median value in the data frame, `myDF`? \n",
    "\n",
    "Which column contains the highest overall value?\n",
    "\n",
    "<div class=\"alert alert-block alert-success\">\n",
    "\n",
    "<details>\n",
    "<summary><b>Solution</b></summary>\n",
    "\n",
    "Column 3 contains the highest median value and the highest overall value.\n",
    "\n",
    "</details>\n",
    "</div>\n"
   ]
  },
  {
   "cell_type": "markdown",
   "metadata": {
    "editable": false,
    "tags": []
   },
   "source": [
    "---"
   ]
  },
  {
   "cell_type": "markdown",
   "metadata": {},
   "source": [
    "<a class=\"anchor\" id=\"df\"></a>\n",
    "\n",
    "## 1d. Data frame manipulations\n",
    "\n",
    "Much of the data we work with in bioinformatics is in the data frame or matrix format. For example, gene expression data is usually held in matrix format, with samples as columns and genes as rows. Each entry or cell in the matrix contains the expression of a particular gene in a particular sample. \n",
    "\n",
    "When analyzing numerical data in table format, it can be useful to be able to perform mathematical functions on all cells in a data frame, such as adding a value to all cells or taking the log of all cells. Fortunately, R makes that easy for us to do. \n",
    "\n",
    "Below are some examples of common mathematical manipulations we often perform on data frames in bioinformatics.  "
   ]
  },
  {
   "cell_type": "markdown",
   "metadata": {},
   "source": [
    "<a class=\"anchor\" id=\"dfadd\"></a>\n",
    "#### Add a value to all cells\n",
    "\n",
    "In R, you can add, subtract, multiply, or divide the number in every cell of a data frame by a specific value very easily. Run the command in the next cell to add `1` to every value in your `myDF` data frame."
   ]
  },
  {
   "cell_type": "code",
   "execution_count": 25,
   "metadata": {
    "tags": []
   },
   "outputs": [
    {
     "data": {
      "text/html": [
       "<table class=\"dataframe\">\n",
       "<caption>A data.frame: 10 × 3</caption>\n",
       "<thead>\n",
       "\t<tr><th></th><th scope=col>column1</th><th scope=col>column2</th><th scope=col>column3</th></tr>\n",
       "\t<tr><th></th><th scope=col>&lt;dbl&gt;</th><th scope=col>&lt;dbl&gt;</th><th scope=col>&lt;dbl&gt;</th></tr>\n",
       "</thead>\n",
       "<tbody>\n",
       "\t<tr><th scope=row>row1</th><td> 2</td><td> 3</td><td> 4</td></tr>\n",
       "\t<tr><th scope=row>row2</th><td> 5</td><td> 6</td><td> 7</td></tr>\n",
       "\t<tr><th scope=row>row3</th><td> 8</td><td> 9</td><td>10</td></tr>\n",
       "\t<tr><th scope=row>row4</th><td>11</td><td>12</td><td>13</td></tr>\n",
       "\t<tr><th scope=row>row5</th><td>14</td><td>15</td><td>16</td></tr>\n",
       "\t<tr><th scope=row>row6</th><td>17</td><td>18</td><td>19</td></tr>\n",
       "\t<tr><th scope=row>row7</th><td>20</td><td>21</td><td>22</td></tr>\n",
       "\t<tr><th scope=row>row8</th><td>23</td><td>24</td><td>25</td></tr>\n",
       "\t<tr><th scope=row>row9</th><td>26</td><td>27</td><td>28</td></tr>\n",
       "\t<tr><th scope=row>row10</th><td> 1</td><td> 1</td><td> 1</td></tr>\n",
       "</tbody>\n",
       "</table>\n"
      ],
      "text/latex": [
       "A data.frame: 10 × 3\n",
       "\\begin{tabular}{r|lll}\n",
       "  & column1 & column2 & column3\\\\\n",
       "  & <dbl> & <dbl> & <dbl>\\\\\n",
       "\\hline\n",
       "\trow1 &  2 &  3 &  4\\\\\n",
       "\trow2 &  5 &  6 &  7\\\\\n",
       "\trow3 &  8 &  9 & 10\\\\\n",
       "\trow4 & 11 & 12 & 13\\\\\n",
       "\trow5 & 14 & 15 & 16\\\\\n",
       "\trow6 & 17 & 18 & 19\\\\\n",
       "\trow7 & 20 & 21 & 22\\\\\n",
       "\trow8 & 23 & 24 & 25\\\\\n",
       "\trow9 & 26 & 27 & 28\\\\\n",
       "\trow10 &  1 &  1 &  1\\\\\n",
       "\\end{tabular}\n"
      ],
      "text/markdown": [
       "\n",
       "A data.frame: 10 × 3\n",
       "\n",
       "| <!--/--> | column1 &lt;dbl&gt; | column2 &lt;dbl&gt; | column3 &lt;dbl&gt; |\n",
       "|---|---|---|---|\n",
       "| row1 |  2 |  3 |  4 |\n",
       "| row2 |  5 |  6 |  7 |\n",
       "| row3 |  8 |  9 | 10 |\n",
       "| row4 | 11 | 12 | 13 |\n",
       "| row5 | 14 | 15 | 16 |\n",
       "| row6 | 17 | 18 | 19 |\n",
       "| row7 | 20 | 21 | 22 |\n",
       "| row8 | 23 | 24 | 25 |\n",
       "| row9 | 26 | 27 | 28 |\n",
       "| row10 |  1 |  1 |  1 |\n",
       "\n"
      ],
      "text/plain": [
       "      column1 column2 column3\n",
       "row1   2       3       4     \n",
       "row2   5       6       7     \n",
       "row3   8       9      10     \n",
       "row4  11      12      13     \n",
       "row5  14      15      16     \n",
       "row6  17      18      19     \n",
       "row7  20      21      22     \n",
       "row8  23      24      25     \n",
       "row9  26      27      28     \n",
       "row10  1       1       1     "
      ]
     },
     "metadata": {},
     "output_type": "display_data"
    }
   ],
   "source": [
    "myDF + 1"
   ]
  },
  {
   "cell_type": "markdown",
   "metadata": {},
   "source": [
    "Use the next cell to subtract 2 from all values in your `myDF` data frame."
   ]
  },
  {
   "cell_type": "code",
   "execution_count": null,
   "metadata": {
    "tags": []
   },
   "outputs": [],
   "source": []
  },
  {
   "cell_type": "markdown",
   "metadata": {},
   "source": [
    "<div class=\"alert alert-block alert-success\">\n",
    "\n",
    "<details>\n",
    "<summary><b>Solution</b></summary>\n",
    "\n",
    "<br>\n",
    "\n",
    "`myDF - 2`\n",
    "\n",
    "</details>\n",
    "</div>"
   ]
  },
  {
   "cell_type": "markdown",
   "metadata": {},
   "source": [
    "<a class=\"anchor\" id=\"dflog\"></a>\n",
    "#### Take the log of all cells\n",
    "\n",
    "R also has a `log()` function that will allow you to take the log of all values in a data frame. By default, the `log()` function will calculate the natural log. However, you can specify which base you want to use by providing an optional argument, such as `base = 3`. There are also shortcut functions for commone ones:\n",
    "\n",
    "`log10()` will compute the common logarithm (base 10)\n",
    "\n",
    "`log2()` will compute the binary logarithm (base 2)\n",
    "\n",
    "Run the next cell to compute the natural logarithm of all values in your `myDF` data frame."
   ]
  },
  {
   "cell_type": "code",
   "execution_count": 31,
   "metadata": {
    "tags": []
   },
   "outputs": [
    {
     "data": {
      "text/html": [
       "<table class=\"dataframe\">\n",
       "<caption>A data.frame: 10 × 3</caption>\n",
       "<thead>\n",
       "\t<tr><th></th><th scope=col>column1</th><th scope=col>column2</th><th scope=col>column3</th></tr>\n",
       "\t<tr><th></th><th scope=col>&lt;dbl&gt;</th><th scope=col>&lt;dbl&gt;</th><th scope=col>&lt;dbl&gt;</th></tr>\n",
       "</thead>\n",
       "<tbody>\n",
       "\t<tr><th scope=row>row1</th><td>0.000000</td><td>1.000000</td><td>1.584963</td></tr>\n",
       "\t<tr><th scope=row>row2</th><td>2.000000</td><td>2.321928</td><td>2.584963</td></tr>\n",
       "\t<tr><th scope=row>row3</th><td>2.807355</td><td>3.000000</td><td>3.169925</td></tr>\n",
       "\t<tr><th scope=row>row4</th><td>3.321928</td><td>3.459432</td><td>3.584963</td></tr>\n",
       "\t<tr><th scope=row>row5</th><td>3.700440</td><td>3.807355</td><td>3.906891</td></tr>\n",
       "\t<tr><th scope=row>row6</th><td>4.000000</td><td>4.087463</td><td>4.169925</td></tr>\n",
       "\t<tr><th scope=row>row7</th><td>4.247928</td><td>4.321928</td><td>4.392317</td></tr>\n",
       "\t<tr><th scope=row>row8</th><td>4.459432</td><td>4.523562</td><td>4.584963</td></tr>\n",
       "\t<tr><th scope=row>row9</th><td>4.643856</td><td>4.700440</td><td>4.754888</td></tr>\n",
       "\t<tr><th scope=row>row10</th><td>    -Inf</td><td>    -Inf</td><td>    -Inf</td></tr>\n",
       "</tbody>\n",
       "</table>\n"
      ],
      "text/latex": [
       "A data.frame: 10 × 3\n",
       "\\begin{tabular}{r|lll}\n",
       "  & column1 & column2 & column3\\\\\n",
       "  & <dbl> & <dbl> & <dbl>\\\\\n",
       "\\hline\n",
       "\trow1 & 0.000000 & 1.000000 & 1.584963\\\\\n",
       "\trow2 & 2.000000 & 2.321928 & 2.584963\\\\\n",
       "\trow3 & 2.807355 & 3.000000 & 3.169925\\\\\n",
       "\trow4 & 3.321928 & 3.459432 & 3.584963\\\\\n",
       "\trow5 & 3.700440 & 3.807355 & 3.906891\\\\\n",
       "\trow6 & 4.000000 & 4.087463 & 4.169925\\\\\n",
       "\trow7 & 4.247928 & 4.321928 & 4.392317\\\\\n",
       "\trow8 & 4.459432 & 4.523562 & 4.584963\\\\\n",
       "\trow9 & 4.643856 & 4.700440 & 4.754888\\\\\n",
       "\trow10 &     -Inf &     -Inf &     -Inf\\\\\n",
       "\\end{tabular}\n"
      ],
      "text/markdown": [
       "\n",
       "A data.frame: 10 × 3\n",
       "\n",
       "| <!--/--> | column1 &lt;dbl&gt; | column2 &lt;dbl&gt; | column3 &lt;dbl&gt; |\n",
       "|---|---|---|---|\n",
       "| row1 | 0.000000 | 1.000000 | 1.584963 |\n",
       "| row2 | 2.000000 | 2.321928 | 2.584963 |\n",
       "| row3 | 2.807355 | 3.000000 | 3.169925 |\n",
       "| row4 | 3.321928 | 3.459432 | 3.584963 |\n",
       "| row5 | 3.700440 | 3.807355 | 3.906891 |\n",
       "| row6 | 4.000000 | 4.087463 | 4.169925 |\n",
       "| row7 | 4.247928 | 4.321928 | 4.392317 |\n",
       "| row8 | 4.459432 | 4.523562 | 4.584963 |\n",
       "| row9 | 4.643856 | 4.700440 | 4.754888 |\n",
       "| row10 |     -Inf |     -Inf |     -Inf |\n",
       "\n"
      ],
      "text/plain": [
       "      column1  column2  column3 \n",
       "row1  0.000000 1.000000 1.584963\n",
       "row2  2.000000 2.321928 2.584963\n",
       "row3  2.807355 3.000000 3.169925\n",
       "row4  3.321928 3.459432 3.584963\n",
       "row5  3.700440 3.807355 3.906891\n",
       "row6  4.000000 4.087463 4.169925\n",
       "row7  4.247928 4.321928 4.392317\n",
       "row8  4.459432 4.523562 4.584963\n",
       "row9  4.643856 4.700440 4.754888\n",
       "row10     -Inf     -Inf     -Inf"
      ]
     },
     "metadata": {},
     "output_type": "display_data"
    }
   ],
   "source": [
    "log(myDF)"
   ]
  },
  {
   "cell_type": "markdown",
   "metadata": {},
   "source": [
    "Use the next cell to compute the binary logarithm of all values in your `myDF` data frame."
   ]
  },
  {
   "cell_type": "code",
   "execution_count": null,
   "metadata": {
    "tags": []
   },
   "outputs": [],
   "source": []
  },
  {
   "cell_type": "markdown",
   "metadata": {},
   "source": [
    "<div class=\"alert alert-block alert-success\">\n",
    "\n",
    "<details>\n",
    "<summary><b>Solution</b></summary>\n",
    "\n",
    "<br>\n",
    "This could be done with:<br><br>\n",
    "\n",
    "`log2(myDF)`\n",
    "\n",
    "Or:<br>\n",
    "\n",
    "`log(myDF, base = 2)`\n",
    "\n",
    "</details>\n",
    "</div>\n"
   ]
  },
  {
   "cell_type": "markdown",
   "metadata": {},
   "source": [
    "<a class=\"anchor\" id=\"dfint\"></a>\n",
    "#### Convert data frame to contain only integers\n",
    "\n",
    "Some bioinformatics applications, such as DESeq2 which is commonly used for differential gene expression analysis, require that the input data contain only integers. There is a function in R called `ceiling()` that will round decimal values up to the nearest integer. \n",
    "\n",
    "Run the next cell to test the `ceiling()` function."
   ]
  },
  {
   "cell_type": "code",
   "execution_count": 32,
   "metadata": {
    "tags": []
   },
   "outputs": [
    {
     "data": {
      "text/html": [
       "2"
      ],
      "text/latex": [
       "2"
      ],
      "text/markdown": [
       "2"
      ],
      "text/plain": [
       "[1] 2"
      ]
     },
     "metadata": {},
     "output_type": "display_data"
    }
   ],
   "source": [
    "ceiling(1.2)"
   ]
  },
  {
   "cell_type": "markdown",
   "metadata": {},
   "source": [
    "Before we test this function on a data frame, we first have to create a data frame that contains decimal values. Note that although we did things like using the `log()` function to print the natural logarithm of all values in the `myDF` data frame, those calculations were not saved in the `myDF` variable.\n",
    "\n",
    "Use the next cell to print the data held in the `myDF` variable. Are the values indeed the same as what we started with?"
   ]
  },
  {
   "cell_type": "code",
   "execution_count": null,
   "metadata": {},
   "outputs": [],
   "source": []
  },
  {
   "cell_type": "markdown",
   "metadata": {
    "tags": []
   },
   "source": [
    "<div class=\"alert alert-block alert-success\">\n",
    "\n",
    "<details>\n",
    "<summary><b>Solution</b></summary>\n",
    "\n",
    "<br>\n",
    "\n",
    "`myDF`\n",
    "\n",
    "Yes\n",
    "</details>\n",
    "</div>\n"
   ]
  },
  {
   "cell_type": "markdown",
   "metadata": {},
   "source": [
    "To make changes to your `myDF` variable, the calculations must be assigned to `myDF`. In the following cell, you will subtract 0.3 from all values in your `myDF` data frame and assign the new values back to the `myDF` variable (though keep in mind this will overwrite the initial data stored there)."
   ]
  },
  {
   "cell_type": "code",
   "execution_count": 35,
   "metadata": {
    "tags": []
   },
   "outputs": [],
   "source": [
    "myDF <- myDF - 0.3"
   ]
  },
  {
   "cell_type": "markdown",
   "metadata": {},
   "source": [
    "In the next cell, print the data held in the `myDF` variable. Have the values in `myDF` changed?"
   ]
  },
  {
   "cell_type": "code",
   "execution_count": null,
   "metadata": {
    "tags": []
   },
   "outputs": [],
   "source": []
  },
  {
   "cell_type": "markdown",
   "metadata": {},
   "source": [
    "<div class=\"alert alert-block alert-success\">\n",
    "\n",
    "<details>\n",
    "<summary><b>Solution</b></summary>\n",
    "\n",
    "<br>\n",
    "\n",
    "`myDF`\n",
    "    \n",
    "Yes\n",
    "</details>\n",
    "</div>\n"
   ]
  },
  {
   "cell_type": "markdown",
   "metadata": {},
   "source": [
    "<div class=\"alert alert-block alert-info\">\n",
    "<b>Note</b>\n",
    "<br>\n",
    "If we wanted to keep a variable containing the original data in the data frame and also preserve the calculations performed, we could have assigned the calculations performed on <code>myDF</code> to a different variable as follows:\n",
    "<code>myDFsub <- myDF - 0.3</code>.\n",
    "\n",
    "</div>\n",
    "\n",
    "    \n",
    "Now that your `myDF` data frame contains decimal values, use the `ceiling()` function to round all the values in `myDF` up to the nearest integer, and assign the new values back to the `myDF` variable."
   ]
  },
  {
   "cell_type": "code",
   "execution_count": null,
   "metadata": {},
   "outputs": [],
   "source": []
  },
  {
   "cell_type": "markdown",
   "metadata": {},
   "source": [
    "<div class=\"alert alert-block alert-success\">\n",
    "\n",
    "<details>\n",
    "<summary><b>Solution</b></summary>\n",
    "\n",
    "<br>\n",
    "\n",
    "`myDF <- ceiling(myDF)`\n",
    "\n",
    "</details>\n",
    "</div>\n"
   ]
  },
  {
   "cell_type": "markdown",
   "metadata": {},
   "source": [
    "In the next cell, print the data held in the `myDF` variable. How have the values in `myDF` changed?"
   ]
  },
  {
   "cell_type": "code",
   "execution_count": null,
   "metadata": {},
   "outputs": [],
   "source": []
  },
  {
   "cell_type": "markdown",
   "metadata": {},
   "source": [
    "<div class=\"alert alert-block alert-success\">\n",
    "\n",
    "<details>\n",
    "<summary><b>Solution</b></summary>\n",
    "\n",
    "<br>\n",
    "    \n",
    "`myDF`\n",
    "\n",
    "They have all been rounded up to the nearest integer.\n",
    "\n",
    "</details>\n",
    "</div>\n"
   ]
  },
  {
   "cell_type": "markdown",
   "metadata": {},
   "source": [
    "<a class=\"anchor\" id=\"dfcol\"></a>\n",
    "##### Slice a data frame column\n",
    "\n",
    "When analyzing bioinformatics data, you may need to extract only one column from a data frame. To subset a data frame based on column names, we use the bracket `[` operator. This type of operation is also referred to as \"slicing\" the data frame. \n",
    "\n",
    "Run the cell below to slice `column1` of your `myDF` data frame."
   ]
  },
  {
   "cell_type": "code",
   "execution_count": 37,
   "metadata": {
    "tags": []
   },
   "outputs": [
    {
     "data": {
      "text/html": [
       "<table class=\"dataframe\">\n",
       "<caption>A data.frame: 10 × 1</caption>\n",
       "<thead>\n",
       "\t<tr><th></th><th scope=col>column1</th></tr>\n",
       "\t<tr><th></th><th scope=col>&lt;dbl&gt;</th></tr>\n",
       "</thead>\n",
       "<tbody>\n",
       "\t<tr><th scope=row>row1</th><td> 0.7</td></tr>\n",
       "\t<tr><th scope=row>row2</th><td> 3.7</td></tr>\n",
       "\t<tr><th scope=row>row3</th><td> 6.7</td></tr>\n",
       "\t<tr><th scope=row>row4</th><td> 9.7</td></tr>\n",
       "\t<tr><th scope=row>row5</th><td>12.7</td></tr>\n",
       "\t<tr><th scope=row>row6</th><td>15.7</td></tr>\n",
       "\t<tr><th scope=row>row7</th><td>18.7</td></tr>\n",
       "\t<tr><th scope=row>row8</th><td>21.7</td></tr>\n",
       "\t<tr><th scope=row>row9</th><td>24.7</td></tr>\n",
       "\t<tr><th scope=row>row10</th><td>-0.3</td></tr>\n",
       "</tbody>\n",
       "</table>\n"
      ],
      "text/latex": [
       "A data.frame: 10 × 1\n",
       "\\begin{tabular}{r|l}\n",
       "  & column1\\\\\n",
       "  & <dbl>\\\\\n",
       "\\hline\n",
       "\trow1 &  0.7\\\\\n",
       "\trow2 &  3.7\\\\\n",
       "\trow3 &  6.7\\\\\n",
       "\trow4 &  9.7\\\\\n",
       "\trow5 & 12.7\\\\\n",
       "\trow6 & 15.7\\\\\n",
       "\trow7 & 18.7\\\\\n",
       "\trow8 & 21.7\\\\\n",
       "\trow9 & 24.7\\\\\n",
       "\trow10 & -0.3\\\\\n",
       "\\end{tabular}\n"
      ],
      "text/markdown": [
       "\n",
       "A data.frame: 10 × 1\n",
       "\n",
       "| <!--/--> | column1 &lt;dbl&gt; |\n",
       "|---|---|\n",
       "| row1 |  0.7 |\n",
       "| row2 |  3.7 |\n",
       "| row3 |  6.7 |\n",
       "| row4 |  9.7 |\n",
       "| row5 | 12.7 |\n",
       "| row6 | 15.7 |\n",
       "| row7 | 18.7 |\n",
       "| row8 | 21.7 |\n",
       "| row9 | 24.7 |\n",
       "| row10 | -0.3 |\n",
       "\n"
      ],
      "text/plain": [
       "      column1\n",
       "row1   0.7   \n",
       "row2   3.7   \n",
       "row3   6.7   \n",
       "row4   9.7   \n",
       "row5  12.7   \n",
       "row6  15.7   \n",
       "row7  18.7   \n",
       "row8  21.7   \n",
       "row9  24.7   \n",
       "row10 -0.3   "
      ]
     },
     "metadata": {},
     "output_type": "display_data"
    }
   ],
   "source": [
    "myDF['column1']"
   ]
  },
  {
   "cell_type": "markdown",
   "metadata": {},
   "source": [
    "**Challenge:** In the next cell, try subsetting `myDF` to \"column2\", but only view the first 3 rows of the output using `head()`."
   ]
  },
  {
   "cell_type": "code",
   "execution_count": null,
   "metadata": {
    "tags": []
   },
   "outputs": [],
   "source": []
  },
  {
   "cell_type": "markdown",
   "metadata": {},
   "source": [
    "<div class=\"alert alert-block alert-success\">\n",
    "\n",
    "<details>\n",
    "<summary><b>Solution</b></summary>\n",
    "\n",
    "<br>\n",
    "    \n",
    "`head(myDF['column2'], n = 3)`\n",
    "\n",
    "</details>\n",
    "</div>"
   ]
  },
  {
   "cell_type": "markdown",
   "metadata": {},
   "source": [
    "<a class=\"anchor\" id=\"dfrow\"></a>\n",
    "#### Slice a data frame row\n",
    "\n",
    "To subset a data frame based on row names, we again use the bracket `[` operator, but we add a comma after indicating the row name, which lets R know that we are slicing along rows instead of columns.\n",
    "\n",
    "Run the cell below to slice `row1` of your `myDF` data frame."
   ]
  },
  {
   "cell_type": "code",
   "execution_count": 39,
   "metadata": {
    "tags": []
   },
   "outputs": [
    {
     "data": {
      "text/html": [
       "<table class=\"dataframe\">\n",
       "<caption>A data.frame: 1 × 3</caption>\n",
       "<thead>\n",
       "\t<tr><th></th><th scope=col>column1</th><th scope=col>column2</th><th scope=col>column3</th></tr>\n",
       "\t<tr><th></th><th scope=col>&lt;dbl&gt;</th><th scope=col>&lt;dbl&gt;</th><th scope=col>&lt;dbl&gt;</th></tr>\n",
       "</thead>\n",
       "<tbody>\n",
       "\t<tr><th scope=row>row1</th><td>0.7</td><td>1.7</td><td>2.7</td></tr>\n",
       "</tbody>\n",
       "</table>\n"
      ],
      "text/latex": [
       "A data.frame: 1 × 3\n",
       "\\begin{tabular}{r|lll}\n",
       "  & column1 & column2 & column3\\\\\n",
       "  & <dbl> & <dbl> & <dbl>\\\\\n",
       "\\hline\n",
       "\trow1 & 0.7 & 1.7 & 2.7\\\\\n",
       "\\end{tabular}\n"
      ],
      "text/markdown": [
       "\n",
       "A data.frame: 1 × 3\n",
       "\n",
       "| <!--/--> | column1 &lt;dbl&gt; | column2 &lt;dbl&gt; | column3 &lt;dbl&gt; |\n",
       "|---|---|---|---|\n",
       "| row1 | 0.7 | 1.7 | 2.7 |\n",
       "\n"
      ],
      "text/plain": [
       "     column1 column2 column3\n",
       "row1 0.7     1.7     2.7    "
      ]
     },
     "metadata": {},
     "output_type": "display_data"
    }
   ],
   "source": [
    "myDF['row1', ]"
   ]
  },
  {
   "cell_type": "markdown",
   "metadata": {},
   "source": [
    "Within those `[]` brackets following a 2-dimentional object like the data frame we are using here, when there is just one thing listed like we initially did specifying a column name, it pulls out those columns. If we provide a comma in there, it expects the value preceding the comma to specify the rows we want (like we did above with 'row1', and the value after the comma to specify the columns we want. When we leave one of those blank, like we did with columns above, it assumes we want all columns.\n",
    "\n",
    "There are multiple ways we can specify which rows or columns we want, including by name, but we can also pass TRUE/FALSE vectors, as we'll see next."
   ]
  },
  {
   "cell_type": "markdown",
   "metadata": {},
   "source": [
    "<a class=\"anchor\" id=\"dffilter\"></a>\n",
    "#### Filter data in a data frame \n",
    "\n",
    "When analyzing bioinformatics data, we often need to filter the data to reduce noise. A common filtering method is to remove rows that have all zero values. To do this, we will remove all rows whose values sum to zero using a function called `rowSums()`.\n",
    "\n",
    "First let's calculate the sum of each row in your `myDF` data frame using the `rowSums()` function:"
   ]
  },
  {
   "cell_type": "code",
   "execution_count": 40,
   "metadata": {
    "tags": []
   },
   "outputs": [
    {
     "data": {
      "text/html": [
       "<style>\n",
       ".dl-inline {width: auto; margin:0; padding: 0}\n",
       ".dl-inline>dt, .dl-inline>dd {float: none; width: auto; display: inline-block}\n",
       ".dl-inline>dt::after {content: \":\\0020\"; padding-right: .5ex}\n",
       ".dl-inline>dt:not(:first-of-type) {padding-left: .5ex}\n",
       "</style><dl class=dl-inline><dt>row1</dt><dd>5.1</dd><dt>row2</dt><dd>14.1</dd><dt>row3</dt><dd>23.1</dd><dt>row4</dt><dd>32.1</dd><dt>row5</dt><dd>41.1</dd><dt>row6</dt><dd>50.1</dd><dt>row7</dt><dd>59.1</dd><dt>row8</dt><dd>68.1</dd><dt>row9</dt><dd>77.1</dd><dt>row10</dt><dd>-0.9</dd></dl>\n"
      ],
      "text/latex": [
       "\\begin{description*}\n",
       "\\item[row1] 5.1\n",
       "\\item[row2] 14.1\n",
       "\\item[row3] 23.1\n",
       "\\item[row4] 32.1\n",
       "\\item[row5] 41.1\n",
       "\\item[row6] 50.1\n",
       "\\item[row7] 59.1\n",
       "\\item[row8] 68.1\n",
       "\\item[row9] 77.1\n",
       "\\item[row10] -0.9\n",
       "\\end{description*}\n"
      ],
      "text/markdown": [
       "row1\n",
       ":   5.1row2\n",
       ":   14.1row3\n",
       ":   23.1row4\n",
       ":   32.1row5\n",
       ":   41.1row6\n",
       ":   50.1row7\n",
       ":   59.1row8\n",
       ":   68.1row9\n",
       ":   77.1row10\n",
       ":   -0.9\n",
       "\n"
      ],
      "text/plain": [
       " row1  row2  row3  row4  row5  row6  row7  row8  row9 row10 \n",
       "  5.1  14.1  23.1  32.1  41.1  50.1  59.1  68.1  77.1  -0.9 "
      ]
     },
     "metadata": {},
     "output_type": "display_data"
    }
   ],
   "source": [
    "rowSums(myDF)"
   ]
  },
  {
   "cell_type": "markdown",
   "metadata": {},
   "source": [
    "Next, we'll use the greater than mathematical operator, `>`, to identify which rows have sums greater than zero:"
   ]
  },
  {
   "cell_type": "code",
   "execution_count": 41,
   "metadata": {
    "tags": []
   },
   "outputs": [
    {
     "data": {
      "text/html": [
       "<style>\n",
       ".dl-inline {width: auto; margin:0; padding: 0}\n",
       ".dl-inline>dt, .dl-inline>dd {float: none; width: auto; display: inline-block}\n",
       ".dl-inline>dt::after {content: \":\\0020\"; padding-right: .5ex}\n",
       ".dl-inline>dt:not(:first-of-type) {padding-left: .5ex}\n",
       "</style><dl class=dl-inline><dt>row1</dt><dd>TRUE</dd><dt>row2</dt><dd>TRUE</dd><dt>row3</dt><dd>TRUE</dd><dt>row4</dt><dd>TRUE</dd><dt>row5</dt><dd>TRUE</dd><dt>row6</dt><dd>TRUE</dd><dt>row7</dt><dd>TRUE</dd><dt>row8</dt><dd>TRUE</dd><dt>row9</dt><dd>TRUE</dd><dt>row10</dt><dd>FALSE</dd></dl>\n"
      ],
      "text/latex": [
       "\\begin{description*}\n",
       "\\item[row1] TRUE\n",
       "\\item[row2] TRUE\n",
       "\\item[row3] TRUE\n",
       "\\item[row4] TRUE\n",
       "\\item[row5] TRUE\n",
       "\\item[row6] TRUE\n",
       "\\item[row7] TRUE\n",
       "\\item[row8] TRUE\n",
       "\\item[row9] TRUE\n",
       "\\item[row10] FALSE\n",
       "\\end{description*}\n"
      ],
      "text/markdown": [
       "row1\n",
       ":   TRUErow2\n",
       ":   TRUErow3\n",
       ":   TRUErow4\n",
       ":   TRUErow5\n",
       ":   TRUErow6\n",
       ":   TRUErow7\n",
       ":   TRUErow8\n",
       ":   TRUErow9\n",
       ":   TRUErow10\n",
       ":   FALSE\n",
       "\n"
      ],
      "text/plain": [
       " row1  row2  row3  row4  row5  row6  row7  row8  row9 row10 \n",
       " TRUE  TRUE  TRUE  TRUE  TRUE  TRUE  TRUE  TRUE  TRUE FALSE "
      ]
     },
     "metadata": {},
     "output_type": "display_data"
    }
   ],
   "source": [
    "rowSums(myDF) > 0"
   ]
  },
  {
   "cell_type": "markdown",
   "metadata": {},
   "source": [
    "Finally, we can apply this output to subset the `myDF` data frame by removing all rows whose values sum to zero, using the same row slicing method we used above:"
   ]
  },
  {
   "cell_type": "code",
   "execution_count": 42,
   "metadata": {
    "tags": []
   },
   "outputs": [
    {
     "data": {
      "text/html": [
       "<table class=\"dataframe\">\n",
       "<caption>A data.frame: 9 × 3</caption>\n",
       "<thead>\n",
       "\t<tr><th></th><th scope=col>column1</th><th scope=col>column2</th><th scope=col>column3</th></tr>\n",
       "\t<tr><th></th><th scope=col>&lt;dbl&gt;</th><th scope=col>&lt;dbl&gt;</th><th scope=col>&lt;dbl&gt;</th></tr>\n",
       "</thead>\n",
       "<tbody>\n",
       "\t<tr><th scope=row>row1</th><td> 0.7</td><td> 1.7</td><td> 2.7</td></tr>\n",
       "\t<tr><th scope=row>row2</th><td> 3.7</td><td> 4.7</td><td> 5.7</td></tr>\n",
       "\t<tr><th scope=row>row3</th><td> 6.7</td><td> 7.7</td><td> 8.7</td></tr>\n",
       "\t<tr><th scope=row>row4</th><td> 9.7</td><td>10.7</td><td>11.7</td></tr>\n",
       "\t<tr><th scope=row>row5</th><td>12.7</td><td>13.7</td><td>14.7</td></tr>\n",
       "\t<tr><th scope=row>row6</th><td>15.7</td><td>16.7</td><td>17.7</td></tr>\n",
       "\t<tr><th scope=row>row7</th><td>18.7</td><td>19.7</td><td>20.7</td></tr>\n",
       "\t<tr><th scope=row>row8</th><td>21.7</td><td>22.7</td><td>23.7</td></tr>\n",
       "\t<tr><th scope=row>row9</th><td>24.7</td><td>25.7</td><td>26.7</td></tr>\n",
       "</tbody>\n",
       "</table>\n"
      ],
      "text/latex": [
       "A data.frame: 9 × 3\n",
       "\\begin{tabular}{r|lll}\n",
       "  & column1 & column2 & column3\\\\\n",
       "  & <dbl> & <dbl> & <dbl>\\\\\n",
       "\\hline\n",
       "\trow1 &  0.7 &  1.7 &  2.7\\\\\n",
       "\trow2 &  3.7 &  4.7 &  5.7\\\\\n",
       "\trow3 &  6.7 &  7.7 &  8.7\\\\\n",
       "\trow4 &  9.7 & 10.7 & 11.7\\\\\n",
       "\trow5 & 12.7 & 13.7 & 14.7\\\\\n",
       "\trow6 & 15.7 & 16.7 & 17.7\\\\\n",
       "\trow7 & 18.7 & 19.7 & 20.7\\\\\n",
       "\trow8 & 21.7 & 22.7 & 23.7\\\\\n",
       "\trow9 & 24.7 & 25.7 & 26.7\\\\\n",
       "\\end{tabular}\n"
      ],
      "text/markdown": [
       "\n",
       "A data.frame: 9 × 3\n",
       "\n",
       "| <!--/--> | column1 &lt;dbl&gt; | column2 &lt;dbl&gt; | column3 &lt;dbl&gt; |\n",
       "|---|---|---|---|\n",
       "| row1 |  0.7 |  1.7 |  2.7 |\n",
       "| row2 |  3.7 |  4.7 |  5.7 |\n",
       "| row3 |  6.7 |  7.7 |  8.7 |\n",
       "| row4 |  9.7 | 10.7 | 11.7 |\n",
       "| row5 | 12.7 | 13.7 | 14.7 |\n",
       "| row6 | 15.7 | 16.7 | 17.7 |\n",
       "| row7 | 18.7 | 19.7 | 20.7 |\n",
       "| row8 | 21.7 | 22.7 | 23.7 |\n",
       "| row9 | 24.7 | 25.7 | 26.7 |\n",
       "\n"
      ],
      "text/plain": [
       "     column1 column2 column3\n",
       "row1  0.7     1.7     2.7   \n",
       "row2  3.7     4.7     5.7   \n",
       "row3  6.7     7.7     8.7   \n",
       "row4  9.7    10.7    11.7   \n",
       "row5 12.7    13.7    14.7   \n",
       "row6 15.7    16.7    17.7   \n",
       "row7 18.7    19.7    20.7   \n",
       "row8 21.7    22.7    23.7   \n",
       "row9 24.7    25.7    26.7   "
      ]
     },
     "metadata": {},
     "output_type": "display_data"
    }
   ],
   "source": [
    "myDF[ rowSums(myDF) > 0 , ]"
   ]
  },
  {
   "cell_type": "markdown",
   "metadata": {},
   "source": [
    "R is converting the expression `rowSums(myDF) > 0` into a TRUE/FALSE vector, and then only returning the rows where the vector holds a value of TRUE."
   ]
  },
  {
   "cell_type": "markdown",
   "metadata": {},
   "source": [
    "Use what you've just learned to remove all rows in `myDF` whose sum is less than 20, in the next cell. "
   ]
  },
  {
   "cell_type": "code",
   "execution_count": 43,
   "metadata": {
    "tags": []
   },
   "outputs": [
    {
     "data": {
      "text/html": [
       "<table class=\"dataframe\">\n",
       "<caption>A data.frame: 3 × 3</caption>\n",
       "<thead>\n",
       "\t<tr><th></th><th scope=col>column1</th><th scope=col>column2</th><th scope=col>column3</th></tr>\n",
       "\t<tr><th></th><th scope=col>&lt;dbl&gt;</th><th scope=col>&lt;dbl&gt;</th><th scope=col>&lt;dbl&gt;</th></tr>\n",
       "</thead>\n",
       "<tbody>\n",
       "\t<tr><th scope=row>row1</th><td> 0.7</td><td> 1.7</td><td> 2.7</td></tr>\n",
       "\t<tr><th scope=row>row2</th><td> 3.7</td><td> 4.7</td><td> 5.7</td></tr>\n",
       "\t<tr><th scope=row>row10</th><td>-0.3</td><td>-0.3</td><td>-0.3</td></tr>\n",
       "</tbody>\n",
       "</table>\n"
      ],
      "text/latex": [
       "A data.frame: 3 × 3\n",
       "\\begin{tabular}{r|lll}\n",
       "  & column1 & column2 & column3\\\\\n",
       "  & <dbl> & <dbl> & <dbl>\\\\\n",
       "\\hline\n",
       "\trow1 &  0.7 &  1.7 &  2.7\\\\\n",
       "\trow2 &  3.7 &  4.7 &  5.7\\\\\n",
       "\trow10 & -0.3 & -0.3 & -0.3\\\\\n",
       "\\end{tabular}\n"
      ],
      "text/markdown": [
       "\n",
       "A data.frame: 3 × 3\n",
       "\n",
       "| <!--/--> | column1 &lt;dbl&gt; | column2 &lt;dbl&gt; | column3 &lt;dbl&gt; |\n",
       "|---|---|---|---|\n",
       "| row1 |  0.7 |  1.7 |  2.7 |\n",
       "| row2 |  3.7 |  4.7 |  5.7 |\n",
       "| row10 | -0.3 | -0.3 | -0.3 |\n",
       "\n"
      ],
      "text/plain": [
       "      column1 column2 column3\n",
       "row1   0.7     1.7     2.7   \n",
       "row2   3.7     4.7     5.7   \n",
       "row10 -0.3    -0.3    -0.3   "
      ]
     },
     "metadata": {},
     "output_type": "display_data"
    }
   ],
   "source": [
    "myDF[ rowSums(myDF) < 20 , ]"
   ]
  },
  {
   "cell_type": "markdown",
   "metadata": {},
   "source": [
    "<div class=\"alert alert-block alert-success\">\n",
    "\n",
    "<details>\n",
    "<summary><b>Solution</b></summary>\n",
    "\n",
    "<br>\n",
    "\n",
    "`myDF[ rowSums(myDF) < 20 , ]`\n",
    "\n",
    "</details>\n",
    "</div>\n"
   ]
  },
  {
   "cell_type": "markdown",
   "metadata": {},
   "source": [
    "Which rows remain after filtering by those whose row sums are less than 20?\n",
    "\n",
    "<div class=\"alert alert-block alert-success\">\n",
    "\n",
    "<details>\n",
    "<summary><b>Solution</b></summary>\n",
    "\n",
    "<br>\n",
    "\n",
    "Rows 1, 2, and 10.\n",
    "\n",
    "</details>\n",
    "</div>"
   ]
  },
  {
   "cell_type": "markdown",
   "metadata": {},
   "source": [
    "<a class=\"anchor\" id=\"dfmore\"></a>\n",
    "#### Add columns to a data frame\n",
    "\n",
    "When generating a table containing results from a bioinformatic analysis, it may be useful to add a column. To add a column to a data frame, we use the `[` bracket operator to name the new column. We then turn the new column into a variable using the `<-` operator, and we assign a list of values to that variable. \n",
    "\n",
    "To create a list of values in R, we use the `c()` function, which is a method that combines all its arguments to form a vector, or list.\n",
    "\n",
    "Run the next cell to add a 4th column to your `myDF` data frame, then print the revised data frame, `myDF`."
   ]
  },
  {
   "cell_type": "code",
   "execution_count": null,
   "metadata": {},
   "outputs": [],
   "source": [
    "myDF['column4'] <- c(1,2,3,4,5,6,7,8,9,10)\n",
    "myDF"
   ]
  },
  {
   "cell_type": "markdown",
   "metadata": {},
   "source": [
    "Use the next cell to add a 5th column to your `myDF` data frame, then print the revised data frame."
   ]
  },
  {
   "cell_type": "code",
   "execution_count": null,
   "metadata": {},
   "outputs": [],
   "source": []
  },
  {
   "cell_type": "markdown",
   "metadata": {},
   "source": [
    "<a class=\"anchor\" id=\"dfcombine\"></a>\n",
    "#### Combine data frames\n",
    "\n",
    "Sometimes in bioinformatics, we have two (or more) data frames that we want to combine into one data frame. To do this, we can use the R function `cbind()`. `cbind()` requires at least two arguments: the names of the two data frames that need to be combined.\n",
    "\n",
    "Let's duplicate `myDF` and then use `cbind()` to merge the original and duplicated data frames.\n",
    "\n",
    "Run the following cell to create a copy of `myDF` in a variable called `myDF2`, then view the contents of the `myDF2` data frame."
   ]
  },
  {
   "cell_type": "code",
   "execution_count": null,
   "metadata": {},
   "outputs": [],
   "source": [
    "myDF2 <- myDF\n",
    "myDF2"
   ]
  },
  {
   "cell_type": "markdown",
   "metadata": {},
   "source": [
    "Now that we have two data frames, `myDF` and `myDF2`, let's use `cbind()` to combine them into one data frame:"
   ]
  },
  {
   "cell_type": "code",
   "execution_count": null,
   "metadata": {},
   "outputs": [],
   "source": [
    "cbind(myDF, myDF2)"
   ]
  },
  {
   "cell_type": "markdown",
   "metadata": {},
   "source": [
    "Now, instead of merely printing the combined data frame, use the next cell to create a variable called `combinedDF` that holds the combined data frame. We suggest the `combinedDF` as a short representation of the phrase \"combined data frame\"."
   ]
  },
  {
   "cell_type": "code",
   "execution_count": null,
   "metadata": {},
   "outputs": [],
   "source": []
  },
  {
   "cell_type": "markdown",
   "metadata": {},
   "source": [
    "What are the dimensions of the `combinedDF` data frame? Hint: use the `dim()` function in the cell below."
   ]
  },
  {
   "cell_type": "code",
   "execution_count": null,
   "metadata": {},
   "outputs": [],
   "source": []
  },
  {
   "cell_type": "markdown",
   "metadata": {},
   "source": [
    "Did `cbind()` merge these data frames on the row dimension or the column dimension? Why do you think that is? Hint: you can take a look at the `cbind()` documentation using the `help()` function."
   ]
  },
  {
   "cell_type": "code",
   "execution_count": null,
   "metadata": {},
   "outputs": [],
   "source": []
  },
  {
   "cell_type": "code",
   "execution_count": null,
   "metadata": {},
   "outputs": [],
   "source": []
  },
  {
   "cell_type": "markdown",
   "metadata": {
    "editable": false,
    "tags": []
   },
   "source": [
    "---"
   ]
  },
  {
   "cell_type": "markdown",
   "metadata": {},
   "source": [
    "<a class=\"anchor\" id=\"export\"></a>\n",
    "\n",
    "## 1e. Export data from R"
   ]
  },
  {
   "cell_type": "markdown",
   "metadata": {},
   "source": [
    "<a class=\"anchor\" id=\"write\"></a>\n",
    "\n",
    "#### write.csv()\n",
    "\n",
    "Thus far, we have manipulated data frame variables in R, but the altered data is only stored in memory until you export it. How you export data in R will depend on the file type to which you want to export the data. Similar to loading data in R, R has several built-in functions for exporting common file types, including .TXT files, .CSV (comma-separated values) files and .TSV (tab-separated-values) files.\n",
    "\n",
    "In this tutorial, we will export the data as a .CSV file. To do this, we will use the `write.csv()` function to write a data frame out to a file. The following arguments are needed to execute the `write.csv()` function: \n",
    "\n",
    "* the data frame we want to write out \n",
    "* the file name we want to write to\n",
    "\n",
    "In the next cell, you will use `write.csv()` to export your `combinedDF` data frame to a file called `combinedDF.csv`."
   ]
  },
  {
   "cell_type": "code",
   "execution_count": null,
   "metadata": {},
   "outputs": [],
   "source": [
    "write.csv(combinedDF, 'combinedDF.csv')"
   ]
  },
  {
   "cell_type": "markdown",
   "metadata": {},
   "source": [
    "List all files in your current directory using the `list.files()` function:"
   ]
  },
  {
   "cell_type": "code",
   "execution_count": null,
   "metadata": {},
   "outputs": [],
   "source": [
    "list.files()"
   ]
  },
  {
   "cell_type": "markdown",
   "metadata": {},
   "source": [
    "Do you see your `combinedDF.csv` file in your current directory?\n",
    "\n",
    "Challenge: Use the next few cells to export your `myDF2` data frame as a .CSV file called `myDF2.csv` but this time, specify your home directory as the path you want to write your file to (hint: use the `homeDir` variable you created previously). Then list all files in your home directory. Did you successfully export the `myDF2.csv` file?"
   ]
  },
  {
   "cell_type": "code",
   "execution_count": null,
   "metadata": {},
   "outputs": [],
   "source": []
  },
  {
   "cell_type": "markdown",
   "metadata": {
    "editable": false,
    "tags": []
   },
   "source": [
    "---"
   ]
  },
  {
   "cell_type": "markdown",
   "metadata": {},
   "source": [
    "<a class=\"anchor\" id=\"viz\"></a>\n",
    "\n",
    "## 1f. Visualizations"
   ]
  },
  {
   "cell_type": "markdown",
   "metadata": {},
   "source": [
    "<a class=\"anchor\" id=\"plot\"></a>\n",
    "\n",
    "#### plot()\n",
    "\n",
    "R has a basic built-in function for many common plot types called `plot()`. \n",
    "\n",
    "At its most basic, the function call is: `plot(x,y)`, where x and y are numeric vectors containing the (x,y) points for the plot.\n",
    "\n",
    "Let's call `plot()` with the following parameters: \n",
    "\n",
    "* x = the values from myDF2, column 1\n",
    "* y = the values from myDF2, column 4\n",
    "\n",
    "\n",
    "We saw before that we can use the following syntax to extract just one column from a dataframe: \n",
    "`myDF2['column1']`.  But recall that this produces a subset dataframe, not a vector of numbers. \n",
    "\n",
    "If we need just the values from a column as a vector of numbers, we can use the following syntax: \n",
    "`myDF2$column1`\n",
    "> Note: The `$` specifies the column title.\n",
    "\n",
    "Use this syntax to fill in the x and y vectors in the function call below: \n"
   ]
  },
  {
   "cell_type": "code",
   "execution_count": null,
   "metadata": {},
   "outputs": [],
   "source": [
    "plot()"
   ]
  },
  {
   "cell_type": "markdown",
   "metadata": {},
   "source": [
    "Let's see if we can make this plot more interesting. Let's look at the parameters for `plot()`:"
   ]
  },
  {
   "cell_type": "code",
   "execution_count": null,
   "metadata": {},
   "outputs": [],
   "source": [
    "help(plot)"
   ]
  },
  {
   "cell_type": "markdown",
   "metadata": {},
   "source": [
    "In the next few cells, recreate this plot but pass different values to the following 2 parameters: `type` and `col`. \n",
    "\n",
    "**Challenge:** Can you create a plot with both points and lines, colored purple? "
   ]
  },
  {
   "cell_type": "code",
   "execution_count": null,
   "metadata": {},
   "outputs": [],
   "source": []
  },
  {
   "cell_type": "code",
   "execution_count": null,
   "metadata": {},
   "outputs": [],
   "source": []
  },
  {
   "cell_type": "code",
   "execution_count": null,
   "metadata": {},
   "outputs": [],
   "source": []
  },
  {
   "cell_type": "code",
   "execution_count": null,
   "metadata": {},
   "outputs": [],
   "source": []
  },
  {
   "cell_type": "code",
   "execution_count": null,
   "metadata": {},
   "outputs": [],
   "source": []
  },
  {
   "cell_type": "code",
   "execution_count": null,
   "metadata": {},
   "outputs": [],
   "source": []
  },
  {
   "cell_type": "markdown",
   "metadata": {
    "deletable": false,
    "editable": false,
    "tags": []
   },
   "source": [
    "<br>\n",
    "\n",
    "---\n",
    "---\n",
    "\n",
    "[**Previous:** 2. Unix intro](02-unix-intro.ipynb)\n",
    "<br>\n",
    "\n",
    "<div style=\"text-align: right\"><a href=\"04-setup-QC.ipynb\"><b>Next:</b> 4. Setup and QC</a></div>"
   ]
  }
 ],
 "metadata": {
  "kernelspec": {
   "display_name": "R",
   "language": "R",
   "name": "ir"
  },
  "language_info": {
   "codemirror_mode": "r",
   "file_extension": ".r",
   "mimetype": "text/x-r-source",
   "name": "R",
   "pygments_lexer": "r",
   "version": "4.1.3"
  },
  "toc": {
   "base_numbering": 1,
   "nav_menu": {},
   "number_sections": false,
   "sideBar": true,
   "skip_h1_title": false,
   "title_cell": "Table of Contents",
   "title_sidebar": "Contents",
   "toc_cell": false,
   "toc_position": {
    "height": "calc(100% - 180px)",
    "left": "10px",
    "top": "150px",
    "width": "165px"
   },
   "toc_section_display": true,
   "toc_window_display": true
  }
 },
 "nbformat": 4,
 "nbformat_minor": 4
}
