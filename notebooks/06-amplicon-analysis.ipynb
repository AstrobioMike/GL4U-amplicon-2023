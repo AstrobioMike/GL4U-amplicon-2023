{
 "cells": [
  {
   "cell_type": "markdown",
   "id": "7db7e4fd-09b4-4716-bfec-caca73ec7209",
   "metadata": {
    "deletable": false,
    "editable": false,
    "tags": []
   },
   "source": [
    "<hr style=\"height:0px; visibility:hidden;\" />\n",
    "\n",
    "<h1><center>6. Amplicon analysis</center></h1>\n",
    "\n",
    "\n",
    "<div class=\"alert alert-block alert-success\">\n",
    "Following the standard processing we performed in the previous notebook, now we're ready to start getting into some analysis! As mentioned before, R can be busy and messy when we aren't that used to it yet (and even still when we are used to it). Don't feel like you need to digest and completely understand all of the R code right away; the concepts are more important than specific code.\n",
    "</div>\n",
    "\n",
    "---\n",
    "\n",
    "<center>This is notebook 6 of 6 of <a href=\"00-overview.ipynb\">GL4U's Amplicon Bootcamp</a>. It is expected that the previous notebooks have been completed already.</center>\n",
    "\n",
    "---\n",
    "\n",
    "[**Previous:** 5. Amplicon processing](05-amplicon-processing.ipynb)\n",
    "<br>\n",
    "\n",
    "<div style=\"text-align: right\"><a href=\"00-overview.ipynb\"><b>Back to:</b> Overview</a></div>\n",
    "\n",
    "---\n",
    "---"
   ]
  },
  {
   "cell_type": "markdown",
   "id": "0697a8c0-496e-4aea-aeaa-f6987b29e31f",
   "metadata": {
    "deletable": false,
    "editable": false,
    "tags": []
   },
   "source": [
    "## Setting up our environment"
   ]
  },
  {
   "cell_type": "markdown",
   "id": "df8d4d50-90e9-41fb-b1d1-7bf88524b4fe",
   "metadata": {
    "deletable": false,
    "editable": false,
    "tags": []
   },
   "source": [
    "### Loading libraries"
   ]
  },
  {
   "cell_type": "code",
   "execution_count": null,
   "id": "73ac6117-ca25-42a3-8c84-f80c1709f8ab",
   "metadata": {
    "tags": []
   },
   "outputs": [],
   "source": [
    "library(tidyverse)\n",
    "library(phyloseq)\n",
    "library(vegan)\n",
    "library(dendextend)\n",
    "library(DESeq2)"
   ]
  },
  {
   "cell_type": "markdown",
   "id": "346e40df-8576-45b0-af06-d961bef6c60d",
   "metadata": {
    "deletable": false,
    "editable": false,
    "tags": []
   },
   "source": [
    "### Setting our location and some variables"
   ]
  },
  {
   "cell_type": "code",
   "execution_count": null,
   "id": "9eae4ca8-fa57-493f-ae31-f6b4286f0892",
   "metadata": {
    "tags": []
   },
   "outputs": [],
   "source": [
    "setwd(\"~/GL4U-amplicon-tutorial/\")"
   ]
  },
  {
   "cell_type": "code",
   "execution_count": null,
   "id": "15da00fd-695f-4678-bb4c-9a803cb3cfec",
   "metadata": {
    "tags": []
   },
   "outputs": [],
   "source": [
    "list.files()"
   ]
  },
  {
   "cell_type": "code",
   "execution_count": null,
   "id": "8e2bcd43-d5e1-4dd4-b523-465133ee6721",
   "metadata": {
    "tags": []
   },
   "outputs": [],
   "source": [
    "final_outputs_dir <- \"final-outputs\""
   ]
  },
  {
   "cell_type": "code",
   "execution_count": null,
   "id": "776b69b8-e52b-4c4e-ba2f-e5eca20c05a8",
   "metadata": {
    "tags": []
   },
   "outputs": [],
   "source": [
    "# reading in our sample info table and making a variable holding just the sample names like we did earlier\n",
    "sample_info_tab <- read.table(file = \"sample-info.tsv\", header = TRUE, sep = \"\\t\", row.names = 1)\n",
    "sample_names <- row.names(sample_info_tab)\n",
    "sample_names"
   ]
  },
  {
   "cell_type": "markdown",
   "id": "8c1ded98-02ff-4b06-ac5f-e6bd1fd0eb2f",
   "metadata": {
    "deletable": false,
    "editable": false,
    "tags": []
   },
   "source": [
    "---"
   ]
  },
  {
   "cell_type": "markdown",
   "id": "3a591ec4-2816-4572-85c6-c73fc2c7b8fd",
   "metadata": {
    "deletable": false,
    "editable": false,
    "tags": []
   },
   "source": [
    "## Reading in processed data"
   ]
  },
  {
   "cell_type": "markdown",
   "id": "5736bc9d-333c-4d1a-ac59-fca4dd4f4461",
   "metadata": {
    "deletable": false,
    "editable": false,
    "tags": []
   },
   "source": [
    "Here we’re primarily going to be working with our count table, our taxonomy table, and our sample info table."
   ]
  },
  {
   "cell_type": "code",
   "execution_count": null,
   "id": "9d2e42f7-f2b4-49c6-a250-2108cf9c9dba",
   "metadata": {
    "tags": []
   },
   "outputs": [],
   "source": [
    "# reading in our newly generated count table in a similar fashion as we've done previously\n",
    "count_tab <- read.table(file = paste0(final_outputs_dir, \"/ASV_counts.tsv\"), header = TRUE, row.names = 1, sep = \"\\t\")"
   ]
  },
  {
   "cell_type": "markdown",
   "id": "5146c453-b113-4423-82b4-09989895b316",
   "metadata": {
    "deletable": false,
    "editable": false,
    "tags": []
   },
   "source": [
    "<div class=\"alert alert-block alert-info\">\n",
    "    \n",
    "Note that here we are using the `paste0()` function to make the argument that we are passing to `file =`. Nesting functions like this can get messy if we do too many, but sometimes they are more convenient than adding another separate line. \n",
    "\n",
    "</div>"
   ]
  },
  {
   "cell_type": "markdown",
   "id": "9e60d2b2-a871-438f-8a83-00d25d542100",
   "metadata": {
    "deletable": false,
    "editable": false,
    "tags": []
   },
   "source": [
    "And it's always good to visually check that our table was read-in the way we expect:"
   ]
  },
  {
   "cell_type": "code",
   "execution_count": null,
   "id": "2bb8d103-3596-4965-acef-c7d3aec9c0eb",
   "metadata": {
    "tags": []
   },
   "outputs": [],
   "source": [
    "head(count_tab)"
   ]
  },
  {
   "cell_type": "code",
   "execution_count": null,
   "id": "7bef9059-9664-4f3f-9a61-204b5ec1fbdc",
   "metadata": {
    "tags": []
   },
   "outputs": [],
   "source": [
    "# now reading in the taxonomy table in the same way as above\n",
    "tax_tab <- read.table(paste0(final_outputs_dir, \"/ASV_taxonomy.tsv\"), header = TRUE, row.names = 1, sep = \"\\t\")"
   ]
  },
  {
   "cell_type": "code",
   "execution_count": null,
   "id": "dd57b432-e877-4f28-8139-a2b9981cece9",
   "metadata": {
    "tags": []
   },
   "outputs": [],
   "source": [
    "head(tax_tab)"
   ]
  },
  {
   "cell_type": "markdown",
   "id": "ec328774-9e2a-4ffb-baf6-3813001ae9cf",
   "metadata": {
    "deletable": false,
    "editable": false,
    "tags": []
   },
   "source": [
    "---"
   ]
  },
  {
   "cell_type": "markdown",
   "id": "a528cc80-193f-4483-9350-d421e7b17a59",
   "metadata": {
    "deletable": false,
    "editable": false,
    "tags": []
   },
   "source": [
    "## Beta diversity"
   ]
  },
  {
   "cell_type": "markdown",
   "id": "e7192f11-e1a9-4c64-b78e-e19b17749d6d",
   "metadata": {
    "deletable": false,
    "editable": false,
    "tags": []
   },
   "source": [
    "Beta diversity involves calculating metrics such as distances or dissimilarities based on pairwise comparisons of samples – they don’t exist for a single sample, but rather only as metrics that relate samples to each other. Typically one of the first things I do when I get a new dataset into R (whether it’s marker-gene data like this, or gene expression data, or really anything) is generate some exploratory visualizations like ordinations and hierarchical clusterings. These give us a quick overview of how our samples relate to each other and can be a way to check for problems like batch effects.\n",
    "\n",
    "We’re going to use Euclidean distances to generate some exploratory visualizations of our samples. Since differences in sampling depths between samples can influence distance/dissimilarity metrics, we first need to somehow normalize across our samples.\n",
    "\n",
    "<center><b>SIDE BAR: Normalizing for sampling depth</b></center>\n",
    "\n",
    "Previously common ways to normalize for differences in sampling depth (i.e., differing numbers of reads per sample) involved either subsampling each sample down the the lowest sample’s depth, or turning counts into proportions of the total for each sample. However, both of these approaches are generally shunned by people I trust when it comes to such topics (i.e., statisticians). For example, in their [PLOS Computational Biology paper, “Waste not, want not: why rarefying microbiome data is inadmissible”](http://journals.plos.org/ploscompbiol/article?id=10.1371/journal.pcbi.1003531), McMurdie and Holmes show that there are much better methods of normalizing across samples, such as using a variance stabilizing transformation – which we can do with the DESeq2 package that we already have loaded (you can find more info about this in [Data transformations and visualization section](http://bioconductor.org/packages/devel/bioc/vignettes/DESeq2/inst/doc/DESeq2.html#data-transformations-and-visualization) of the DESeq2 manual if wanted).\n",
    "\n",
    "First, we need to make a DESeq2 object:"
   ]
  },
  {
   "cell_type": "code",
   "execution_count": null,
   "id": "987e72a3-013d-410f-a642-1516d750390b",
   "metadata": {
    "tags": []
   },
   "outputs": [],
   "source": [
    "deseq_counts <- DESeqDataSetFromMatrix(countData = count_tab, colData = sample_info_tab, design = ~1)\n",
    "    # we need to include the colData and design arguments, but for our purposes here they are not being used for anything"
   ]
  },
  {
   "cell_type": "markdown",
   "id": "34525d40-bcef-45db-81e8-1fc3a1071f37",
   "metadata": {
    "deletable": false,
    "editable": false,
    "tags": []
   },
   "source": [
    "<div class=\"alert alert-block alert-info\">\n",
    "<b>Code Breakdown</b>\n",
    "<br>\n",
    "\n",
    "- `DESeqDataSetFromMatrix()`      - the primary function we're using\n",
    "    - `countData = `       - where we specify the input count table\n",
    "    - `colData = `         - where we provide the sample information table\n",
    "    - `design = `          - where we provide a formula describing how the samples relate as per the information in the sample information table (`~1` is for no design, which is fine since we are not doing any testing with this object)\n",
    "\n",
    "</div>"
   ]
  },
  {
   "cell_type": "markdown",
   "id": "1b798685-a680-4aea-aea8-eaf09b318cec",
   "metadata": {
    "deletable": false,
    "editable": false,
    "tags": []
   },
   "source": [
    "Now, we can create an object with the counts transformed:"
   ]
  },
  {
   "cell_type": "code",
   "execution_count": null,
   "id": "a8e4d478-277d-4807-b23d-f7919ac21345",
   "metadata": {
    "tags": []
   },
   "outputs": [],
   "source": [
    "deseq_counts_vst <- varianceStabilizingTransformation(deseq_counts)"
   ]
  },
  {
   "cell_type": "markdown",
   "id": "a3b82bc5-80cb-4ee1-86fc-58ad6d93dbe9",
   "metadata": {
    "deletable": false,
    "editable": false,
    "tags": []
   },
   "source": [
    "And, the DESeq2 `assay()` function let's us pull out just that table of the transformed counts:"
   ]
  },
  {
   "cell_type": "code",
   "execution_count": null,
   "id": "965ee338-4f3d-4f2d-8967-8a2a03c2335f",
   "metadata": {
    "tags": []
   },
   "outputs": [],
   "source": [
    "vst_trans_count_tab <- assay(deseq_counts_vst)"
   ]
  },
  {
   "cell_type": "code",
   "execution_count": null,
   "id": "6d78dc3b-2abe-408e-a361-0a4c144bcbb9",
   "metadata": {
    "tags": []
   },
   "outputs": [],
   "source": [
    "head(vst_trans_count_tab)"
   ]
  },
  {
   "cell_type": "markdown",
   "id": "aba88a69-2d05-436e-914d-cfd7cee45d5a",
   "metadata": {
    "deletable": false,
    "editable": false,
    "tags": []
   },
   "source": [
    "Next, we are going to calculate a Euclidean distance matrix of our samples, based on the transformed counts. Note that we are transposing the table (with the `t()` function), just because the `dist()` function expects the rows to be the items we want to calculate distances for:"
   ]
  },
  {
   "cell_type": "code",
   "execution_count": null,
   "id": "1278b3f2-0558-4644-962a-4f987a1cdc30",
   "metadata": {
    "tags": []
   },
   "outputs": [],
   "source": [
    "euc_dist <- dist(t(vst_trans_count_tab))"
   ]
  },
  {
   "cell_type": "code",
   "execution_count": null,
   "id": "b20d3ce5-4f48-4a38-b6ae-157443fb5676",
   "metadata": {
    "tags": []
   },
   "outputs": [],
   "source": [
    "euc_dist"
   ]
  },
  {
   "cell_type": "markdown",
   "id": "d2c2aa8a-fa35-41e3-82e5-5060dd57f94d",
   "metadata": {
    "deletable": false,
    "editable": false,
    "tags": []
   },
   "source": [
    "### Hierarchical clustering"
   ]
  },
  {
   "cell_type": "markdown",
   "id": "3fbade10-1ba2-4ae7-87a6-4a66b086f207",
   "metadata": {
    "deletable": false,
    "editable": false,
    "tags": []
   },
   "source": [
    "Now that we have our Euclidean distance matrix, let's make and plot a hierarchical clustering of our samples."
   ]
  },
  {
   "cell_type": "code",
   "execution_count": null,
   "id": "a686c73e-8905-48a8-8026-4508f62ec18f",
   "metadata": {
    "tags": []
   },
   "outputs": [],
   "source": [
    "euc_clust <- hclust(d = euc_dist, method = \"ward.D2\")"
   ]
  },
  {
   "cell_type": "markdown",
   "id": "081bb5ff-eba2-4350-8636-ad8d6e302880",
   "metadata": {
    "deletable": false,
    "editable": false,
    "tags": []
   },
   "source": [
    "<div class=\"alert alert-block alert-info\">\n",
    "<b>Code Breakdown</b>\n",
    "<br>\n",
    "\n",
    "- `hclust()`      - the primary function we're using\n",
    "    - `d = `       - where we specify the input dissimilarity or distance object\n",
    "    - `method = `  - where we specify the method of clustering to use (we could see all options with `?hclust`)\n",
    "\n",
    "</div>"
   ]
  },
  {
   "cell_type": "markdown",
   "id": "0de8222b-469c-4743-9695-b18bfbeae747",
   "metadata": {
    "deletable": false,
    "editable": false,
    "tags": []
   },
   "source": [
    "We can just plot that as is:"
   ]
  },
  {
   "cell_type": "code",
   "execution_count": null,
   "id": "95bfd36c-2f8f-4d61-814d-97cee4564ad3",
   "metadata": {
    "tags": []
   },
   "outputs": [],
   "source": [
    "plot(euc_clust)"
   ]
  },
  {
   "cell_type": "markdown",
   "id": "c67f4e27-86e2-48df-99af-55c6028d98c4",
   "metadata": {
    "deletable": false,
    "editable": false,
    "tags": []
   },
   "source": [
    "But we can also run a few other lines to plot it colored, which can be helpful:"
   ]
  },
  {
   "cell_type": "code",
   "execution_count": null,
   "id": "07956b66-0275-4c02-8b2f-9b3cf3e437bb",
   "metadata": {
    "tags": []
   },
   "outputs": [],
   "source": [
    "euc_dend <- as.dendrogram(euc_clust, hang = 0.1)\n",
    "dend_cols <- sample_info_tab$color[order.dendrogram(euc_dend)]\n",
    "labels_colors(euc_dend) <- dend_cols"
   ]
  },
  {
   "cell_type": "code",
   "execution_count": null,
   "id": "2686aeac-f555-4ccc-b0e7-593990d7d331",
   "metadata": {
    "tags": []
   },
   "outputs": [],
   "source": [
    "plot(euc_dend, ylab = \"VST Euc. dist.\")"
   ]
  },
  {
   "cell_type": "markdown",
   "id": "41cfa5c3-5c8d-48c7-b1c4-cae415b719cb",
   "metadata": {
    "deletable": false,
    "editable": false,
    "tags": []
   },
   "source": [
    "Glancing at that clustering, it looks as though ground samples G3 and G5 are the most dissimilary from the rest, with flight samples F3 and F5 slightly grouping with the remaining ground samples more so than with the the other flight samples. An ordination is another way to see how samples relate to each other on a broad scale. "
   ]
  },
  {
   "cell_type": "markdown",
   "id": "c581db15-e030-4ced-8092-51248adb1093",
   "metadata": {
    "deletable": false,
    "editable": false,
    "tags": []
   },
   "source": [
    "### Ordination"
   ]
  },
  {
   "cell_type": "markdown",
   "id": "5a90c0e7-7729-477d-89af-4069d9e9e3ec",
   "metadata": {
    "deletable": false,
    "editable": false,
    "tags": []
   },
   "source": [
    "Generally speaking, ordinations provide visualizations of sample-relatedness based on dimension reduction. The ‘dimensions’ could be whatever we measured in each sample, which in our case here is counts of ASVs. Principle coordinates analysis (PCoA) is a type of multidimensional scaling that operates on dissimilarities or distances. Here we’re going to generate and plot our PCoA using functions from the *phyloseq* package. But because we’re still doing beta diversity here (comparing samples to each other), we want to use our transformed table we created above. So we’re first going to make a phyloseq object with our DESeq2-transformed table and then generate the PCoA from that."
   ]
  },
  {
   "cell_type": "code",
   "execution_count": null,
   "id": "461723d7-123c-41ff-9960-1e271a4630ca",
   "metadata": {
    "tags": []
   },
   "outputs": [],
   "source": [
    "# making our phyloseq object with transformed table\n",
    "vst_count_phy <- otu_table(vst_trans_count_tab, taxa_are_rows = TRUE)\n",
    "sample_info_tab_phy <- sample_data(sample_info_tab)\n",
    "vst_physeq <- phyloseq(vst_count_phy, sample_info_tab_phy)"
   ]
  },
  {
   "cell_type": "code",
   "execution_count": null,
   "id": "f3b6104a-c220-4e33-ae78-11513b2d3dbc",
   "metadata": {
    "tags": []
   },
   "outputs": [],
   "source": [
    "vst_physeq"
   ]
  },
  {
   "cell_type": "code",
   "execution_count": null,
   "id": "f79824ea-05bf-44db-b443-5bba87d7fe82",
   "metadata": {
    "tags": []
   },
   "outputs": [],
   "source": [
    "# generating a visualizing the PCoA with phyloseq\n",
    "vst_pcoa <- ordinate(vst_physeq, method = \"MDS\", distance = \"euclidean\")\n",
    "\n",
    "# pulling out eigen values of the ordiation, \n",
    "    # this allows us to scale the axes according to their magnitude of separating apart the samples\n",
    "eigen_vals <- vst_pcoa$values$Eigenvalues"
   ]
  },
  {
   "cell_type": "markdown",
   "id": "ea8c3dc4-a5c6-4f34-84f2-98208e3845a3",
   "metadata": {
    "deletable": false,
    "editable": false,
    "tags": []
   },
   "source": [
    "<div class=\"alert alert-block alert-warning\">\n",
    "<b>A note on plotting code</b>\n",
    "<br>\n",
    "Plotting in particular can look very busy and confusing. Each time I plot something new, it is always starting from a template of a previous plot I made or found, and then just tweaking that until it works for what I want. Because they are busy and beyond our scope here, we won't be breaking down all of the plotting codes as we go, but don't be intimidated by it. Looking at them all together is confusing for most of us!\n",
    "\n",
    "</div>"
   ]
  },
  {
   "cell_type": "code",
   "execution_count": null,
   "id": "8a1b8dfc-f813-4449-b143-9a610cfde5c6",
   "metadata": {
    "tags": []
   },
   "outputs": [],
   "source": [
    "plot_ordination(vst_physeq, vst_pcoa, color = \"treatment\") + \n",
    "    geom_point(size = 1) + labs(col = \"treatment\") + \n",
    "    geom_text(aes(label = rownames(sample_info_tab), hjust = 0.3, vjust = -0.4)) + \n",
    "    coord_fixed(sqrt(eigen_vals[2]/eigen_vals[1])) + \n",
    "    scale_color_manual(values = unique(sample_info_tab$color[order(sample_info_tab$treatment)])) + \n",
    "    theme_bw() + theme(legend.position = \"none\",  text = element_text(size = 15)) + ggtitle(\"PCoA\")"
   ]
  },
  {
   "cell_type": "markdown",
   "id": "235dda64-2255-44e8-b5a1-33f71b8d9742",
   "metadata": {},
   "source": [
    "Again it seems G3 and G5 are kind of out on their own. This is just providing us with a different overview of how our samples relate to each other. Inferences that are consistent with the hierarchical clustering above could be considered a bit more robust if the same trends emerge from these slightly different views into the data. It's important to remember that these by themselves are just exporatory visualizations, and they don't say anything statistically about our samples.\n",
    "\n",
    "The scaled axes we generated by pulling out the eigen values help convey that the x-axis is capturing much more variation than the y-axis is. If we didn't do that, the plot would just be a square, like this:"
   ]
  },
  {
   "cell_type": "code",
   "execution_count": null,
   "id": "ce76cad7-01e3-4537-ac84-653cf2c15eda",
   "metadata": {
    "tags": []
   },
   "outputs": [],
   "source": [
    "# here's one without scaling the axes\n",
    "plot_ordination(vst_physeq, vst_pcoa, color = \"treatment\") + \n",
    "    geom_point(size = 1) + labs(col = \"treatment\") + \n",
    "    geom_text(aes(label = rownames(sample_info_tab), hjust = 0.3, vjust = -0.4)) + \n",
    "#     coord_fixed(sqrt(eigen_vals[2]/eigen_vals[1])) + \n",
    "    scale_color_manual(values = unique(sample_info_tab$color[order(sample_info_tab$treatment)])) + \n",
    "    theme_bw() + theme(legend.position = \"none\",  text = element_text(size = 15)) + ggtitle(\"PCoA\")"
   ]
  },
  {
   "cell_type": "markdown",
   "id": "f9f98d4e-9521-40f8-9918-d1ba09f6591e",
   "metadata": {},
   "source": [
    "<div class=\"alert alert-block alert-info\">\n",
    "\n",
    "Plotting these with scaled axes like done first above is a better representation of what this ordination is actually showing us than what this view provides.\n",
    "\n",
    "</div>"
   ]
  },
  {
   "cell_type": "markdown",
   "id": "d767b2ea-b9ee-496f-bdf9-9e655a187f2d",
   "metadata": {
    "deletable": false,
    "editable": false,
    "tags": []
   },
   "source": [
    "This is just providing us with a different overview of how our samples relate to each other. Inferences that are consistent with the hierarchical clustering above can be considered a bit more robust if the same general trends emerge from both approaches. It’s important to remember that these are exploratory visualizations and do not say anything statistically about our samples."
   ]
  },
  {
   "cell_type": "markdown",
   "id": "8348382b-57f4-43ef-b606-1eff409227d6",
   "metadata": {
    "deletable": false,
    "editable": false,
    "tags": []
   },
   "source": [
    "---"
   ]
  },
  {
   "cell_type": "markdown",
   "id": "559dbfc8-6a6b-4824-aff6-b16cde5677b4",
   "metadata": {
    "deletable": false,
    "editable": false,
    "tags": []
   },
   "source": [
    "## Alpha diversity"
   ]
  },
  {
   "cell_type": "markdown",
   "id": "b20917c1-66b5-49fe-a062-4ef3ff2f0a1d",
   "metadata": {
    "deletable": false,
    "editable": false,
    "tags": []
   },
   "source": [
    "Alpha diversity entails using summary metrics that describe individual samples, and it is a very tricky thing when working with amplicon data. There are a lot of tools from macro-ecology that have been co-opted into the microbial ecology world unchecked that unfortunately just simply do not work the same way. Alpha diversity metrics with sequencing data are really only useful as summary metrics for relative comparisons of samples from the same experiment that were processed the same way. "
   ]
  },
  {
   "cell_type": "markdown",
   "id": "76082929-219c-45c0-adf6-51a3db3d6eff",
   "metadata": {
    "deletable": false,
    "editable": false,
    "tags": []
   },
   "source": [
    "**Here are some fundamental terms we will encounter in this section:**\n",
    "\n",
    "- **richness** - the total number of distinct units in a sample (like could be number of unique species if counting macrofauna)\n",
    "- **evenness** - how close in number each distinct unit is in a sample (so a sample with 3 different unique, species each seen 5 times would have a high evenness)\n",
    "- **diversity** - a combination of *richness* and *evenness*"
   ]
  },
  {
   "cell_type": "markdown",
   "id": "8b15c42a-37b0-4598-826a-b27411945771",
   "metadata": {
    "deletable": false,
    "editable": false,
    "tags": []
   },
   "source": [
    "### Rarefaction curves"
   ]
  },
  {
   "cell_type": "markdown",
   "id": "2d44a16f-8784-4d6d-87a3-11e8d239b603",
   "metadata": {
    "deletable": false,
    "editable": false,
    "tags": []
   },
   "source": [
    "First thing’s first, it is not okay to use rarefaction curves to estimate total richness of a sample, or to extrapolate anything from them really, but they can still be useful in filling out our mental landscape of our samples depending on the data. We’ll be using the `rarecurve()` function, which expects the rows to be samples and the observations (our ASVs here) to be columns, which is why we are transposing table we are giving it with the `t()` function:"
   ]
  },
  {
   "cell_type": "code",
   "execution_count": null,
   "id": "20294006-e086-40de-9fda-3cc64b2a8b52",
   "metadata": {
    "tags": []
   },
   "outputs": [],
   "source": [
    "rarecurve(x = t(count_tab), step = 100, col = sample_info_tab$color, lwd = 2, ylab = \"ASVs\", label = FALSE)"
   ]
  },
  {
   "attachments": {
    "f92d4c73-c322-4275-9b04-85c9df9990b4.png": {
     "image/png": "[encoded data removed]"
    }
   },
   "cell_type": "markdown",
   "id": "7be5a4c0-b604-45f1-b6f2-f7231e22cc96",
   "metadata": {
    "deletable": false,
    "editable": false,
    "tags": []
   },
   "source": [
    "This type of plot is meant to serve as a visual representation of one way of looking at the diversity that exists in the samples. The x-axis represents each time we are \"pulling out\" a sequence, and the y-axis represents how many unique sequences we've pulled out. \n",
    "\n",
    "The lines being practically vertical right off the start for all samples tells us that these are not very diverse samples. Looking across, even when we pull out about 20,000 different sequences, we've only found about 50-60 unique sequence types. \n",
    "\n",
    "Sample from a more diverse environment might look something more like this:\n",
    "\n",
    "<center><img src=\"attachment:f92d4c73-c322-4275-9b04-85c9df9990b4.png\"/ width=\"40%\"></center>"
   ]
  },
  {
   "cell_type": "markdown",
   "id": "1b2317d2-0e7a-45ef-a1b2-c277ca0707af",
   "metadata": {
    "deletable": false,
    "editable": false,
    "tags": []
   },
   "source": [
    "Where the blue lines (water samples) have about 50-200 unique sequences recovered after about 2,000 being sampled, while the brown lines at the top (which come from deepsea basalts) have about 400-500 unique sequences after about 2,000 being sampled."
   ]
  },
  {
   "cell_type": "markdown",
   "id": "ee157c8a-114e-4614-8738-97f3bce70067",
   "metadata": {
    "deletable": false,
    "editable": false,
    "tags": []
   },
   "source": [
    "### Richness and diversity estimates"
   ]
  },
  {
   "cell_type": "markdown",
   "id": "a2f4c344-38a5-4941-89f0-dfa067eeb73c",
   "metadata": {
    "deletable": false,
    "editable": false,
    "tags": []
   },
   "source": [
    "Next we’re going to plot Chao1 richness esimates and Shannon diversity values. \n",
    "\n",
    "Chao1 is a richness estimator. As mentioned above, “*richness*” represents the total number of distinct units in our sample – with “distinct units” being whatever we happen to be measuring (ASVs in our case here). And Shannon’s diversity index is a metric of diversity, with \"diversity\" including the concepts of richness and *evenness* (the relative proportions of all of our distinct units to each other). As stated previously, when it comes to sequencing data, these are really just metrics to help contrast our samples within an experiment, and should not be considered “true” values of anything or be compared across different studies that may have been sequenced or processed differently. This is because any little change in sequencing or processing can drastically affect these values, making them incomparable unless generated in as much the same way as possible.\n",
    "\n",
    "We are going to go back to using the phyloseq package for this to use their function `plot_richness()` – which the developers kindly provide some examples of [here](https://joey711.github.io/phyloseq/plot_richness-examples.html). First we need to create a phyloseq object using our un-transformed count table this time:"
   ]
  },
  {
   "cell_type": "code",
   "execution_count": null,
   "id": "76a53f86-5da1-4259-849f-a4a8da1f47f5",
   "metadata": {
    "tags": []
   },
   "outputs": [],
   "source": [
    "count_tab_phy <- otu_table(count_tab, taxa_are_rows = TRUE)\n",
    "tax_tab_phy <- tax_table(as.matrix(tax_tab))\n",
    "ASV_physeq <- phyloseq(count_tab_phy, tax_tab_phy, sample_info_tab_phy)"
   ]
  },
  {
   "cell_type": "markdown",
   "id": "1c17a732-f31b-4c4e-9dd9-687dd92a0590",
   "metadata": {
    "deletable": false,
    "editable": false,
    "tags": []
   },
   "source": [
    "And now we can all the `plot_richness()` function on our phyloseq object:"
   ]
  },
  {
   "cell_type": "code",
   "execution_count": null,
   "id": "0be08a90-aea6-425c-b088-5755817462d3",
   "metadata": {
    "tags": []
   },
   "outputs": [],
   "source": [
    "plot_richness(ASV_physeq, color = \"treatment\", measures = c(\"Chao1\", \"Shannon\")) + \n",
    "    scale_color_manual(values = unique(sample_info_tab$color)) +\n",
    "    theme_bw() + \n",
    "    theme(legend.title = element_blank(), text = element_text(size = 18),\n",
    "          axis.text.x = element_text(angle = 90, vjust = 0.5, hjust = 1))"
   ]
  },
  {
   "cell_type": "markdown",
   "id": "9525ea00-33ca-43f5-9c1c-6ba5fc943fbc",
   "metadata": {
    "deletable": false,
    "editable": false,
    "tags": []
   },
   "source": [
    "Before saying anything about this I’d like to stress again that these are not interpretable as “real” numbers of anything (due to the nature of the sequencing and processing of amplicon data), but they can still be useful as relative metrics of comparison within a study. These two groups of samples don't seem to immediately show any clear differences. The left \"Chao1\" is an estimate of total richness (total number of unique \"things\"); and the right is a metric of diversity – which incorporates \"richness\" and \"evenness\" (the relative proportions of all our unique things relative to each other). Maybe the richness seems to have a higher spread overall in the flight samples as compared to the ground samples (left plot), and other than samples G3 and G5, the diversity of the other 3 ground samples seems to be much lower (right plot).\n",
    "\n",
    "We can also use phyloseq to group these based on our groups: "
   ]
  },
  {
   "cell_type": "code",
   "execution_count": null,
   "id": "f7f730c1-bfa3-498d-906a-2ceeff1af1e4",
   "metadata": {
    "tags": []
   },
   "outputs": [],
   "source": [
    "plot_richness(ASV_physeq, x = \"treatment\", color = \"treatment\", measures = c(\"Chao1\", \"Shannon\")) + \n",
    "    scale_color_manual(values = unique(sample_info_tab$color)) +\n",
    "    theme_bw() + theme(legend.title = element_blank(), text = element_text(size = 18),\n",
    "                       axis.text.x = element_text(angle = 90, vjust = 0.5, hjust = 1))"
   ]
  },
  {
   "cell_type": "markdown",
   "id": "9421a4a2-9ae9-4008-b466-0fbf702ed949",
   "metadata": {
    "deletable": false,
    "editable": false,
    "tags": []
   },
   "source": [
    "---"
   ]
  },
  {
   "cell_type": "markdown",
   "id": "45d7917a-b964-4648-8100-9e5e610ac827",
   "metadata": {
    "deletable": false,
    "editable": false,
    "tags": []
   },
   "source": [
    "## Taxonomic summaries"
   ]
  },
  {
   "cell_type": "markdown",
   "id": "337d4ba1-2b84-4644-af95-4360653191b8",
   "metadata": {
    "deletable": false,
    "editable": false,
    "tags": []
   },
   "source": [
    "Taxonomy is a fickle beast. Here are a few contributing reasons as to why:\n",
    "\n",
    "1. It’s important to remember that taxonomic delineations are arbitrary, they’re not fundamental units of biology. That doesn’t negate the utility of taxonomy, of course, but it’s worth mentioning because sometimes it’s easy to forget.\n",
    "\n",
    "2. Like all things that use a reference database and any method, taxonomic classification is entirely dependent on the reference database and the method we use.\n",
    "\n",
    "3. Taxonomic assignment from a short fragment of a gene is difficult, even if it’s a relatively useful marker like a portion of the 16S gene. There are many cases where even a perfect reference database and method still wouldn’t be able to delineate between different source-organisms (because the fragment we have sequenced can be 100% identical between different organisms).\n",
    "\n",
    "And just to mention it, we cannot achieve “strain-level” resolution with a short fragment of one gene. All we can say is how similar that sequence is to another sequence. It doesn’t necessarily tell us pertinent information about the source genome that sequence came from.\n",
    "\n",
    "All those caveats out of the way, taxonomy is still useful and necessary, of course! What we did to assign taxonomic classifications to all our ASVs was done in a rapid, high-throughput fashion, by necessity. For sequences that become important in your story, you could consider pulling them out and BLASTing them and/or comparing them to other databases.\n",
    "\n",
    "Taxonomic summary figures usually aren’t all that exciting, but they can still be useful, and they’re certainly still a reasonable way to present a summary of our data (all caveats included – like recovered amplicon sequences do not equal organisms, or genomes, or cells). Here we’ll make some broad-level summarization figures. Phyloseq is also very useful for parsing things down by taxonomy now that we’ve got all that information in there. So we’ll be using that where we can. \n",
    "\n",
    "Let’s make a summary of all phyla proportions across all samples, which is typically a fine way to summarize things when we want an overview and we aren’t already looking for something specific.\n",
    "\n",
    "We can use our phyloseq object and one of their helper functions to summarize things based on identified phyla:"
   ]
  },
  {
   "cell_type": "code",
   "execution_count": null,
   "id": "257f8085-f9cb-450c-b0a8-e94e5a4cde82",
   "metadata": {
    "tags": []
   },
   "outputs": [],
   "source": [
    "# this creates a phyloseq object that has all counts normalized to be proportions of the total per sample\n",
    "proportions_physeq <- transform_sample_counts(ASV_physeq, function(ASV) ASV / sum(ASV))"
   ]
  },
  {
   "cell_type": "code",
   "execution_count": null,
   "id": "319c5840-1dfa-43b9-9298-1574f81be39a",
   "metadata": {
    "tags": []
   },
   "outputs": [],
   "source": [
    "plot_bar(proportions_physeq, fill = \"phylum\") + theme_bw() + \n",
    "    theme(text = element_text(size = 18))"
   ]
  },
  {
   "cell_type": "markdown",
   "id": "cd66c785-b6ef-49b0-84db-80fa7f939890",
   "metadata": {
    "deletable": false,
    "editable": false,
    "tags": []
   },
   "source": [
    "These are all clearly dominated by some member of Bacteroidota and the some Firmicutes. But a phylum-level summary view like this isn't going to be that much more informative with these samples.\n",
    "\n",
    "We can also group them by our factor if we wanted:"
   ]
  },
  {
   "cell_type": "code",
   "execution_count": null,
   "id": "36ac676a-a39f-476f-a2c9-b44d892ed1f9",
   "metadata": {
    "tags": []
   },
   "outputs": [],
   "source": [
    "plot_bar(proportions_physeq, x = \"treatment\", fill = \"phylum\") + theme_bw() + \n",
    "    theme(text = element_text(size = 18))"
   ]
  },
  {
   "cell_type": "markdown",
   "id": "a94647e5-c962-42f6-861f-ae42bb4f9182",
   "metadata": {
    "deletable": false,
    "editable": false,
    "tags": []
   },
   "source": [
    "Taxonomic summary figures aren't always helpful, but they also get more of a bad wrap than they deserve. Some different types could include pie charts and boxplots too, like some examples [here](https://astrobiomike.github.io/amplicon/dada2_workflow_ex#taxonomic-summaries). "
   ]
  },
  {
   "cell_type": "markdown",
   "id": "6ce076ed-0415-465c-b683-e26434e2fcc9",
   "metadata": {
    "deletable": false,
    "editable": false,
    "tags": []
   },
   "source": [
    "---"
   ]
  },
  {
   "cell_type": "markdown",
   "id": "9fb98e3a-5f53-4d19-8d2c-7b03fc4a2595",
   "metadata": {
    "deletable": false,
    "editable": false,
    "tags": []
   },
   "source": [
    "## Statistically testing for differences"
   ]
  },
  {
   "cell_type": "markdown",
   "id": "830971d4-9a3c-4f57-936b-307488ae277d",
   "metadata": {
    "deletable": false,
    "editable": false,
    "tags": []
   },
   "source": [
    "### Betadisper and permutational ANOVA"
   ]
  },
  {
   "cell_type": "markdown",
   "id": "8bd7c73d-ae8d-4e50-9d41-07840755b0ef",
   "metadata": {
    "deletable": false,
    "editable": false,
    "tags": []
   },
   "source": [
    "As we saw earlier, we have some information about our samples in our sample info table, namely our Flight vs Ground groups. A common way to test if group information is indicative of community structure is with a permutational ANOVA test. Here we are going to test if there is a statistically signficant difference between our sample types (Flight and Ground). One way to do this is with the `betadisper` and `adonis2` functions from the vegan package. `adonis2` can tell us if there is a statistical difference between groups, but it has an assumption that must be met that we first need to check with `betadisper`, and that is that there is a sufficient level of homogeneity of dispersion within groups. If there is not, then `adonis2` can be unreliable."
   ]
  },
  {
   "cell_type": "code",
   "execution_count": null,
   "id": "d217b115-a47d-4d0b-b51f-bfcf4a23b8fb",
   "metadata": {
    "tags": []
   },
   "outputs": [],
   "source": [
    "betadisper(d = euc_dist, group = sample_info_tab$treatment) %>% anova()"
   ]
  },
  {
   "cell_type": "markdown",
   "id": "c8b1498e-1516-4072-96b7-21f3cb2c4e28",
   "metadata": {
    "deletable": false,
    "editable": false,
    "tags": []
   },
   "source": [
    "<div class=\"alert alert-block alert-info\">\n",
    "<b>Function breakdown</b>\n",
    "<br>\n",
    "\n",
    "- `betadisper()` - function for testing for homogeneity of group dispersions\n",
    "    - `d = `     - the input distance object\n",
    "    - `group = ` - the grouping information\n",
    "    \n",
    "- `%>% anova()`       - we send the output object from the `betadisper()` function into the `anova()` function\n",
    "\n",
    "</div>"
   ]
  },
  {
   "cell_type": "markdown",
   "id": "afa3d6bf-d0a5-40af-b0ac-8997d42519e2",
   "metadata": {
    "deletable": false,
    "editable": false,
    "tags": []
   },
   "source": [
    "This gives us roughly a result of ~0.34, which is typically not in the realm of what folks would consider significant. This tells us that there is *not* a significant difference between group dispersions, which means that we *can* trust the results of a permutational anova test on this. If that weren't the case, and the p-value returned from `betadisper()` was in the realm of what we would consider significant, we would *not* be able to test these data with a permutational anova.\n",
    "\n",
    "Here is how we can test if the communities overall are different based on the treatment (flight/ground):"
   ]
  },
  {
   "cell_type": "code",
   "execution_count": null,
   "id": "2b2eb9d1-4924-405b-bed0-b5a4bcd9d6bb",
   "metadata": {
    "tags": []
   },
   "outputs": [],
   "source": [
    "adonis2(formula = euc_dist ~ sample_info_tab$treatment, permutations = 999)"
   ]
  },
  {
   "cell_type": "markdown",
   "id": "45947e8c-f5ba-4a7d-a43d-d55a952631fd",
   "metadata": {
    "deletable": false,
    "editable": false,
    "tags": []
   },
   "source": [
    "<div class=\"alert alert-block alert-info\">\n",
    "<b>Function breakdown</b>\n",
    "<br>\n",
    "\n",
    "- `adonis2()`           - function for testing for homogeneity of group dispersions\n",
    "    - `formula = `      - the model formula to use, left is our distance matrix, right is our grouping info\n",
    "    - `permutations = ` - the number of permutations to run\n",
    "\n",
    "</div>"
   ]
  },
  {
   "cell_type": "markdown",
   "id": "a83345df-c03a-477b-9930-a6047129894d",
   "metadata": {
    "deletable": false,
    "editable": false,
    "tags": []
   },
   "source": [
    "The `adonis2()` function \"permutes\" the data by randomly associating the grouping information with the samples and seeing how likely it is we would see the relationships we do see (based on our distance matrix) if there were actually no relationship between the groups and the sample distances.\n",
    "\n",
    "And here we are getting p-values that range more in the realm of what we typically consider significant. Since these are random permutations, it can vary slightly, but running it multiple times we are consistently jumping around 0.01 or lower, providing our first statistical evidence that there is actually a difference in microbial communities overall between the flight and ground groups.\n",
    "\n",
    "Sometimes it can be useful to incoporate this into a visualization, so let's recreate the PCA we made above, showing an overview of our sample relatedness, and then add text showing this result:"
   ]
  },
  {
   "cell_type": "code",
   "execution_count": null,
   "id": "85a63c68-64ff-4b0c-81aa-8b80ec1a5873",
   "metadata": {
    "tags": []
   },
   "outputs": [],
   "source": [
    "plot_ordination(vst_physeq, vst_pcoa, color = \"treatment\") + \n",
    "    geom_point(size = 1) + labs(col = \"treatment\") + \n",
    "    geom_text(aes(label = rownames(sample_info_tab), hjust = 0.3, vjust = -0.4)) + \n",
    "    coord_fixed(sqrt(eigen_vals[2]/eigen_vals[1])) + \n",
    "    scale_color_manual(values = unique(sample_info_tab$color[order(sample_info_tab$treatment)])) + \n",
    "    theme_bw() + theme(legend.position = \"none\",  text = element_text(size = 15)) + ggtitle(\"PCoA\") +\n",
    "    annotate(\"text\", x = -9, y = -3, label = \"Flight vs Ground\", size = 5) +\n",
    "    annotate(\"text\", x = -9, y = -4, label = \"Permutational ANOVA = 0.01\", size = 5)"
   ]
  },
  {
   "cell_type": "markdown",
   "id": "381aabc0-3e15-4807-b902-c7e09e985c31",
   "metadata": {
    "deletable": false,
    "editable": false,
    "tags": []
   },
   "source": [
    "There might be packages that try to auto-place overlain text like above, but I don't find it too inconvenient to just find an ideal place by testing and changing the `x` and `y` arguments to the `annotate()` functions above. Those are the only changes from the initial PCoA plot we did above. "
   ]
  },
  {
   "cell_type": "markdown",
   "id": "049db975-284d-4371-a95a-f03d6f38f2e7",
   "metadata": {
    "deletable": false,
    "editable": false,
    "tags": []
   },
   "source": [
    "As mentioned, this tells us there is a difference at the whole community level, next we'll look at one way to check for differences of individual ASV sequences."
   ]
  },
  {
   "cell_type": "markdown",
   "id": "6312f10a-2965-49fb-9f31-c9e106e20bb5",
   "metadata": {
    "deletable": false,
    "editable": false,
    "tags": []
   },
   "source": [
    "### Differential abundance analysis with DESeq2"
   ]
  },
  {
   "cell_type": "markdown",
   "id": "283acf3f-b300-4df1-aa75-63786093de50",
   "metadata": {
    "deletable": false,
    "editable": false,
    "tags": []
   },
   "source": [
    "First, it’s important to reiterate again that:\n",
    "\n",
    "<center><b>Recovered 16S rRNA gene copy numbers do not equal organism abundance.</b></center>\n",
    "\n",
    "That said, recovered 16S rRNA gene copy numbers do represent… well, numbers of recovered 16S rRNA gene copies. So long as we’re interpreting them that way, and thinking of our system in the appropriate way, we can perform differential abundance testing to test for which sequences have significantly different copy-number counts between samples – which can still be useful information and guide the generation of hypotheses. One tool that can be used for this is DESeq2, which we used above to transform our count table for beta diversity plots.\n",
    "\n",
    "Now that we’ve found a statistical difference between our two rock samples, this is one way we can try to find out which ASVs (and possibly which taxa) are contributing to that difference. If you are going to use DESeq2, be sure to carefully go over their thorough manual and other information you can find [here](https://bioconductor.org/packages/release/bioc/html/DESeq2.html), particularly [their very helpful vignette here](https://bioconductor.org/packages/release/bioc/vignettes/DESeq2/inst/doc/DESeq2.html). \n",
    "\n",
    "Here, we are going to take advantage of another phyloseq convenience and use the `phyloseq_to_deseq2` function to make our DESeq2 object:"
   ]
  },
  {
   "cell_type": "code",
   "execution_count": null,
   "id": "c9d5098f-ca69-4f35-9c86-8cef56b3f272",
   "metadata": {
    "tags": []
   },
   "outputs": [],
   "source": [
    "deseq_obj <- phyloseq_to_deseq2(physeq = ASV_physeq, design = ~treatment)"
   ]
  },
  {
   "cell_type": "markdown",
   "id": "af3e3656-6586-4f85-9e9f-dac11e1543eb",
   "metadata": {
    "deletable": false,
    "editable": false,
    "tags": []
   },
   "source": [
    "And now we can run the DESeq primary function to test for differential abundance:"
   ]
  },
  {
   "cell_type": "code",
   "execution_count": null,
   "id": "739f3be1-7a9d-4d05-aa02-39e6814a62fb",
   "metadata": {
    "tags": []
   },
   "outputs": [],
   "source": [
    "deseq_modeled <- DESeq(deseq_obj)"
   ]
  },
  {
   "cell_type": "markdown",
   "id": "0c6c7117-aabd-40f1-8a78-b19b89cf7b4e",
   "metadata": {
    "deletable": false,
    "editable": false,
    "tags": []
   },
   "source": [
    "The `DESeq()` function is doing a lot of things for us, including normalizing for sampling depth (number of reads per sample), transforming the data, and testing for differential abundance between the groups in our treatment factor. There is detailed information about all of these processes at the [page linked above](https://bioconductor.org/packages/release/bioc/vignettes/DESeq2/inst/doc/DESeq2.html). \n",
    "\n",
    "We can now access the results with the `results()` function. With our setup here, we only have 2 groups, so what is being contrasted is pretty straightforward. If there were more, we would tell the `results()` function which groups we would like to have contrasted (all contrasts were done at the `DESeq2()` function call above, but we would parse those results by specifying now if needed). Even though we don't need to include it here, here is how we can tell it to get the results for the contrast of flight vs ground: "
   ]
  },
  {
   "cell_type": "code",
   "execution_count": null,
   "id": "ba446b6c-05e9-49cd-b3f8-2e02318f34e2",
   "metadata": {
    "tags": []
   },
   "outputs": [],
   "source": [
    "deseq_res <- results(deseq_modeled, contrast = c(\"treatment\", \"flight\", \"ground\"))"
   ]
  },
  {
   "cell_type": "markdown",
   "id": "40cf174c-3edc-461e-9e38-21f4c3f340e2",
   "metadata": {
    "deletable": false,
    "editable": false,
    "tags": []
   },
   "source": [
    "We can peek at this object just by running it by itself, and it will preview the full table it holds:"
   ]
  },
  {
   "cell_type": "code",
   "execution_count": null,
   "id": "e4839ae6-8ab9-4790-b526-c5e95d35df5c",
   "metadata": {
    "tags": []
   },
   "outputs": [],
   "source": [
    "deseq_res"
   ]
  },
  {
   "cell_type": "markdown",
   "id": "5155aec9-4931-4b2b-af00-d55907a6cfaf",
   "metadata": {
    "deletable": false,
    "editable": false,
    "tags": []
   },
   "source": [
    "This shows us some info about the contrast at the top, which test was used, and then has columns of some information for each ASV. Primary ones of interest typically include:\n",
    "- **baseMean**: the mean across all samples after they were normalized for read depth\n",
    "- **log2FoldChange**: the `log2(flight / ground)` in this case\n",
    "    - these results are typically conveyed in log2 because it makes everything that is increased go from 0 and up, and anything that is decreased go from 0 down, on a symmetrical scale (see the first 2 figures on [this page](http://rstudio-pubs-static.s3.amazonaws.com/13988_bb11d85b79b2436280de434988558140.html) for some plotting examples of this) - without this log2 representation, all things increase would go from 1 to infinity, and all things decreased would be crammed in 0 to 1\n",
    "    - here, a log2 fold-change of 1 would mean 2x greater in flight than ground, 2 would mean 4x greater, and so on; while a log2 fold-change of -1 would mean 2x greater in ground than flight\n",
    "- **lfcSE**: the standard error of the log2fold change\n",
    "- **stat**: the test statistic\n",
    "- **pvalue**: the un-adjusted p-value of the test (smaller = stronger evidence the effect we see is due to an actual difference between treatments; though when testing many things like is done here, we shouldn't rely on this value, and instead look at the padj next) \n",
    "- **padj**: the adjusted p-value of the test (needed to account for the multiple hypothesis testing that was done)\n",
    "\n",
    "The adjusted p-value is what we should use for our significance cutoff. Just like with regular p-values, there is no magic cutoff that is appropriate in all cases. It's not unusual for folks to use 0.1 as an adjusted p-value threshold, and that is the default in DESeq2. \n",
    "\n",
    "We can see a summary of these results with the `summary()` function:"
   ]
  },
  {
   "cell_type": "code",
   "execution_count": null,
   "id": "12236110-d741-4d83-aa10-3d68beb85ceb",
   "metadata": {
    "tags": []
   },
   "outputs": [],
   "source": [
    "summary(deseq_res)"
   ]
  },
  {
   "cell_type": "markdown",
   "id": "53bb217c-1d91-478c-96e7-28ff8a8510da",
   "metadata": {
    "deletable": false,
    "editable": false,
    "tags": []
   },
   "source": [
    "Which tells us how many ASVs were called differentially abundant based on how we've processed things and the 0.1 adjusted p-value cutoff. Let's look at those considered significatn based on that cutoff:"
   ]
  },
  {
   "cell_type": "code",
   "execution_count": null,
   "id": "3ccd913f-e78c-4153-8358-aa02c00e47b4",
   "metadata": {
    "tags": []
   },
   "outputs": [],
   "source": [
    "deseq_res %>% data.frame() %>% filter(padj < 0.1)"
   ]
  },
  {
   "cell_type": "markdown",
   "id": "28cf30d1-883f-44a2-bff7-697a2e605b99",
   "metadata": {
    "deletable": false,
    "editable": false,
    "tags": []
   },
   "source": [
    "The first one, ASV_3 here, say's it's log2FolChange is about -1.4. With how we set the contrast up, it is comparing Flight vs Ground, so Flight is the numerator and Ground is the denominator. And remember with log2FoldChange, a value of 1 would mean 2x greater in the numerator, and a log2FoldChange value of 2 would mean 4x greater in the numerator. Since we have a **-1.4** here, it's somewhere in between being 2 and 4 times greater in ground vs flight. But we can try to take a look by breaking it down.\n",
    "\n",
    "As noted above, in this case log2FoldChange = log2(flight / ground).\n",
    "\n",
    "So we can:\n",
    "1. get the normalized counts for each group for this ASV\n",
    "2. get their means\n",
    "3. divide the flight mean by the ground mean to get the fold change between the two\n",
    "4. get the log2 value of that ratio"
   ]
  },
  {
   "cell_type": "markdown",
   "id": "e98d13c3-5bc2-4169-aca3-c9a816421d2c",
   "metadata": {
    "deletable": false,
    "editable": false,
    "tags": []
   },
   "source": [
    "**(1)** Let's pull out the normalized count table from the DESeq2 object, and then just get the counts of ASV_3 for flight and ground:"
   ]
  },
  {
   "cell_type": "code",
   "execution_count": null,
   "id": "ce1d7636-8a02-4d68-a8e1-7799861ff437",
   "metadata": {},
   "outputs": [],
   "source": [
    "norm_tab <- counts(deseq_modeled, normalized = TRUE) %>% data.frame()"
   ]
  },
  {
   "cell_type": "code",
   "execution_count": null,
   "id": "ab166f6f-0e4f-4f9f-9fc0-0debf08d35f0",
   "metadata": {
    "tags": []
   },
   "outputs": [],
   "source": [
    "head(norm_tab)"
   ]
  },
  {
   "cell_type": "markdown",
   "id": "c9e0e78c-0292-4945-853f-50ae499d6a31",
   "metadata": {
    "deletable": false,
    "editable": false,
    "tags": []
   },
   "source": [
    "And since these are in order, here is one quick way we can just pull out the row for ASV 3:"
   ]
  },
  {
   "cell_type": "code",
   "execution_count": null,
   "id": "e7f0e7f2-35cd-46b9-9b9c-164d3ec43538",
   "metadata": {
    "tags": []
   },
   "outputs": [],
   "source": [
    "norm_tab[3, ]"
   ]
  },
  {
   "cell_type": "markdown",
   "id": "ecfe87d0-e67a-4429-904e-3b77f69cfbbb",
   "metadata": {
    "deletable": false,
    "editable": false,
    "tags": []
   },
   "source": [
    "At a glance, it looks like it is generally higher in the ground samples. Let's get the values for flight and ground separately and store them in R objects:"
   ]
  },
  {
   "cell_type": "code",
   "execution_count": null,
   "id": "f06ac138-f211-4fdd-b0d2-87071aeedc42",
   "metadata": {
    "tags": []
   },
   "outputs": [],
   "source": [
    "asv_3_norm_flight <- norm_tab[3, 1:5] %>% as.numeric() \n",
    "asv_3_norm_ground <- norm_tab[3, 6:10] %>% as.numeric() "
   ]
  },
  {
   "cell_type": "code",
   "execution_count": null,
   "id": "f4a2ee73-6687-4dd9-b725-dbc9e17fdc66",
   "metadata": {
    "tags": []
   },
   "outputs": [],
   "source": [
    "asv_3_norm_flight\n",
    "asv_3_norm_ground"
   ]
  },
  {
   "cell_type": "markdown",
   "id": "04d0a002-56a1-4f8e-bb03-f56f5be21d93",
   "metadata": {
    "deletable": false,
    "editable": false,
    "tags": []
   },
   "source": [
    "**(2)** Now let's get their means:"
   ]
  },
  {
   "cell_type": "code",
   "execution_count": null,
   "id": "5c14aa75-f729-47a3-bfef-576335db17f5",
   "metadata": {
    "tags": []
   },
   "outputs": [],
   "source": [
    "asv_3_norm_flight_mean <- mean(asv_3_norm_flight)\n",
    "asv_3_norm_ground_mean <- mean(asv_3_norm_ground)"
   ]
  },
  {
   "cell_type": "code",
   "execution_count": null,
   "id": "b40c450e-f314-4513-a223-ca6ea4b65f0e",
   "metadata": {
    "tags": []
   },
   "outputs": [],
   "source": [
    "asv_3_norm_flight_mean\n",
    "asv_3_norm_ground_mean"
   ]
  },
  {
   "cell_type": "markdown",
   "id": "ce942d1e-b5a7-4ded-82b5-fae2e082405c",
   "metadata": {
    "deletable": false,
    "editable": false,
    "tags": []
   },
   "source": [
    "**(3)** Here is calculating the base fold change:"
   ]
  },
  {
   "cell_type": "code",
   "execution_count": null,
   "id": "f81851b1-6f88-4d79-a48f-7d2c002ee07d",
   "metadata": {
    "tags": []
   },
   "outputs": [],
   "source": [
    "asv_3_flight_vs_ground_fold_change <- asv_3_norm_flight_mean / asv_3_norm_ground_mean"
   ]
  },
  {
   "cell_type": "code",
   "execution_count": null,
   "id": "cb5cfabf-0f8b-43a3-b834-65d38feff489",
   "metadata": {
    "tags": []
   },
   "outputs": [],
   "source": [
    "asv_3_flight_vs_ground_fold_change"
   ]
  },
  {
   "cell_type": "markdown",
   "id": "676a3ae9-a9fa-492c-8d7f-a81340bd2349",
   "metadata": {
    "deletable": false,
    "editable": false,
    "tags": []
   },
   "source": [
    "**(4)** And here is calculating the log2FoldChange:"
   ]
  },
  {
   "cell_type": "code",
   "execution_count": null,
   "id": "bc30b520-2d21-4c0a-9be9-b1894daeab7b",
   "metadata": {
    "tags": []
   },
   "outputs": [],
   "source": [
    "log2(asv_3_flight_vs_ground_fold_change)"
   ]
  },
  {
   "cell_type": "markdown",
   "id": "e9f1df2a-f849-4866-b34d-9e067ba6b9e0",
   "metadata": {
    "deletable": false,
    "editable": false,
    "tags": []
   },
   "source": [
    "Which is pretty spot on with the value reported in the primary DESeq2 output table:"
   ]
  },
  {
   "cell_type": "code",
   "execution_count": null,
   "id": "f17e1f45-73f7-49cb-9984-550c3392c673",
   "metadata": {
    "tags": []
   },
   "outputs": [],
   "source": [
    "deseq_res %>% data.frame() %>% filter(padj < 0.1) %>% head(1)"
   ]
  },
  {
   "cell_type": "markdown",
   "id": "c737154c-5ea4-43eb-b690-36cd054ce965",
   "metadata": {
    "deletable": false,
    "editable": false,
    "tags": []
   },
   "source": [
    "What we did above won't always lead to exactly the same result as DESeq2 reports because we didn't incorporate everything DESeq2 is actually doing, namely it performs shrinkage of the fold change estimates in cases where the values are expected to be less precise (like due to higher variance or low counts). "
   ]
  },
  {
   "cell_type": "markdown",
   "id": "3bdbeeef-09d0-4526-924a-f0275025245e",
   "metadata": {
    "deletable": false,
    "editable": false,
    "tags": []
   },
   "source": [
    "---"
   ]
  },
  {
   "cell_type": "markdown",
   "id": "f75da94d-9277-4a21-9b78-14995b5a8b32",
   "metadata": {
    "deletable": false,
    "editable": false,
    "tags": []
   },
   "source": [
    "## So now what?\n",
    "Above we performed some of the standard steps that are typical to do. Here’s where our questions and the experimental design (if there is one) start to guide how we go further. Amplicon sequencing can be used for diagnostic purposes, when we know what we're looking for, but it is often often used as an initial exploratory tool, largely helpful for hypothesis generation. If there is a priori something specific to look for, then great, and we can look for that. If not, and our study is just about describing what is there as a first pass in beginning to shape our understanding of something, then that’s great too. Basically, up to now was just standard processing and analysis, and now would be where the science part starts 🙂"
   ]
  },
  {
   "cell_type": "markdown",
   "id": "f32b4fff-0383-4a11-80dc-5a527175a7b9",
   "metadata": {
    "deletable": false,
    "editable": false,
    "tags": []
   },
   "source": [
    "---\n",
    "---\n",
    "\n",
    "[**Previous:** 5. Amplicon processing](05-amplicon-processing.ipynb)\n",
    "<br>\n",
    "\n",
    "<div style=\"text-align: right\"><a href=\"00-overview.ipynb\"><b>Back to:</b> Overview</a></div>\n"
   ]
  }
 ],
 "metadata": {
  "kernelspec": {
   "display_name": "R",
   "language": "R",
   "name": "ir"
  },
  "language_info": {
   "codemirror_mode": "r",
   "file_extension": ".r",
   "mimetype": "text/x-r-source",
   "name": "R",
   "pygments_lexer": "r",
   "version": "4.1.3"
  }
 },
 "nbformat": 4,
 "nbformat_minor": 5
}
