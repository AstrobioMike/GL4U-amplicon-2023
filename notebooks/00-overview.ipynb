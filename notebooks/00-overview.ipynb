{
 "cells": [
  {
   "cell_type": "markdown",
   "id": "72030809-0cca-406b-acce-34dd71d9bddb",
   "metadata": {
    "deletable": false,
    "tags": []
   },
   "source": [
    "<hr style=\"height:0px; visibility:hidden;\" />\n",
    "\n",
    "<h1><center>Welcome to the GL4U Amplicon Bootcamp Notebooks!</center></h1>\n",
    "\n",
    "As discussed, amplicon sequencing is a targeted sequencing approach that most often attempts to recover sequences that are useful for delineating between different source organisms. We are going to run through processing and general analysis steps when working with an amplicon dataset, but there are a few foundational things we need to cover first, like what is Jupyter and how do we work in here, then super-quick introductions to the Unix-like command line and R. Then after those we'll get into processing the data.\n",
    "\n",
    "\n",
    "1. [Jupyter introduction](01-jupyter-intro.ipynb)\n",
    "2. [Unix introduction](02-unix-intro.ipynb)\n",
    "3. [R introduction](03-R-intro.ipynb)\n",
    "4. [Setting up and sequence quality assessment](04-setup-QC.ipynb)\n",
    "5. [Amplicon processing](05-amplicon-processing.ipynb)\n",
    "6. [Amplicon analysis](06-amplicon-analysis.ipynb)\n",
    "\n",
    "\n",
    "---\n",
    "---\n",
    "\n",
    "[**Next:** 1. Jupyter intro](01-jupyter-intro.ipynb)"
   ]
  }
 ],
 "metadata": {
  "kernelspec": {
   "display_name": "Python 3 (ipykernel)",
   "language": "python",
   "name": "python3"
  },
  "language_info": {
   "codemirror_mode": {
    "name": "ipython",
    "version": 3
   },
   "file_extension": ".py",
   "mimetype": "text/x-python",
   "name": "python",
   "nbconvert_exporter": "python",
   "pygments_lexer": "ipython3",
   "version": "3.11.0"
  }
 },
 "nbformat": 4,
 "nbformat_minor": 5
}
