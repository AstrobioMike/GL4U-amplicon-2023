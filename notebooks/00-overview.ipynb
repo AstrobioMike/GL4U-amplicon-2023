{
 "cells": [
  {
   "cell_type": "markdown",
   "id": "72030809-0cca-406b-acce-34dd71d9bddb",
   "metadata": {
    "deletable": false,
    "editable": false,
    "tags": []
   },
   "source": [
    "<hr style=\"height:0px; visibility:hidden;\" />\n",
    "\n",
    "<h1><center>Welcome to the GL4U Amplicon Seq Bootcamp Notebooks!</center></h1>\n",
    "\n",
    "<div class=\"alert alert-block alert-success\">\n",
    "As discussed in the lecture portion, amplicon sequencing is a targeted sequencing approach that is most often used to recover sequences that are useful for delineating between different source organisms. We are going to run through processing and general analysis steps when working with an amplicon dataset, but there are a few foundational things we need to cover first 🙂\n",
    "</div>\n",
    "\n",
    "\n",
    "Here is an overview of the notebooks we're going to cover:\n",
    "\n",
    "**General introductory notebooks**\n",
    "\n",
    "1. [Jupyter introduction](intro-notebooks/01-jupyter-intro.ipynb)\n",
    "2. [Unix introduction](intro-notebooks/02-unix-intro.ipynb)\n",
    "3. [R introduction](intro-notebooks/03-R-intro.ipynb)\n",
    "4. [Sequencing data QC](intro-notebooks/04-sequencing-data-QC.ipynb)\n",
    "\n",
    "**Amplicon processing and analysis notebooks**\n",
    "\n",
    "1. [Setting up and sequence quality assessment](amplicon-notebooks/01-setup-QC.ipynb)\n",
    "2. [Amplicon processing](amplicon-notebooks/02-amplicon-processing.ipynb)\n",
    "3. [Amplicon analysis](amplicon-notebooks/03-amplicon-analysis.ipynb)\n",
    "\n",
    "---\n",
    "---"
   ]
  }
 ],
 "metadata": {
  "kernelspec": {
   "display_name": "Python 3 (ipykernel)",
   "language": "python",
   "name": "python3"
  },
  "language_info": {
   "codemirror_mode": {
    "name": "ipython",
    "version": 3
   },
   "file_extension": ".py",
   "mimetype": "text/x-python",
   "name": "python",
   "nbconvert_exporter": "python",
   "pygments_lexer": "ipython3",
   "version": "3.10.8"
  }
 },
 "nbformat": 4,
 "nbformat_minor": 5
}
