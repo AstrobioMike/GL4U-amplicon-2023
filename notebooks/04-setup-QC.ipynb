{
 "cells": [
  {
   "cell_type": "markdown",
   "id": "557e6c9e-6070-466c-b0c8-1df8cd946a69",
   "metadata": {},
   "source": [
    "<hr style=\"height:0px; visibility:hidden;\" />\n",
    "\n",
    "<h1><center>4. Setup and QC</center></h1>\n",
    "\n",
    "---\n",
    "\n",
    "[**Previous:** 3. R intro](03-R-intro.ipynb)\n",
    "<br>\n",
    "\n",
    "<div style=\"text-align: right\"><a href=\"05-amplicon-processing.ipynb\"><b>Next:</b> 5. Amplicon processing</a></div>\n",
    "\n",
    "---\n",
    "---"
   ]
  },
  {
   "cell_type": "markdown",
   "id": "cefbf316-fb73-42f5-9860-ce37bd6cf025",
   "metadata": {},
   "source": [
    "Here we are going to setup our directory structure for how we will process our data, and we are going to use a popular tool for assessing the quality of our reads. So this notebook uses a \"Bash\" kernel, the most common language used in a Unix-like environment. \n",
    "\n",
    "---"
   ]
  },
  {
   "cell_type": "markdown",
   "id": "5e2cfc27-be3c-4a50-9588-25ba25bb0be3",
   "metadata": {},
   "source": [
    "## Setting up\n",
    "First we are going to create a new location for us to work in, and then change into it:"
   ]
  },
  {
   "cell_type": "code",
   "execution_count": 4,
   "id": "d23063cb-8082-488b-8799-08402cf708ce",
   "metadata": {
    "tags": []
   },
   "outputs": [],
   "source": [
    "mkdir -p ~/GL4U-amplicon-tutorial\n",
    "cd ~/GL4U-amplicon-tutorial"
   ]
  },
  {
   "cell_type": "markdown",
   "id": "075c0e53-065f-4462-a209-3a7f2af5fac3",
   "metadata": {},
   "source": [
    "Then let's check where we are and if there are any files/directories present:"
   ]
  },
  {
   "cell_type": "code",
   "execution_count": 14,
   "id": "d96d0df0-2203-47f0-b95a-aa3d170877e7",
   "metadata": {
    "tags": []
   },
   "outputs": [
    {
     "name": "stdout",
     "output_type": "stream",
     "text": [
      "/Users/mdlee4/GL4U-amplicon-tutorial\n"
     ]
    }
   ],
   "source": [
    "pwd\n",
    "ls"
   ]
  },
  {
   "cell_type": "markdown",
   "id": "3d074320-c9e5-4608-b36e-85abad7173fa",
   "metadata": {},
   "source": [
    "Next we are going to download the raw data files that we are going to be starting with, then unpack them with these commands:"
   ]
  },
  {
   "cell_type": "code",
   "execution_count": 15,
   "id": "7862477f-6e0b-422b-b563-fd5c3192fcff",
   "metadata": {
    "tags": []
   },
   "outputs": [
    {
     "name": "stdout",
     "output_type": "stream",
     "text": [
      "  % Total    % Received % Xferd  Average Speed   Time    Time     Time  Current\n",
      "                                 Dload  Upload   Total   Spent    Left  Speed\n",
      "  0     0    0     0    0     0      0      0 --:--:--  0:00:01 --:--:--     0\n",
      "100 18.0M  100 18.0M    0     0  1855k      0  0:00:09  0:00:09 --:--:-- 2653k\n"
     ]
    }
   ],
   "source": [
    "curl -L -o raw-reads.tar.gz https://figshare.com/ndownloader/files/39537235\n",
    "tar -xf raw-reads.tar.gz\n",
    "rm raw-reads.tar.gz"
   ]
  },
  {
   "cell_type": "markdown",
   "id": "0f144111-b374-4e4a-aec0-d7840c7a1171",
   "metadata": {},
   "source": [
    "Now we can see we have them:"
   ]
  },
  {
   "cell_type": "code",
   "execution_count": 16,
   "id": "da93aeca-7fa4-4760-93df-f07e329cff3d",
   "metadata": {
    "tags": []
   },
   "outputs": [
    {
     "name": "stdout",
     "output_type": "stream",
     "text": [
      "raw-reads\n"
     ]
    }
   ],
   "source": [
    "ls"
   ]
  },
  {
   "cell_type": "code",
   "execution_count": 17,
   "id": "9453c98e-8cb4-4dc0-82bd-f5e9ce3d2eec",
   "metadata": {
    "tags": []
   },
   "outputs": [
    {
     "name": "stdout",
     "output_type": "stream",
     "text": [
      "F10_R1_raw.fastq.gz  F8_R2_raw.fastq.gz   G5_R1_raw.fastq.gz\n",
      "F10_R2_raw.fastq.gz  F9_R1_raw.fastq.gz   G5_R2_raw.fastq.gz\n",
      "F3_R1_raw.fastq.gz   F9_R2_raw.fastq.gz   G8_R1_raw.fastq.gz\n",
      "F3_R2_raw.fastq.gz   G10_R1_raw.fastq.gz  G8_R2_raw.fastq.gz\n",
      "F5_R1_raw.fastq.gz   G10_R2_raw.fastq.gz  G9_R1_raw.fastq.gz\n",
      "F5_R2_raw.fastq.gz   G3_R1_raw.fastq.gz   G9_R2_raw.fastq.gz\n",
      "F8_R1_raw.fastq.gz   G3_R2_raw.fastq.gz   sample-info.tsv\n"
     ]
    }
   ],
   "source": [
    "ls raw-reads"
   ]
  },
  {
   "cell_type": "markdown",
   "id": "9e638260-1978-4130-af33-09088521091b",
   "metadata": {},
   "source": [
    "And we also grabbed a file with some sample information. Let's move that to our current directory, and then we can look at with the `column` command to format it a bit for us:"
   ]
  },
  {
   "cell_type": "code",
   "execution_count": 25,
   "id": "cd89d722-66be-4c91-8ffb-74376b059ca0",
   "metadata": {
    "tags": []
   },
   "outputs": [
    {
     "name": "stdout",
     "output_type": "stream",
     "text": [
      "sample_ID  treatment  color\n",
      "F10        flight     blue\n",
      "F3         flight     blue\n",
      "F5         flight     blue\n",
      "F8         flight     blue\n",
      "F9         flight     blue\n",
      "G10        ground     chocolate4\n",
      "G3         ground     chocolate4\n",
      "G5         ground     chocolate4\n",
      "G8         ground     chocolate4\n",
      "G9         ground     chocolate4\n"
     ]
    }
   ],
   "source": [
    "mv raw-reads/sample-info.tsv .\n",
    "column sample-info.tsv"
   ]
  },
  {
   "cell_type": "markdown",
   "id": "b5e7928b-f6a9-49e3-aaf8-5e8f523c7a31",
   "metadata": {},
   "source": [
    "And lastly for setup, we're going to create all the directories we want to use while processing:"
   ]
  },
  {
   "cell_type": "code",
   "execution_count": 19,
   "id": "39eddf75-7d07-4ba5-b20b-1b2e2ce465b8",
   "metadata": {
    "tags": []
   },
   "outputs": [],
   "source": [
    "mkdir -p trimmed-and-filtered-reads fastqc-outputs final-outputs"
   ]
  },
  {
   "cell_type": "code",
   "execution_count": 20,
   "id": "acbcb9cc-3a7b-4fd9-b0cb-31edde460ab6",
   "metadata": {
    "tags": []
   },
   "outputs": [
    {
     "name": "stdout",
     "output_type": "stream",
     "text": [
      "fastqc-outputs\tfinal-outputs  raw-reads  trimmed-and-filtered-reads\n"
     ]
    }
   ],
   "source": [
    "ls"
   ]
  },
  {
   "cell_type": "markdown",
   "id": "b2226ab4-d066-4cf1-9b18-8736f62d813b",
   "metadata": {},
   "source": [
    "## Quality assessment of raw reads"
   ]
  },
  {
   "cell_type": "markdown",
   "id": "d0df3784-cf67-4da3-b893-458763c26b1d",
   "metadata": {},
   "source": [
    "We are going to use the popular tool [FastQC](https://www.bioinformatics.babraham.ac.uk/projects/fastqc/) to assess some basic quality metrics about our reads. Here is how we can run it on our raw reads:"
   ]
  },
  {
   "cell_type": "code",
   "execution_count": 21,
   "id": "8921ba69-7caa-4279-9b66-60ef6ae44371",
   "metadata": {
    "tags": []
   },
   "outputs": [],
   "source": [
    "fastqc -t 4 -q -o fastqc-outputs raw-reads/*.gz "
   ]
  },
  {
   "cell_type": "markdown",
   "id": "f82d90fa-d6bb-4122-a5bb-43f29f98f75d",
   "metadata": {},
   "source": [
    "<div class=\"alert alert-block alert-info\">\n",
    "<b>Code Breakdown</b>\n",
    "<br>\n",
    "\n",
    "- `fastqc`   - the primary command we're using\n",
    "    - `-t`   - where we can specify how many we want to process at a time in parallel\n",
    "    - `-q`   - telling the program not to print out everything it's doing (just because it's a little messy when running in parallel)\n",
    "    - `-o`   - the directory where we want to put the output files\n",
    "    - `raw-reads/*.gz` - we didn't get to cover this in our unix intro here, but this is providing all read files as a *positional* arugment, the `*` is a wildcard that here means get anything in that directory that ends with a `.gz`\n",
    "\n",
    "</div>"
   ]
  },
  {
   "cell_type": "code",
   "execution_count": 22,
   "id": "18f29151-ee5a-4efe-8e4f-86d1f7ff0ecf",
   "metadata": {
    "tags": []
   },
   "outputs": [
    {
     "name": "stdout",
     "output_type": "stream",
     "text": [
      "F10_R1_raw_fastqc.html\tF8_R2_raw_fastqc.html\tG5_R1_raw_fastqc.html\n",
      "F10_R1_raw_fastqc.zip\tF8_R2_raw_fastqc.zip\tG5_R1_raw_fastqc.zip\n",
      "F10_R2_raw_fastqc.html\tF9_R1_raw_fastqc.html\tG5_R2_raw_fastqc.html\n",
      "F10_R2_raw_fastqc.zip\tF9_R1_raw_fastqc.zip\tG5_R2_raw_fastqc.zip\n",
      "F3_R1_raw_fastqc.html\tF9_R2_raw_fastqc.html\tG8_R1_raw_fastqc.html\n",
      "F3_R1_raw_fastqc.zip\tF9_R2_raw_fastqc.zip\tG8_R1_raw_fastqc.zip\n",
      "F3_R2_raw_fastqc.html\tG10_R1_raw_fastqc.html\tG8_R2_raw_fastqc.html\n",
      "F3_R2_raw_fastqc.zip\tG10_R1_raw_fastqc.zip\tG8_R2_raw_fastqc.zip\n",
      "F5_R1_raw_fastqc.html\tG10_R2_raw_fastqc.html\tG9_R1_raw_fastqc.html\n",
      "F5_R1_raw_fastqc.zip\tG10_R2_raw_fastqc.zip\tG9_R1_raw_fastqc.zip\n",
      "F5_R2_raw_fastqc.html\tG3_R1_raw_fastqc.html\tG9_R2_raw_fastqc.html\n",
      "F5_R2_raw_fastqc.zip\tG3_R1_raw_fastqc.zip\tG9_R2_raw_fastqc.zip\n",
      "F8_R1_raw_fastqc.html\tG3_R2_raw_fastqc.html\n",
      "F8_R1_raw_fastqc.zip\tG3_R2_raw_fastqc.zip\n"
     ]
    }
   ],
   "source": [
    "ls fastqc-outputs"
   ]
  },
  {
   "cell_type": "markdown",
   "id": "d35939a0-bc97-442e-872a-cfcba1287e59",
   "metadata": {},
   "source": [
    "We can look at one of these by navigating to it on the left and double-clicking on the html file, or just by **clicking here for sample F10_R1 (fix when doing on actual system)** (so long as we didn't delete the file already)."
   ]
  },
  {
   "cell_type": "markdown",
   "id": "107acaf3-c61d-4731-9032-2d79b9c27337",
   "metadata": {},
   "source": [
    "Rather than look through all of them individually, we can take advantage of [MultiQC](https://multiqc.info/) to combine them for us:"
   ]
  },
  {
   "cell_type": "code",
   "execution_count": 23,
   "id": "a1a702e0-77fb-4e38-96d4-0be88f97521e",
   "metadata": {
    "tags": []
   },
   "outputs": [
    {
     "name": "stdout",
     "output_type": "stream",
     "text": [
      "\n",
      "  \u001b[34m/\u001b[0m\u001b[32m/\u001b[0m\u001b[31m/\u001b[0m \u001b]8;id=298772;https://multiqc.info\u001b\\\u001b[1mMultiQC\u001b[0m\u001b]8;;\u001b\\ 🔍 \u001b[2m| v1.12\u001b[0m\n",
      "\n",
      "\u001b[34m|           multiqc\u001b[0m | \u001b[33mMultiQC Version v1.14 now available!\u001b[0m\n",
      "\u001b[34m|           multiqc\u001b[0m | Search path : /Users/mdlee4/GL4U-amplicon-tutorial/fastqc-outputs\n",
      "\u001b[2K\u001b[34m|\u001b[0m         \u001b[34msearching\u001b[0m | \u001b[38;2;114;156;31m━━━━━━━━━━━━━━━━━━━━━━━━━━━━━━━━━━━━━━━━\u001b[0m \u001b[35m100%\u001b[0m \u001b[32m40/40\u001b[0m  \u001b[2mfastqc-outputs/F9_R2_raw_fastqc.html\u001b[0mfastqc.html\u001b[0m\n",
      "\u001b[?25h\u001b[34m|            fastqc\u001b[0m | Found 20 reports\n",
      "\u001b[34m|           multiqc\u001b[0m | Compressing plot data\n",
      "\u001b[34m|           multiqc\u001b[0m | Report      : fastqc-outputs/raw_multiqc.html\n",
      "\u001b[34m|           multiqc\u001b[0m | Data        : fastqc-outputs/raw_multiqc_data\n",
      "\u001b[34m|           multiqc\u001b[0m | MultiQC complete\n"
     ]
    }
   ],
   "source": [
    "multiqc -o fastqc-outputs -n raw_multiqc fastqc-outputs"
   ]
  },
  {
   "cell_type": "markdown",
   "id": "5bfa099c-3f34-4b8a-92bd-d829b210ac9f",
   "metadata": {},
   "source": [
    "And now let's remove all the individual files, using our `*` wildcard again:"
   ]
  },
  {
   "cell_type": "code",
   "execution_count": 24,
   "id": "5c7f8621-94c3-47f5-9444-fbd3cc27ef1a",
   "metadata": {
    "tags": []
   },
   "outputs": [
    {
     "name": "stdout",
     "output_type": "stream",
     "text": [
      "raw_multiqc.html  raw_multiqc_data\n"
     ]
    }
   ],
   "source": [
    "rm fastqc-outputs/*fastqc*\n",
    "ls fastqc-outputs"
   ]
  },
  {
   "cell_type": "markdown",
   "id": "8a233d58-dd23-45b2-82ef-89cddfceaea3",
   "metadata": {},
   "source": [
    "And we can open and look at the multiqc summary with the file browser on the left, or by clicking **here (fix link when doing on actual system)**. Be sure to click \"Trust HTML\" at the top-left after opening."
   ]
  },
  {
   "cell_type": "markdown",
   "id": "06ce597e-c3cc-429e-98bd-04e14deb23ec",
   "metadata": {},
   "source": [
    "For now, we are going to move onto our [Amplicon processing notebook](04-amplicon-processing.ipynb), but we will return here after we filter our reads in order to use FastQC/MultiQC again. \n",
    "\n",
    "---"
   ]
  },
  {
   "cell_type": "markdown",
   "id": "65a652cd-5dc5-4d2d-9210-bc0100837c01",
   "metadata": {},
   "source": [
    "## Quality assessment of filtered reads"
   ]
  },
  {
   "cell_type": "markdown",
   "id": "39adf566-023a-474c-bcd7-be5b6f5a2320",
   "metadata": {},
   "source": [
    "After we've generated our trimmed and filtered reads in the processing notebook, we can move forward here with fastqc and multiqc on them.\n",
    "\n",
    "First let's check that our filtered read files are present where we expect:"
   ]
  },
  {
   "cell_type": "code",
   "execution_count": 26,
   "id": "f531f412-af11-4400-aa78-a49c9607befa",
   "metadata": {
    "tags": []
   },
   "outputs": [
    {
     "name": "stdout",
     "output_type": "stream",
     "text": [
      "F10_R1_filtered.fastq.gz  F8_R2_filtered.fastq.gz   G5_R1_filtered.fastq.gz\n",
      "F10_R2_filtered.fastq.gz  F9_R1_filtered.fastq.gz   G5_R2_filtered.fastq.gz\n",
      "F3_R1_filtered.fastq.gz   F9_R2_filtered.fastq.gz   G8_R1_filtered.fastq.gz\n",
      "F3_R2_filtered.fastq.gz   G10_R1_filtered.fastq.gz  G8_R2_filtered.fastq.gz\n",
      "F5_R1_filtered.fastq.gz   G10_R2_filtered.fastq.gz  G9_R1_filtered.fastq.gz\n",
      "F5_R2_filtered.fastq.gz   G3_R1_filtered.fastq.gz   G9_R2_filtered.fastq.gz\n",
      "F8_R1_filtered.fastq.gz   G3_R2_filtered.fastq.gz\n"
     ]
    }
   ],
   "source": [
    "ls trimmed-and-filtered-reads"
   ]
  },
  {
   "cell_type": "markdown",
   "id": "1d40089d-eef0-4c71-8911-832d510a98a0",
   "metadata": {},
   "source": [
    "And here is running fastqc and multiqc the same way we did above, except pointint to this filtered directory:"
   ]
  },
  {
   "cell_type": "code",
   "execution_count": 27,
   "id": "65553399-8b5b-4f61-83ff-4ec7e405dcb5",
   "metadata": {
    "tags": []
   },
   "outputs": [],
   "source": [
    "fastqc -t 4 -q -o fastqc-outputs trimmed-and-filtered-reads/*.gz "
   ]
  },
  {
   "cell_type": "code",
   "execution_count": 28,
   "id": "1712bc92-d7ae-45bd-9a86-52756a90de1a",
   "metadata": {
    "tags": []
   },
   "outputs": [
    {
     "name": "stdout",
     "output_type": "stream",
     "text": [
      "\n",
      "  \u001b[34m/\u001b[0m\u001b[32m/\u001b[0m\u001b[31m/\u001b[0m \u001b]8;id=708244;https://multiqc.info\u001b\\\u001b[1mMultiQC\u001b[0m\u001b]8;;\u001b\\ 🔍 \u001b[2m| v1.12\u001b[0m\n",
      "\n",
      "\u001b[34m|           multiqc\u001b[0m | \u001b[33mMultiQC Version v1.14 now available!\u001b[0m\n",
      "\u001b[34m|           multiqc\u001b[0m | Search path : /Users/mdlee4/GL4U-amplicon-tutorial/fastqc-outputs\n",
      "\u001b[2K\u001b[34m|\u001b[0m         \u001b[34msearching\u001b[0m | \u001b[38;2;114;156;31m━━━━━━━━━━━━━━━━━━━━━━━━━━━━━━━━━━━━━━━━\u001b[0m \u001b[35m100%\u001b[0m \u001b[32m47/47\u001b[0m  utputs/F9_R1_filtered_fastqc.html\u001b[0mltered_fastqc.html\u001b[0m\n",
      "\u001b[?25h\u001b[34m|            snippy\u001b[0m | Found 1 reports\n",
      "\u001b[34m|          bargraph\u001b[0m | \u001b[33mTried to make bar plot, but had no data: snippy_variants\u001b[0m\n",
      "\u001b[34m|            fastqc\u001b[0m | Found 20 reports\n",
      "\u001b[34m|           multiqc\u001b[0m | Compressing plot data\n",
      "\u001b[34m|           multiqc\u001b[0m | Report      : fastqc-outputs/filtered_multiqc.html\n",
      "\u001b[34m|           multiqc\u001b[0m | Data        : fastqc-outputs/filtered_multiqc_data\n",
      "\u001b[34m|           multiqc\u001b[0m | MultiQC complete\n"
     ]
    }
   ],
   "source": [
    "multiqc -o fastqc-outputs -n filtered_multiqc fastqc-outputs"
   ]
  },
  {
   "cell_type": "markdown",
   "id": "4871590c-be7b-4e7a-85f3-8ff8a51792fd",
   "metadata": {},
   "source": [
    "And again removing all intermediate files:"
   ]
  },
  {
   "cell_type": "code",
   "execution_count": 31,
   "id": "b55ad584-db9c-409a-8530-038acc8a4caf",
   "metadata": {
    "tags": []
   },
   "outputs": [
    {
     "name": "stdout",
     "output_type": "stream",
     "text": [
      "rm: cannot remove 'fastqc-outputs/*fastqc*': No such file or directory\n"
     ]
    },
    {
     "ename": "",
     "evalue": "1",
     "output_type": "error",
     "traceback": []
    }
   ],
   "source": [
    "rm fastqc-outputs/*fastqc*"
   ]
  },
  {
   "cell_type": "code",
   "execution_count": 32,
   "id": "158f2025-cf8c-42fb-a15a-c31af3090e4f",
   "metadata": {
    "tags": []
   },
   "outputs": [
    {
     "name": "stdout",
     "output_type": "stream",
     "text": [
      "filtered_multiqc.html  raw_multiqc.html\n",
      "filtered_multiqc_data  raw_multiqc_data\n"
     ]
    }
   ],
   "source": [
    "ls fastqc-outputs"
   ]
  },
  {
   "cell_type": "markdown",
   "id": "e0989a99-7dcb-4794-94a7-8f183f5a9346",
   "metadata": {},
   "source": [
    "Then like before, we can open and look at that html report either by navigating to it at the left of the Jupyter Lab, or by clicking **here (fix when on system)**. Be sure to click \"Trust HTML\" at the top-left after opening it."
   ]
  },
  {
   "cell_type": "markdown",
   "id": "7cd4938a-6eac-41b3-9c25-6b5fd700e920",
   "metadata": {},
   "source": [
    "**Now let's head back to the [amplicon processing notebook](05-amplicon-processing.ipynb#Generate-error-model-of-data), where we are ready to proceed with generating an error profile of our data.**"
   ]
  },
  {
   "cell_type": "markdown",
   "id": "72030809-0cca-406b-acce-34dd71d9bddb",
   "metadata": {
    "deletable": false,
    "tags": []
   },
   "source": [
    "\n",
    "---\n",
    "---\n",
    "\n",
    "[**Previous:** 3. R intro](03-R-intro.ipynb)\n",
    "<br>\n",
    "\n",
    "<div style=\"text-align: right\"><a href=\"05-amplicon-processing.ipynb\"><b>Next:</b> 5. Amplicon processing</a></div>\n",
    "\n"
   ]
  }
 ],
 "metadata": {
  "kernelspec": {
   "display_name": "Bash",
   "language": "bash",
   "name": "bash"
  },
  "language_info": {
   "codemirror_mode": "shell",
   "file_extension": ".sh",
   "mimetype": "text/x-sh",
   "name": "bash"
  }
 },
 "nbformat": 4,
 "nbformat_minor": 5
}
